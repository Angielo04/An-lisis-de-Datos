{
 "cells": [
  {
   "cell_type": "code",
   "execution_count": 91,
   "metadata": {},
   "outputs": [],
   "source": [
    "# utilizo la libreria de pandas\n",
    "\n",
    "import pandas as pd"
   ]
  },
  {
   "cell_type": "code",
   "execution_count": 92,
   "metadata": {},
   "outputs": [],
   "source": [
    "# Guardo los datos del cvs en un data frame llamado df\n",
    "\n",
    "df = pd.read_csv(\"C:\\\\Users\\\\anggl\\\\OneDrive\\\\Escritorio\\\\trabajo python\\\\Financiera.csv\")"
   ]
  },
  {
   "cell_type": "code",
   "execution_count": 93,
   "metadata": {},
   "outputs": [
    {
     "data": {
      "text/plain": [
       "(603232, 87)"
      ]
     },
     "execution_count": 93,
     "metadata": {},
     "output_type": "execute_result"
    }
   ],
   "source": [
    "# muestro la cantidad de filas y columnas\n",
    "\n",
    "df.shape\n"
   ]
  },
  {
   "cell_type": "code",
   "execution_count": 94,
   "metadata": {},
   "outputs": [
    {
     "name": "stdout",
     "output_type": "stream",
     "text": [
      "<class 'pandas.core.frame.DataFrame'>\n",
      "RangeIndex: 603232 entries, 0 to 603231\n",
      "Data columns (total 87 columns):\n",
      " #   Column                                    Non-Null Count   Dtype  \n",
      "---  ------                                    --------------   -----  \n",
      " 0   TIPO DE ENTIDAD                           603232 non-null  int64  \n",
      " 1   CODIGO DE LA  ENTIDAD                     603232 non-null  int64  \n",
      " 2   NOMBRE DE LA  ENTIDAD                     603232 non-null  object \n",
      " 3   FECHA DE CORTE                            603232 non-null  object \n",
      " 4   UNIDAD DE CAPTURA                         603232 non-null  int64  \n",
      " 5   DEPARTAMENTO                              603232 non-null  object \n",
      " 6   RENGLON                                   603232 non-null  int64  \n",
      " 7   MUNICIPIO                                 603232 non-null  object \n",
      " 8   TIPO                                      598100 non-null  object \n",
      " 9   NRO CORRESPONSALES PROPIOS                603232 non-null  int64  \n",
      " 10  NRO CORRESPONSALES TERCERIZADOS           603232 non-null  int64  \n",
      " 11  NRO CORRESPONSALES ACTIVOS                603232 non-null  int64  \n",
      " 12  NRO CORRESPONSALES                        603232 non-null  int64  \n",
      " 13  NRO DEPOSITOS                             603232 non-null  int64  \n",
      " 14  MONTO DEPOSITOS                           603232 non-null  float64\n",
      " 15  NRO GIROS ENVIADOS                        603232 non-null  int64  \n",
      " 16  MONTO GIROS ENVIADOS                      603232 non-null  int64  \n",
      " 17  NRO GIROS RECIBIDOS                       603232 non-null  int64  \n",
      " 18  MONTO GIROS RECIBIDOS                     603232 non-null  int64  \n",
      " 19  NRO PAGOS                                 603232 non-null  float64\n",
      " 20  MONTO PAGOS                               603232 non-null  float64\n",
      " 21  NRO RETIROS                               603232 non-null  int64  \n",
      " 22  MONTO RETIROS                             603232 non-null  float64\n",
      " 23  NRO TRANSFERENCIAS                        603232 non-null  int64  \n",
      " 24  MONTO TRANSFERENCIAS                      603232 non-null  int64  \n",
      " 25  NRO TOTAL                                 603232 non-null  float64\n",
      " 26  MONTO TOTAL                               603232 non-null  float64\n",
      " 27  NRO CTA AHORRO HASTA 1 SMMLV              603232 non-null  float64\n",
      " 28  SALDO CTA AHORRO HASTA 1 SMMLV            603232 non-null  float64\n",
      " 29  NRO CTA AHORRO > 1 SMMLV HASTA 3 SMMLV    603232 non-null  float64\n",
      " 30  SALDO CTA AHORRO> 1 SMMLV HASTA 3 SMMLV   603232 non-null  float64\n",
      " 31  NRO CTA AHORRO> 3 SMMLV HASTA 5 SMMLV     603232 non-null  float64\n",
      " 32  SALDO CTA AHORRO> 3 SMMLV HASTA 5 SMMLV   603232 non-null  float64\n",
      " 33  NRO CTA AHORRO ACTIVAS                    603232 non-null  int64  \n",
      " 34  SALDO CTA AHORRO ACTIVAS                  603232 non-null  float64\n",
      " 35  NRO CTA AHORRO MUJERES                    603232 non-null  float64\n",
      " 36  SALDO CTA AHORRO MUJERES                  603232 non-null  float64\n",
      " 37  NRO CTA AHORRO HOMBRES                    603232 non-null  float64\n",
      " 38  SALDO CTA AHORRO HOMBRES                  603232 non-null  float64\n",
      " 39  NRO TOTAL CTA AHORROS                     603232 non-null  float64\n",
      " 40  SALDO TOTAL CTA AHORROS                   603232 non-null  float64\n",
      " 41  NRO CTA AHORRO ELECTRONICAS ACTIVAS       603232 non-null  int64  \n",
      " 42  SALDO CTA AHORRO ELECTRONICAS ACTIVAS     603232 non-null  float64\n",
      " 43  NRO CTA AHORRO ELECTRONICAS MUJERES       603232 non-null  int64  \n",
      " 44  SALDO CTA AHORRO ELECTRONICAS MUJERES     603232 non-null  float64\n",
      " 45  NRO CTA AHORRO ELECTRONICAS HOMBRES       603232 non-null  int64  \n",
      " 46  SALDO CTA AHORRO ELECTRONICAS HOMBRES     603232 non-null  float64\n",
      " 47  NRO TOTAL CTA AHORROS ELECTRONICAS        603232 non-null  int64  \n",
      " 48  SALDO TOTAL CTA AHORROS ELECTRONICAS      603232 non-null  float64\n",
      " 49  NRO CREDITO CONSUMO MUJERES               603232 non-null  int64  \n",
      " 50  MONTO CREDITO CONSUMO MUJERES             603232 non-null  float64\n",
      " 51  NRO CREDITO CONSUMO HOMBRES               603232 non-null  int64  \n",
      " 52  MONTO CREDITO CONSUMO  HOMBRES            603232 non-null  float64\n",
      " 53  NRO TOTAL CREDITO CONSUMO                 603232 non-null  int64  \n",
      " 54  MONTO TOTAL CREDITO CONSUMO               603232 non-null  float64\n",
      " 55  NRO CRED CONS BAJO MONTO MUJERES          603232 non-null  int64  \n",
      " 56  MONTO CRED CONS BAJO MONTO MUJERES        603232 non-null  int64  \n",
      " 57  NRO CRED CONS BAJO MONTO HOMBRES          603232 non-null  int64  \n",
      " 58  MONTO CRED CONS BAJO MONTO HOMBRES        603232 non-null  int64  \n",
      " 59  NRO TOTAL CRED CONS BAJO MONTO            603232 non-null  int64  \n",
      " 60  MONTO TOTAL CRED CONS BAJO MONTO          603232 non-null  int64  \n",
      " 61  NRO CREDITO VIVIENDA MUJERES              603232 non-null  int64  \n",
      " 62  MONTO CREDITO VIVIENDA MUJERES            603232 non-null  float64\n",
      " 63  NRO CREDITO VIVIENDA HOMBRES              603232 non-null  int64  \n",
      " 64  MONTO CREDITO VIVIENDA HOMBRES            603232 non-null  float64\n",
      " 65  NRO TOTAL CREDITO VIVIENDA                603232 non-null  int64  \n",
      " 66  MONTO TOTAL CREDITO VIVIENDA              603232 non-null  float64\n",
      " 67  NRO MICROCREDITO HASTA 1 SMMLV            603232 non-null  int64  \n",
      " 68  MONTO MICROCREDITO HASTA 1 SMMLV          603232 non-null  float64\n",
      " 69  NRO MICROCREDITO > 1 SMMLV HASTA 2 SMMLV  603232 non-null  int64  \n",
      " 70  MONTO MICROCREDITO> 1SMMLV HASTA 2SMMLV   603232 non-null  float64\n",
      " 71  NRO MICROCREDITO> 2 SMMLV HASTA 3 SMMLV   603232 non-null  int64  \n",
      " 72  MONTO MICROCREDITO> 2SMMLV HASTA 3SMMLV   603232 non-null  float64\n",
      " 73  NRO MICROCREDITO> 3 SMMLV HASTA 4 SMMLV   603232 non-null  int64  \n",
      " 74  MONTO MICROCREDITO> 3SMMLV HASTA 4SMMLV   603232 non-null  float64\n",
      " 75  NRO MICROCREDITO> 4 SMMLV HASTA 10 SMMLV  603232 non-null  int64  \n",
      " 76  MONTO MICROCREDITO> 4SMMLV HASTA 10SMML   603232 non-null  float64\n",
      " 77  NRO MICROCREDITO> 10SMMLV HASTA 25SMMLV   603232 non-null  int64  \n",
      " 78  MONTO MICROCREDI> 10SMMLV HASTA 25SMMLV   603232 non-null  float64\n",
      " 79  NRO MICROCREDITO MUJERES                  603232 non-null  int64  \n",
      " 80  MONTO MICROCREDITO MUJERES                603232 non-null  float64\n",
      " 81  NRO MICROCREDITO HOMBRES                  603232 non-null  int64  \n",
      " 82  MONTO MICROCREDITO HOMBRES                603232 non-null  float64\n",
      " 83  NRO TOTAL MICROCREDITO                    603232 non-null  int64  \n",
      " 84  MONTO TOTAL MICROCREDITO                  603232 non-null  float64\n",
      " 85  NRO PROD DEPOSITO NIVEL NACIONAL          603232 non-null  float64\n",
      " 86  MONTO PROD DEPOSITO NIVEL NACIONAL        603232 non-null  float64\n",
      "dtypes: float64(40), int64(42), object(5)\n",
      "memory usage: 400.4+ MB\n"
     ]
    }
   ],
   "source": [
    "# informacion de toda la base\n",
    "\n",
    "df.info()"
   ]
  },
  {
   "cell_type": "code",
   "execution_count": 95,
   "metadata": {},
   "outputs": [
    {
     "data": {
      "text/html": [
       "<div>\n",
       "<style scoped>\n",
       "    .dataframe tbody tr th:only-of-type {\n",
       "        vertical-align: middle;\n",
       "    }\n",
       "\n",
       "    .dataframe tbody tr th {\n",
       "        vertical-align: top;\n",
       "    }\n",
       "\n",
       "    .dataframe thead th {\n",
       "        text-align: right;\n",
       "    }\n",
       "</style>\n",
       "<table border=\"1\" class=\"dataframe\">\n",
       "  <thead>\n",
       "    <tr style=\"text-align: right;\">\n",
       "      <th></th>\n",
       "      <th>TIPO DE ENTIDAD</th>\n",
       "      <th>CODIGO DE LA  ENTIDAD</th>\n",
       "      <th>NOMBRE DE LA  ENTIDAD</th>\n",
       "      <th>FECHA DE CORTE</th>\n",
       "      <th>UNIDAD DE CAPTURA</th>\n",
       "      <th>DEPARTAMENTO</th>\n",
       "      <th>RENGLON</th>\n",
       "      <th>MUNICIPIO</th>\n",
       "      <th>TIPO</th>\n",
       "      <th>NRO CORRESPONSALES PROPIOS</th>\n",
       "      <th>...</th>\n",
       "      <th>NRO MICROCREDITO&gt; 10SMMLV HASTA 25SMMLV</th>\n",
       "      <th>MONTO MICROCREDI&gt; 10SMMLV HASTA 25SMMLV</th>\n",
       "      <th>NRO MICROCREDITO MUJERES</th>\n",
       "      <th>MONTO MICROCREDITO MUJERES</th>\n",
       "      <th>NRO MICROCREDITO HOMBRES</th>\n",
       "      <th>MONTO MICROCREDITO HOMBRES</th>\n",
       "      <th>NRO TOTAL MICROCREDITO</th>\n",
       "      <th>MONTO TOTAL MICROCREDITO</th>\n",
       "      <th>NRO PROD DEPOSITO NIVEL NACIONAL</th>\n",
       "      <th>MONTO PROD DEPOSITO NIVEL NACIONAL</th>\n",
       "    </tr>\n",
       "  </thead>\n",
       "  <tbody>\n",
       "    <tr>\n",
       "      <th>0</th>\n",
       "      <td>1</td>\n",
       "      <td>39</td>\n",
       "      <td>Banco Davivienda</td>\n",
       "      <td>31/12/2017</td>\n",
       "      <td>1</td>\n",
       "      <td>ANTIOQUIA</td>\n",
       "      <td>847</td>\n",
       "      <td>URRAO</td>\n",
       "      <td>TRANS Y TRAMITES EN CORRESPONSALES</td>\n",
       "      <td>0</td>\n",
       "      <td>...</td>\n",
       "      <td>0</td>\n",
       "      <td>0.0</td>\n",
       "      <td>0</td>\n",
       "      <td>0.0</td>\n",
       "      <td>0</td>\n",
       "      <td>0.0</td>\n",
       "      <td>0</td>\n",
       "      <td>0.0</td>\n",
       "      <td>0.0</td>\n",
       "      <td>0.000000e+00</td>\n",
       "    </tr>\n",
       "    <tr>\n",
       "      <th>1</th>\n",
       "      <td>1</td>\n",
       "      <td>9</td>\n",
       "      <td>Citibank</td>\n",
       "      <td>31/12/2017</td>\n",
       "      <td>1</td>\n",
       "      <td>ANTIOQUIA</td>\n",
       "      <td>209</td>\n",
       "      <td>CONCORDIA</td>\n",
       "      <td>TRANS Y TRAMITES EN CORRESPONSALES</td>\n",
       "      <td>0</td>\n",
       "      <td>...</td>\n",
       "      <td>0</td>\n",
       "      <td>0.0</td>\n",
       "      <td>0</td>\n",
       "      <td>0.0</td>\n",
       "      <td>0</td>\n",
       "      <td>0.0</td>\n",
       "      <td>0</td>\n",
       "      <td>0.0</td>\n",
       "      <td>0.0</td>\n",
       "      <td>0.000000e+00</td>\n",
       "    </tr>\n",
       "    <tr>\n",
       "      <th>2</th>\n",
       "      <td>1</td>\n",
       "      <td>1</td>\n",
       "      <td>Banco De Bogota</td>\n",
       "      <td>31/12/2017</td>\n",
       "      <td>1</td>\n",
       "      <td>ANTIOQUIA</td>\n",
       "      <td>360</td>\n",
       "      <td>ITAGUI</td>\n",
       "      <td>CREDITO DE VIVIENDA</td>\n",
       "      <td>0</td>\n",
       "      <td>...</td>\n",
       "      <td>0</td>\n",
       "      <td>0.0</td>\n",
       "      <td>0</td>\n",
       "      <td>0.0</td>\n",
       "      <td>0</td>\n",
       "      <td>0.0</td>\n",
       "      <td>0</td>\n",
       "      <td>0.0</td>\n",
       "      <td>0.0</td>\n",
       "      <td>0.000000e+00</td>\n",
       "    </tr>\n",
       "    <tr>\n",
       "      <th>3</th>\n",
       "      <td>1</td>\n",
       "      <td>58</td>\n",
       "      <td>Coopcentral</td>\n",
       "      <td>31/12/2017</td>\n",
       "      <td>1</td>\n",
       "      <td>ANTIOQUIA</td>\n",
       "      <td>1</td>\n",
       "      <td>MEDELLIN</td>\n",
       "      <td>MICROCREDITO</td>\n",
       "      <td>0</td>\n",
       "      <td>...</td>\n",
       "      <td>0</td>\n",
       "      <td>0.0</td>\n",
       "      <td>0</td>\n",
       "      <td>0.0</td>\n",
       "      <td>1</td>\n",
       "      <td>29000000.0</td>\n",
       "      <td>1</td>\n",
       "      <td>29000000.0</td>\n",
       "      <td>0.0</td>\n",
       "      <td>0.000000e+00</td>\n",
       "    </tr>\n",
       "    <tr>\n",
       "      <th>4</th>\n",
       "      <td>1</td>\n",
       "      <td>52</td>\n",
       "      <td>Bancamía S.A.</td>\n",
       "      <td>31/12/2017</td>\n",
       "      <td>1</td>\n",
       "      <td>ANTIOQUIA</td>\n",
       "      <td>649</td>\n",
       "      <td>SAN CARLOS</td>\n",
       "      <td>CORRESPONSALES</td>\n",
       "      <td>0</td>\n",
       "      <td>...</td>\n",
       "      <td>0</td>\n",
       "      <td>0.0</td>\n",
       "      <td>0</td>\n",
       "      <td>0.0</td>\n",
       "      <td>0</td>\n",
       "      <td>0.0</td>\n",
       "      <td>0</td>\n",
       "      <td>0.0</td>\n",
       "      <td>0.0</td>\n",
       "      <td>0.000000e+00</td>\n",
       "    </tr>\n",
       "    <tr>\n",
       "      <th>...</th>\n",
       "      <td>...</td>\n",
       "      <td>...</td>\n",
       "      <td>...</td>\n",
       "      <td>...</td>\n",
       "      <td>...</td>\n",
       "      <td>...</td>\n",
       "      <td>...</td>\n",
       "      <td>...</td>\n",
       "      <td>...</td>\n",
       "      <td>...</td>\n",
       "      <td>...</td>\n",
       "      <td>...</td>\n",
       "      <td>...</td>\n",
       "      <td>...</td>\n",
       "      <td>...</td>\n",
       "      <td>...</td>\n",
       "      <td>...</td>\n",
       "      <td>...</td>\n",
       "      <td>...</td>\n",
       "      <td>...</td>\n",
       "      <td>...</td>\n",
       "    </tr>\n",
       "    <tr>\n",
       "      <th>603227</th>\n",
       "      <td>1</td>\n",
       "      <td>49</td>\n",
       "      <td>Av Villas</td>\n",
       "      <td>31/03/2021</td>\n",
       "      <td>41</td>\n",
       "      <td>CUENTAS DE AHORRO ELECTRONICAS</td>\n",
       "      <td>15</td>\n",
       "      <td>RETIROS</td>\n",
       "      <td>NaN</td>\n",
       "      <td>0</td>\n",
       "      <td>...</td>\n",
       "      <td>0</td>\n",
       "      <td>0.0</td>\n",
       "      <td>0</td>\n",
       "      <td>0.0</td>\n",
       "      <td>0</td>\n",
       "      <td>0.0</td>\n",
       "      <td>0</td>\n",
       "      <td>0.0</td>\n",
       "      <td>5.0</td>\n",
       "      <td>5.600000e+05</td>\n",
       "    </tr>\n",
       "    <tr>\n",
       "      <th>603228</th>\n",
       "      <td>1</td>\n",
       "      <td>43</td>\n",
       "      <td>Banagrario</td>\n",
       "      <td>31/03/2021</td>\n",
       "      <td>41</td>\n",
       "      <td>CUENTAS DE AHORRO ELECTRONICAS</td>\n",
       "      <td>10</td>\n",
       "      <td>PAGOS</td>\n",
       "      <td>NaN</td>\n",
       "      <td>0</td>\n",
       "      <td>...</td>\n",
       "      <td>0</td>\n",
       "      <td>0.0</td>\n",
       "      <td>0</td>\n",
       "      <td>0.0</td>\n",
       "      <td>0</td>\n",
       "      <td>0.0</td>\n",
       "      <td>0</td>\n",
       "      <td>0.0</td>\n",
       "      <td>267902.0</td>\n",
       "      <td>2.402198e+11</td>\n",
       "    </tr>\n",
       "    <tr>\n",
       "      <th>603229</th>\n",
       "      <td>1</td>\n",
       "      <td>43</td>\n",
       "      <td>Banagrario</td>\n",
       "      <td>31/03/2021</td>\n",
       "      <td>41</td>\n",
       "      <td>CUENTAS DE AHORRO ELECTRONICAS</td>\n",
       "      <td>20</td>\n",
       "      <td>TRANSFERENCIAS ENVIADAS</td>\n",
       "      <td>NaN</td>\n",
       "      <td>0</td>\n",
       "      <td>...</td>\n",
       "      <td>0</td>\n",
       "      <td>0.0</td>\n",
       "      <td>0</td>\n",
       "      <td>0.0</td>\n",
       "      <td>0</td>\n",
       "      <td>0.0</td>\n",
       "      <td>0</td>\n",
       "      <td>0.0</td>\n",
       "      <td>146.0</td>\n",
       "      <td>4.552784e+07</td>\n",
       "    </tr>\n",
       "    <tr>\n",
       "      <th>603230</th>\n",
       "      <td>1</td>\n",
       "      <td>43</td>\n",
       "      <td>Banagrario</td>\n",
       "      <td>31/03/2021</td>\n",
       "      <td>41</td>\n",
       "      <td>CUENTAS DE AHORRO ELECTRONICAS</td>\n",
       "      <td>25</td>\n",
       "      <td>TRANSFERENCIAS RECIBIDAS</td>\n",
       "      <td>NaN</td>\n",
       "      <td>0</td>\n",
       "      <td>...</td>\n",
       "      <td>0</td>\n",
       "      <td>0.0</td>\n",
       "      <td>0</td>\n",
       "      <td>0.0</td>\n",
       "      <td>0</td>\n",
       "      <td>0.0</td>\n",
       "      <td>0</td>\n",
       "      <td>0.0</td>\n",
       "      <td>532.0</td>\n",
       "      <td>2.137011e+08</td>\n",
       "    </tr>\n",
       "    <tr>\n",
       "      <th>603231</th>\n",
       "      <td>1</td>\n",
       "      <td>43</td>\n",
       "      <td>Banagrario</td>\n",
       "      <td>31/03/2021</td>\n",
       "      <td>41</td>\n",
       "      <td>CUENTAS DE AHORRO ELECTRONICAS</td>\n",
       "      <td>15</td>\n",
       "      <td>RETIROS</td>\n",
       "      <td>NaN</td>\n",
       "      <td>0</td>\n",
       "      <td>...</td>\n",
       "      <td>0</td>\n",
       "      <td>0.0</td>\n",
       "      <td>0</td>\n",
       "      <td>0.0</td>\n",
       "      <td>0</td>\n",
       "      <td>0.0</td>\n",
       "      <td>0</td>\n",
       "      <td>0.0</td>\n",
       "      <td>7552.0</td>\n",
       "      <td>2.097551e+09</td>\n",
       "    </tr>\n",
       "  </tbody>\n",
       "</table>\n",
       "<p>603232 rows × 87 columns</p>\n",
       "</div>"
      ],
      "text/plain": [
       "        TIPO DE ENTIDAD  CODIGO DE LA  ENTIDAD NOMBRE DE LA  ENTIDAD  \\\n",
       "0                     1                     39      Banco Davivienda   \n",
       "1                     1                      9              Citibank   \n",
       "2                     1                      1       Banco De Bogota   \n",
       "3                     1                     58           Coopcentral   \n",
       "4                     1                     52         Bancamía S.A.   \n",
       "...                 ...                    ...                   ...   \n",
       "603227                1                     49             Av Villas   \n",
       "603228                1                     43            Banagrario   \n",
       "603229                1                     43            Banagrario   \n",
       "603230                1                     43            Banagrario   \n",
       "603231                1                     43            Banagrario   \n",
       "\n",
       "       FECHA DE CORTE  UNIDAD DE CAPTURA                    DEPARTAMENTO  \\\n",
       "0          31/12/2017                  1                       ANTIOQUIA   \n",
       "1          31/12/2017                  1                       ANTIOQUIA   \n",
       "2          31/12/2017                  1                       ANTIOQUIA   \n",
       "3          31/12/2017                  1                       ANTIOQUIA   \n",
       "4          31/12/2017                  1                       ANTIOQUIA   \n",
       "...               ...                ...                             ...   \n",
       "603227     31/03/2021                 41  CUENTAS DE AHORRO ELECTRONICAS   \n",
       "603228     31/03/2021                 41  CUENTAS DE AHORRO ELECTRONICAS   \n",
       "603229     31/03/2021                 41  CUENTAS DE AHORRO ELECTRONICAS   \n",
       "603230     31/03/2021                 41  CUENTAS DE AHORRO ELECTRONICAS   \n",
       "603231     31/03/2021                 41  CUENTAS DE AHORRO ELECTRONICAS   \n",
       "\n",
       "        RENGLON                 MUNICIPIO                                TIPO  \\\n",
       "0           847                     URRAO  TRANS Y TRAMITES EN CORRESPONSALES   \n",
       "1           209                 CONCORDIA  TRANS Y TRAMITES EN CORRESPONSALES   \n",
       "2           360                    ITAGUI                 CREDITO DE VIVIENDA   \n",
       "3             1                  MEDELLIN                        MICROCREDITO   \n",
       "4           649                SAN CARLOS                      CORRESPONSALES   \n",
       "...         ...                       ...                                 ...   \n",
       "603227       15                   RETIROS                                 NaN   \n",
       "603228       10                     PAGOS                                 NaN   \n",
       "603229       20   TRANSFERENCIAS ENVIADAS                                 NaN   \n",
       "603230       25  TRANSFERENCIAS RECIBIDAS                                 NaN   \n",
       "603231       15                   RETIROS                                 NaN   \n",
       "\n",
       "        NRO CORRESPONSALES PROPIOS  ...  \\\n",
       "0                                0  ...   \n",
       "1                                0  ...   \n",
       "2                                0  ...   \n",
       "3                                0  ...   \n",
       "4                                0  ...   \n",
       "...                            ...  ...   \n",
       "603227                           0  ...   \n",
       "603228                           0  ...   \n",
       "603229                           0  ...   \n",
       "603230                           0  ...   \n",
       "603231                           0  ...   \n",
       "\n",
       "        NRO MICROCREDITO> 10SMMLV HASTA 25SMMLV  \\\n",
       "0                                             0   \n",
       "1                                             0   \n",
       "2                                             0   \n",
       "3                                             0   \n",
       "4                                             0   \n",
       "...                                         ...   \n",
       "603227                                        0   \n",
       "603228                                        0   \n",
       "603229                                        0   \n",
       "603230                                        0   \n",
       "603231                                        0   \n",
       "\n",
       "        MONTO MICROCREDI> 10SMMLV HASTA 25SMMLV  NRO MICROCREDITO MUJERES  \\\n",
       "0                                           0.0                         0   \n",
       "1                                           0.0                         0   \n",
       "2                                           0.0                         0   \n",
       "3                                           0.0                         0   \n",
       "4                                           0.0                         0   \n",
       "...                                         ...                       ...   \n",
       "603227                                      0.0                         0   \n",
       "603228                                      0.0                         0   \n",
       "603229                                      0.0                         0   \n",
       "603230                                      0.0                         0   \n",
       "603231                                      0.0                         0   \n",
       "\n",
       "        MONTO MICROCREDITO MUJERES  NRO MICROCREDITO HOMBRES  \\\n",
       "0                              0.0                         0   \n",
       "1                              0.0                         0   \n",
       "2                              0.0                         0   \n",
       "3                              0.0                         1   \n",
       "4                              0.0                         0   \n",
       "...                            ...                       ...   \n",
       "603227                         0.0                         0   \n",
       "603228                         0.0                         0   \n",
       "603229                         0.0                         0   \n",
       "603230                         0.0                         0   \n",
       "603231                         0.0                         0   \n",
       "\n",
       "        MONTO MICROCREDITO HOMBRES  NRO TOTAL MICROCREDITO   \\\n",
       "0                              0.0                        0   \n",
       "1                              0.0                        0   \n",
       "2                              0.0                        0   \n",
       "3                       29000000.0                        1   \n",
       "4                              0.0                        0   \n",
       "...                            ...                      ...   \n",
       "603227                         0.0                        0   \n",
       "603228                         0.0                        0   \n",
       "603229                         0.0                        0   \n",
       "603230                         0.0                        0   \n",
       "603231                         0.0                        0   \n",
       "\n",
       "        MONTO TOTAL MICROCREDITO  NRO PROD DEPOSITO NIVEL NACIONAL  \\\n",
       "0                            0.0                               0.0   \n",
       "1                            0.0                               0.0   \n",
       "2                            0.0                               0.0   \n",
       "3                     29000000.0                               0.0   \n",
       "4                            0.0                               0.0   \n",
       "...                          ...                               ...   \n",
       "603227                       0.0                               5.0   \n",
       "603228                       0.0                          267902.0   \n",
       "603229                       0.0                             146.0   \n",
       "603230                       0.0                             532.0   \n",
       "603231                       0.0                            7552.0   \n",
       "\n",
       "        MONTO PROD DEPOSITO NIVEL NACIONAL  \n",
       "0                             0.000000e+00  \n",
       "1                             0.000000e+00  \n",
       "2                             0.000000e+00  \n",
       "3                             0.000000e+00  \n",
       "4                             0.000000e+00  \n",
       "...                                    ...  \n",
       "603227                        5.600000e+05  \n",
       "603228                        2.402198e+11  \n",
       "603229                        4.552784e+07  \n",
       "603230                        2.137011e+08  \n",
       "603231                        2.097551e+09  \n",
       "\n",
       "[603232 rows x 87 columns]"
      ]
     },
     "execution_count": 95,
     "metadata": {},
     "output_type": "execute_result"
    }
   ],
   "source": [
    "# muestra los primeros 5 y los primeros ultimos 5\n",
    "df"
   ]
  },
  {
   "cell_type": "code",
   "execution_count": 96,
   "metadata": {},
   "outputs": [
    {
     "data": {
      "text/plain": [
       "Index(['TIPO DE ENTIDAD', 'CODIGO DE LA  ENTIDAD', 'NOMBRE DE LA  ENTIDAD',\n",
       "       'FECHA DE CORTE', 'UNIDAD DE CAPTURA', 'DEPARTAMENTO', 'RENGLON',\n",
       "       'MUNICIPIO', 'TIPO', 'NRO CORRESPONSALES PROPIOS',\n",
       "       'NRO CORRESPONSALES TERCERIZADOS', 'NRO CORRESPONSALES ACTIVOS',\n",
       "       'NRO CORRESPONSALES', 'NRO DEPOSITOS', 'MONTO DEPOSITOS',\n",
       "       'NRO GIROS ENVIADOS ', 'MONTO GIROS ENVIADOS ', 'NRO GIROS RECIBIDOS',\n",
       "       'MONTO GIROS RECIBIDOS', 'NRO PAGOS', 'MONTO PAGOS', 'NRO RETIROS',\n",
       "       'MONTO RETIROS', 'NRO TRANSFERENCIAS', 'MONTO TRANSFERENCIAS',\n",
       "       'NRO TOTAL ', 'MONTO TOTAL', 'NRO CTA AHORRO HASTA 1 SMMLV',\n",
       "       'SALDO CTA AHORRO HASTA 1 SMMLV',\n",
       "       'NRO CTA AHORRO > 1 SMMLV HASTA 3 SMMLV',\n",
       "       'SALDO CTA AHORRO> 1 SMMLV HASTA 3 SMMLV',\n",
       "       'NRO CTA AHORRO> 3 SMMLV HASTA 5 SMMLV',\n",
       "       'SALDO CTA AHORRO> 3 SMMLV HASTA 5 SMMLV', 'NRO CTA AHORRO ACTIVAS',\n",
       "       'SALDO CTA AHORRO ACTIVAS', 'NRO CTA AHORRO MUJERES',\n",
       "       'SALDO CTA AHORRO MUJERES', 'NRO CTA AHORRO HOMBRES',\n",
       "       'SALDO CTA AHORRO HOMBRES', 'NRO TOTAL CTA AHORROS',\n",
       "       'SALDO TOTAL CTA AHORROS', 'NRO CTA AHORRO ELECTRONICAS ACTIVAS',\n",
       "       'SALDO CTA AHORRO ELECTRONICAS ACTIVAS',\n",
       "       'NRO CTA AHORRO ELECTRONICAS MUJERES',\n",
       "       'SALDO CTA AHORRO ELECTRONICAS MUJERES',\n",
       "       'NRO CTA AHORRO ELECTRONICAS HOMBRES',\n",
       "       'SALDO CTA AHORRO ELECTRONICAS HOMBRES',\n",
       "       'NRO TOTAL CTA AHORROS ELECTRONICAS ',\n",
       "       'SALDO TOTAL CTA AHORROS ELECTRONICAS ', 'NRO CREDITO CONSUMO MUJERES',\n",
       "       'MONTO CREDITO CONSUMO MUJERES', 'NRO CREDITO CONSUMO HOMBRES',\n",
       "       'MONTO CREDITO CONSUMO  HOMBRES', 'NRO TOTAL CREDITO CONSUMO',\n",
       "       'MONTO TOTAL CREDITO CONSUMO', 'NRO CRED CONS BAJO MONTO MUJERES',\n",
       "       'MONTO CRED CONS BAJO MONTO MUJERES',\n",
       "       'NRO CRED CONS BAJO MONTO HOMBRES',\n",
       "       'MONTO CRED CONS BAJO MONTO HOMBRES', 'NRO TOTAL CRED CONS BAJO MONTO',\n",
       "       'MONTO TOTAL CRED CONS BAJO MONTO', 'NRO CREDITO VIVIENDA MUJERES',\n",
       "       'MONTO CREDITO VIVIENDA MUJERES', 'NRO CREDITO VIVIENDA HOMBRES',\n",
       "       'MONTO CREDITO VIVIENDA HOMBRES', 'NRO TOTAL CREDITO VIVIENDA',\n",
       "       'MONTO TOTAL CREDITO VIVIENDA', 'NRO MICROCREDITO HASTA 1 SMMLV',\n",
       "       'MONTO MICROCREDITO HASTA 1 SMMLV',\n",
       "       'NRO MICROCREDITO > 1 SMMLV HASTA 2 SMMLV',\n",
       "       'MONTO MICROCREDITO> 1SMMLV HASTA 2SMMLV',\n",
       "       'NRO MICROCREDITO> 2 SMMLV HASTA 3 SMMLV',\n",
       "       'MONTO MICROCREDITO> 2SMMLV HASTA 3SMMLV',\n",
       "       'NRO MICROCREDITO> 3 SMMLV HASTA 4 SMMLV',\n",
       "       'MONTO MICROCREDITO> 3SMMLV HASTA 4SMMLV',\n",
       "       'NRO MICROCREDITO> 4 SMMLV HASTA 10 SMMLV',\n",
       "       'MONTO MICROCREDITO> 4SMMLV HASTA 10SMML',\n",
       "       'NRO MICROCREDITO> 10SMMLV HASTA 25SMMLV',\n",
       "       'MONTO MICROCREDI> 10SMMLV HASTA 25SMMLV', 'NRO MICROCREDITO MUJERES',\n",
       "       'MONTO MICROCREDITO MUJERES', 'NRO MICROCREDITO HOMBRES',\n",
       "       'MONTO MICROCREDITO HOMBRES', 'NRO TOTAL MICROCREDITO ',\n",
       "       'MONTO TOTAL MICROCREDITO', 'NRO PROD DEPOSITO NIVEL NACIONAL',\n",
       "       'MONTO PROD DEPOSITO NIVEL NACIONAL'],\n",
       "      dtype='object')"
      ]
     },
     "execution_count": 96,
     "metadata": {},
     "output_type": "execute_result"
    }
   ],
   "source": [
    "# muestra las columnas que tenga el archivo\n",
    "df.columns"
   ]
  },
  {
   "cell_type": "code",
   "execution_count": 97,
   "metadata": {},
   "outputs": [],
   "source": [
    "df_cleaned = df.drop(columns=[\"TIPO DE ENTIDAD\",\"CODIGO DE LA  ENTIDAD\",\"UNIDAD DE CAPTURA\",\"RENGLON\",\"TIPO\",\"NRO CORRESPONSALES PROPIOS\",\"NRO CORRESPONSALES TERCERIZADOS\",\"NRO CORRESPONSALES ACTIVOS\",\"NRO GIROS ENVIADOS \",\"MONTO GIROS ENVIADOS \",\"NRO GIROS RECIBIDOS\",\"MONTO GIROS RECIBIDOS\",\"NRO PAGOS\",\"MONTO PAGOS\",\"NRO TRANSFERENCIAS\",\"MONTO TRANSFERENCIAS\",\"MONTO TRANSFERENCIAS\",\"NRO TOTAL \",\"MONTO TOTAL\",\"NRO CTA AHORRO HASTA 1 SMMLV\",\"SALDO CTA AHORRO HASTA 1 SMMLV\",\"NRO CTA AHORRO > 1 SMMLV HASTA 3 SMMLV\",\"SALDO CTA AHORRO> 1 SMMLV HASTA 3 SMMLV\",\"NRO CTA AHORRO> 3 SMMLV HASTA 5 SMMLV\",\"SALDO CTA AHORRO> 3 SMMLV HASTA 5 SMMLV\",\"NRO TOTAL CTA AHORROS\",\"SALDO TOTAL CTA AHORROS\",\"NRO CTA AHORRO ELECTRONICAS ACTIVAS\",\"SALDO CTA AHORRO ELECTRONICAS ACTIVAS\",\"NRO CTA AHORRO ELECTRONICAS MUJERES\",\"SALDO CTA AHORRO ELECTRONICAS MUJERES\",\"NRO CTA AHORRO ELECTRONICAS HOMBRES\",\"SALDO CTA AHORRO ELECTRONICAS HOMBRES\",\"NRO TOTAL CTA AHORROS ELECTRONICAS \",\"SALDO TOTAL CTA AHORROS ELECTRONICAS \",\"NRO TOTAL CREDITO CONSUMO\",\"NRO TOTAL CREDITO CONSUMO\",\"MONTO TOTAL CREDITO CONSUMO\",\"NRO CRED CONS BAJO MONTO MUJERES\",\"MONTO CRED CONS BAJO MONTO MUJERES\",\"NRO CRED CONS BAJO MONTO HOMBRES\",\"MONTO CRED CONS BAJO MONTO HOMBRES\",\"NRO TOTAL CRED CONS BAJO MONTO\",\"MONTO TOTAL CRED CONS BAJO MONTO\",\"NRO TOTAL CREDITO VIVIENDA\",\"MONTO TOTAL CREDITO VIVIENDA\",\"NRO MICROCREDITO HASTA 1 SMMLV\",\"MONTO MICROCREDITO HASTA 1 SMMLV\",\"NRO MICROCREDITO > 1 SMMLV HASTA 2 SMMLV\",\"MONTO MICROCREDITO> 1SMMLV HASTA 2SMMLV\",\"NRO MICROCREDITO> 2 SMMLV HASTA 3 SMMLV\",\"MONTO MICROCREDITO> 2SMMLV HASTA 3SMMLV\",\"NRO MICROCREDITO> 3 SMMLV HASTA 4 SMMLV\",\"MONTO MICROCREDITO> 3SMMLV HASTA 4SMMLV\",\"NRO MICROCREDITO> 4 SMMLV HASTA 10 SMMLV\",\"MONTO MICROCREDITO> 4SMMLV HASTA 10SMML\",\"NRO MICROCREDITO> 10SMMLV HASTA 25SMMLV\",\"MONTO MICROCREDI> 10SMMLV HASTA 25SMMLV\",\"NRO TOTAL MICROCREDITO \",\"NRO PROD DEPOSITO NIVEL NACIONAL\",\"MONTO PROD DEPOSITO NIVEL NACIONAL\",\"MONTO TOTAL MICROCREDITO\",\"MUNICIPIO\"])"
   ]
  },
  {
   "cell_type": "code",
   "execution_count": 98,
   "metadata": {},
   "outputs": [
    {
     "name": "stdout",
     "output_type": "stream",
     "text": [
      "<class 'pandas.core.frame.DataFrame'>\n",
      "RangeIndex: 603232 entries, 0 to 603231\n",
      "Data columns (total 26 columns):\n",
      " #   Column                          Non-Null Count   Dtype  \n",
      "---  ------                          --------------   -----  \n",
      " 0   NOMBRE DE LA  ENTIDAD           603232 non-null  object \n",
      " 1   FECHA DE CORTE                  603232 non-null  object \n",
      " 2   DEPARTAMENTO                    603232 non-null  object \n",
      " 3   NRO CORRESPONSALES              603232 non-null  int64  \n",
      " 4   NRO DEPOSITOS                   603232 non-null  int64  \n",
      " 5   MONTO DEPOSITOS                 603232 non-null  float64\n",
      " 6   NRO RETIROS                     603232 non-null  int64  \n",
      " 7   MONTO RETIROS                   603232 non-null  float64\n",
      " 8   NRO CTA AHORRO ACTIVAS          603232 non-null  int64  \n",
      " 9   SALDO CTA AHORRO ACTIVAS        603232 non-null  float64\n",
      " 10  NRO CTA AHORRO MUJERES          603232 non-null  float64\n",
      " 11  SALDO CTA AHORRO MUJERES        603232 non-null  float64\n",
      " 12  NRO CTA AHORRO HOMBRES          603232 non-null  float64\n",
      " 13  SALDO CTA AHORRO HOMBRES        603232 non-null  float64\n",
      " 14  NRO CREDITO CONSUMO MUJERES     603232 non-null  int64  \n",
      " 15  MONTO CREDITO CONSUMO MUJERES   603232 non-null  float64\n",
      " 16  NRO CREDITO CONSUMO HOMBRES     603232 non-null  int64  \n",
      " 17  MONTO CREDITO CONSUMO  HOMBRES  603232 non-null  float64\n",
      " 18  NRO CREDITO VIVIENDA MUJERES    603232 non-null  int64  \n",
      " 19  MONTO CREDITO VIVIENDA MUJERES  603232 non-null  float64\n",
      " 20  NRO CREDITO VIVIENDA HOMBRES    603232 non-null  int64  \n",
      " 21  MONTO CREDITO VIVIENDA HOMBRES  603232 non-null  float64\n",
      " 22  NRO MICROCREDITO MUJERES        603232 non-null  int64  \n",
      " 23  MONTO MICROCREDITO MUJERES      603232 non-null  float64\n",
      " 24  NRO MICROCREDITO HOMBRES        603232 non-null  int64  \n",
      " 25  MONTO MICROCREDITO HOMBRES      603232 non-null  float64\n",
      "dtypes: float64(13), int64(10), object(3)\n",
      "memory usage: 119.7+ MB\n"
     ]
    }
   ],
   "source": [
    "df_cleaned.info()"
   ]
  },
  {
   "cell_type": "code",
   "execution_count": 99,
   "metadata": {},
   "outputs": [],
   "source": [
    "# Para cambiar el nombre de una columna se utilizo .rename()\n",
    "# inplace=True se utilizo para que el cambio se realice directamente en el DataFrame sin tener que asignar el resultado a una nueva variable.\n",
    "\n",
    "df_cleaned.rename(columns={'NOMBRE DE LA  ENTIDAD': 'NOMBRE_DE_LA_ENTIDAD'}, inplace=True)\n",
    "df_cleaned.rename(columns={'FECHA DE CORTE': 'FECHA_DE_CORTE'}, inplace=True)\n",
    "df_cleaned.rename(columns={'DEPARTAMENTO': 'DEPARTAMENTO'}, inplace=True)\n",
    "df_cleaned.rename(columns={'NRO CORRESPONSALES': 'NRO_CORRESPONSALES'}, inplace=True)\n",
    "df_cleaned.rename(columns={'NRO DEPOSITOS': 'NRO_DEPOSITOS'}, inplace=True)\n",
    "df_cleaned.rename(columns={'MONTO DEPOSITOS': 'MONTO_DEPOSITOS'}, inplace=True)\n",
    "df_cleaned.rename(columns={'NRO RETIROS': 'NRO_RETIROS'}, inplace=True)\n",
    "df_cleaned.rename(columns={'MONTO RETIROS': 'MONTO_RETIROS'}, inplace=True)\n",
    "df_cleaned.rename(columns={'NRO CTA AHORRO ACTIVAS': 'NRO_CTA_AHORRO_ACTIVAS'}, inplace=True)\n",
    "df_cleaned.rename(columns={'SALDO CTA AHORRO ACTIVAS': 'SALDO_CTA_AHORRO_ACTIVAS'}, inplace=True)\n",
    "df_cleaned.rename(columns={'NRO CTA AHORRO MUJERES': 'NRO_CTA_AHORRO_MUJERES'}, inplace=True)\n",
    "df_cleaned.rename(columns={'SALDO CTA AHORRO MUJERES': 'SALDO_CTA_AHORRO_MUJERES'}, inplace=True)\n",
    "df_cleaned.rename(columns={'NRO CTA AHORRO HOMBRES': 'NRO_CTA_AHORRO_HOMBRES'}, inplace=True)\n",
    "df_cleaned.rename(columns={'SALDO CTA AHORRO HOMBRES': 'SALDO_CTA_AHORRO_HOMBRES'}, inplace=True)\n",
    "df_cleaned.rename(columns={'NRO CREDITO CONSUMO MUJERES': 'NRO_CREDITO_CONSUMO_MUJERES'}, inplace=True)\n",
    "df_cleaned.rename(columns={'MONTO CREDITO CONSUMO MUJERES': 'MONTO_CREDITO_CONSUMO_MUJERES'}, inplace=True)\n",
    "df_cleaned.rename(columns={'NRO CREDITO CONSUMO HOMBRES': 'NRO_CREDITO_CONSUMO_HOMBRES'}, inplace=True)\n",
    "df_cleaned.rename(columns={'MONTO CREDITO CONSUMO  HOMBRES': 'MONTO_CREDITO_CONSUMO_HOMBRES'}, inplace=True)\n",
    "df_cleaned.rename(columns={'NRO CREDITO VIVIENDA MUJERES': 'NRO_CREDITO_VIVIENDA_MUJERES'}, inplace=True)\n",
    "df_cleaned.rename(columns={'MONTO CREDITO VIVIENDA MUJERES': 'MONTO_CREDITO_VIVIENDA_MUJERES'}, inplace=True)\n",
    "df_cleaned.rename(columns={'NRO CREDITO VIVIENDA HOMBRES': 'NRO_CREDITO_VIVIENDA_HOMBRES'}, inplace=True)\n",
    "df_cleaned.rename(columns={'MONTO CREDITO VIVIENDA HOMBRES': 'MONTO_CREDITO_VIVIENDA_HOMBRES'}, inplace=True)\n",
    "df_cleaned.rename(columns={'NRO MICROCREDITO MUJERES': 'NRO_MICROCREDITO_MUJERES'}, inplace=True)\n",
    "df_cleaned.rename(columns={'MONTO MICROCREDITO MUJERES': 'MONTO_MICROCREDITO_MUJERES'}, inplace=True)\n",
    "df_cleaned.rename(columns={'NRO MICROCREDITO HOMBRES': 'NRO_MICROCREDITO_HOMBRES'}, inplace=True)\n",
    "df_cleaned.rename(columns={'MONTO MICROCREDITO HOMBRES': 'MONTO_MICROCREDITO_HOMBRES'}, inplace=True)\n",
    "\n",
    " \n",
    "\n"
   ]
  },
  {
   "cell_type": "code",
   "execution_count": 100,
   "metadata": {},
   "outputs": [
    {
     "name": "stdout",
     "output_type": "stream",
     "text": [
      "<class 'pandas.core.frame.DataFrame'>\n",
      "RangeIndex: 603232 entries, 0 to 603231\n",
      "Data columns (total 26 columns):\n",
      " #   Column                          Non-Null Count   Dtype  \n",
      "---  ------                          --------------   -----  \n",
      " 0   NOMBRE_DE_LA_ENTIDAD            603232 non-null  object \n",
      " 1   FECHA_DE_CORTE                  603232 non-null  object \n",
      " 2   DEPARTAMENTO                    603232 non-null  object \n",
      " 3   NRO_CORRESPONSALES              603232 non-null  int64  \n",
      " 4   NRO_DEPOSITOS                   603232 non-null  int64  \n",
      " 5   MONTO_DEPOSITOS                 603232 non-null  float64\n",
      " 6   NRO_RETIROS                     603232 non-null  int64  \n",
      " 7   MONTO_RETIROS                   603232 non-null  float64\n",
      " 8   NRO_CTA_AHORRO_ACTIVAS          603232 non-null  int64  \n",
      " 9   SALDO_CTA_AHORRO_ACTIVAS        603232 non-null  float64\n",
      " 10  NRO_CTA_AHORRO_MUJERES          603232 non-null  float64\n",
      " 11  SALDO_CTA_AHORRO_MUJERES        603232 non-null  float64\n",
      " 12  NRO_CTA_AHORRO_HOMBRES          603232 non-null  float64\n",
      " 13  SALDO_CTA_AHORRO_HOMBRES        603232 non-null  float64\n",
      " 14  NRO_CREDITO_CONSUMO_MUJERES     603232 non-null  int64  \n",
      " 15  MONTO_CREDITO_CONSUMO_MUJERES   603232 non-null  float64\n",
      " 16  NRO_CREDITO_CONSUMO_HOMBRES     603232 non-null  int64  \n",
      " 17  MONTO_CREDITO_CONSUMO_HOMBRES   603232 non-null  float64\n",
      " 18  NRO_CREDITO_VIVIENDA_MUJERES    603232 non-null  int64  \n",
      " 19  MONTO_CREDITO_VIVIENDA_MUJERES  603232 non-null  float64\n",
      " 20  NRO_CREDITO_VIVIENDA_HOMBRES    603232 non-null  int64  \n",
      " 21  MONTO_CREDITO_VIVIENDA_HOMBRES  603232 non-null  float64\n",
      " 22  NRO_MICROCREDITO_MUJERES        603232 non-null  int64  \n",
      " 23  MONTO_MICROCREDITO_MUJERES      603232 non-null  float64\n",
      " 24  NRO_MICROCREDITO_HOMBRES        603232 non-null  int64  \n",
      " 25  MONTO_MICROCREDITO_HOMBRES      603232 non-null  float64\n",
      "dtypes: float64(13), int64(10), object(3)\n",
      "memory usage: 119.7+ MB\n"
     ]
    }
   ],
   "source": [
    "df_cleaned.info()"
   ]
  },
  {
   "cell_type": "code",
   "execution_count": 101,
   "metadata": {},
   "outputs": [
    {
     "data": {
      "text/plain": [
       "(603232, 26)"
      ]
     },
     "execution_count": 101,
     "metadata": {},
     "output_type": "execute_result"
    }
   ],
   "source": [
    "# muestro la cantidad de filas y columnas con las quedo la base de datos\n",
    "\n",
    "df_cleaned.shape"
   ]
  },
  {
   "cell_type": "code",
   "execution_count": 102,
   "metadata": {},
   "outputs": [
    {
     "data": {
      "text/plain": [
       "87"
      ]
     },
     "execution_count": 102,
     "metadata": {},
     "output_type": "execute_result"
    }
   ],
   "source": [
    "\n",
    "# Número de columnas antes de eliminar\n",
    "\n",
    "df.shape[1]\n",
    "\n"
   ]
  },
  {
   "cell_type": "code",
   "execution_count": 103,
   "metadata": {},
   "outputs": [
    {
     "data": {
      "text/plain": [
       "26"
      ]
     },
     "execution_count": 103,
     "metadata": {},
     "output_type": "execute_result"
    }
   ],
   "source": [
    "# Número de columnas después de eliminar\n",
    "\n",
    "df_cleaned.shape[1]"
   ]
  },
  {
   "cell_type": "code",
   "execution_count": 104,
   "metadata": {},
   "outputs": [
    {
     "data": {
      "text/plain": [
       "61"
      ]
     },
     "execution_count": 104,
     "metadata": {},
     "output_type": "execute_result"
    }
   ],
   "source": [
    "# Calcular cuántas columnas fueron eliminadas\n",
    "\n",
    "df.shape[1] - df_cleaned.shape[1]"
   ]
  },
  {
   "cell_type": "code",
   "execution_count": 105,
   "metadata": {},
   "outputs": [
    {
     "name": "stdout",
     "output_type": "stream",
     "text": [
      "NOMBRE_DE_LA_ENTIDAD               object\n",
      "FECHA_DE_CORTE                     object\n",
      "DEPARTAMENTO                       object\n",
      "NRO_CORRESPONSALES                  int64\n",
      "NRO_DEPOSITOS                       int64\n",
      "MONTO_DEPOSITOS                   float64\n",
      "NRO_RETIROS                         int64\n",
      "MONTO_RETIROS                     float64\n",
      "NRO_CTA_AHORRO_ACTIVAS              int64\n",
      "SALDO_CTA_AHORRO_ACTIVAS          float64\n",
      "NRO_CTA_AHORRO_MUJERES            float64\n",
      "SALDO_CTA_AHORRO_MUJERES          float64\n",
      "NRO_CTA_AHORRO_HOMBRES            float64\n",
      "SALDO_CTA_AHORRO_HOMBRES          float64\n",
      "NRO_CREDITO_CONSUMO_MUJERES         int64\n",
      "MONTO_CREDITO_CONSUMO_MUJERES     float64\n",
      "NRO_CREDITO_CONSUMO_HOMBRES         int64\n",
      "MONTO_CREDITO_CONSUMO_HOMBRES     float64\n",
      "NRO_CREDITO_VIVIENDA_MUJERES        int64\n",
      "MONTO_CREDITO_VIVIENDA_MUJERES    float64\n",
      "NRO_CREDITO_VIVIENDA_HOMBRES        int64\n",
      "MONTO_CREDITO_VIVIENDA_HOMBRES    float64\n",
      "NRO_MICROCREDITO_MUJERES            int64\n",
      "MONTO_MICROCREDITO_MUJERES        float64\n",
      "NRO_MICROCREDITO_HOMBRES            int64\n",
      "MONTO_MICROCREDITO_HOMBRES        float64\n",
      "dtype: object\n"
     ]
    }
   ],
   "source": [
    "# tipo de datos\n",
    "print(df_cleaned.dtypes)"
   ]
  },
  {
   "cell_type": "code",
   "execution_count": 106,
   "metadata": {},
   "outputs": [],
   "source": [
    "# # Ajuste de tipos de datos\n",
    "\n",
    "# int64 indica que los datos de la columna son enteros.\n",
    "# object usualmente se refiere a cadenas de texto (strings) u otros tipos de datos heterogéneos.\n",
    "#float64 indica que la columna contiene números con decimales (punto flotante).\n",
    "\n",
    "df_cleaned['NOMBRE_DE_LA_ENTIDAD'] =df_cleaned['NOMBRE_DE_LA_ENTIDAD'].astype('string')\n",
    "df_cleaned['DEPARTAMENTO'] =df_cleaned['DEPARTAMENTO'].astype('string')\n",
    "df_cleaned['NRO_CTA_AHORRO_MUJERES'] =df_cleaned['NRO_CTA_AHORRO_MUJERES'].astype('int')\n",
    "df_cleaned['NRO_CTA_AHORRO_HOMBRES'] =df_cleaned['NRO_CTA_AHORRO_HOMBRES'].astype('int')\n"
   ]
  },
  {
   "cell_type": "code",
   "execution_count": 107,
   "metadata": {},
   "outputs": [
    {
     "name": "stdout",
     "output_type": "stream",
     "text": [
      "NOMBRE_DE_LA_ENTIDAD              string[python]\n",
      "FECHA_DE_CORTE                            object\n",
      "DEPARTAMENTO                      string[python]\n",
      "NRO_CORRESPONSALES                         int64\n",
      "NRO_DEPOSITOS                              int64\n",
      "MONTO_DEPOSITOS                          float64\n",
      "NRO_RETIROS                                int64\n",
      "MONTO_RETIROS                            float64\n",
      "NRO_CTA_AHORRO_ACTIVAS                     int64\n",
      "SALDO_CTA_AHORRO_ACTIVAS                 float64\n",
      "NRO_CTA_AHORRO_MUJERES                     int32\n",
      "SALDO_CTA_AHORRO_MUJERES                 float64\n",
      "NRO_CTA_AHORRO_HOMBRES                     int32\n",
      "SALDO_CTA_AHORRO_HOMBRES                 float64\n",
      "NRO_CREDITO_CONSUMO_MUJERES                int64\n",
      "MONTO_CREDITO_CONSUMO_MUJERES            float64\n",
      "NRO_CREDITO_CONSUMO_HOMBRES                int64\n",
      "MONTO_CREDITO_CONSUMO_HOMBRES            float64\n",
      "NRO_CREDITO_VIVIENDA_MUJERES               int64\n",
      "MONTO_CREDITO_VIVIENDA_MUJERES           float64\n",
      "NRO_CREDITO_VIVIENDA_HOMBRES               int64\n",
      "MONTO_CREDITO_VIVIENDA_HOMBRES           float64\n",
      "NRO_MICROCREDITO_MUJERES                   int64\n",
      "MONTO_MICROCREDITO_MUJERES               float64\n",
      "NRO_MICROCREDITO_HOMBRES                   int64\n",
      "MONTO_MICROCREDITO_HOMBRES               float64\n",
      "dtype: object\n"
     ]
    }
   ],
   "source": [
    "print(df_cleaned.dtypes)"
   ]
  },
  {
   "cell_type": "code",
   "execution_count": 108,
   "metadata": {},
   "outputs": [],
   "source": [
    "# El método to_datetime() intenta convertir todas las celdas de la columna FECHA_DE_CORTE en fechas. \n",
    "\n",
    "df_cleaned.FECHA_DE_CORTE = pd.to_datetime(df_cleaned.FECHA_DE_CORTE, format=\"%d/%m/%Y\")\n",
    "\n"
   ]
  },
  {
   "cell_type": "code",
   "execution_count": 109,
   "metadata": {},
   "outputs": [
    {
     "data": {
      "text/plain": [
       "count                           603232\n",
       "mean     2019-10-19 00:28:31.437059584\n",
       "min                2017-12-31 00:00:00\n",
       "25%                2018-12-31 00:00:00\n",
       "50%                2019-12-31 00:00:00\n",
       "75%                2020-09-30 00:00:00\n",
       "max                2021-03-31 00:00:00\n",
       "Name: FECHA_DE_CORTE, dtype: object"
      ]
     },
     "execution_count": 109,
     "metadata": {},
     "output_type": "execute_result"
    }
   ],
   "source": [
    "df_cleaned.FECHA_DE_CORTE.describe()"
   ]
  },
  {
   "cell_type": "code",
   "execution_count": 110,
   "metadata": {},
   "outputs": [
    {
     "data": {
      "text/plain": [
       "['Arco Grupo Bancoldex',\n",
       " 'Av Villas',\n",
       " 'Aval Soluciones Digitales S.A. (En Lo Sucesivo - La \"Sociedad\")',\n",
       " 'Banagrario',\n",
       " 'Bancamía S.A.',\n",
       " 'Banco Caja Social',\n",
       " 'Banco Colpatria - \"Scotiabank\"',\n",
       " 'Banco Credifinanciera S.A.',\n",
       " 'Banco Davivienda',\n",
       " 'Banco De Bogota',\n",
       " 'Banco De Occidente',\n",
       " 'Banco Falabella S.A.',\n",
       " 'Banco Gnb Sudameris',\n",
       " 'Banco Mundo Mujer S.A.',\n",
       " 'Banco Pichincha S.A.',\n",
       " 'Banco Popular',\n",
       " 'Banco Santander',\n",
       " 'Banco Serfinanza S.A.',\n",
       " 'Banco W S.A.',\n",
       " 'Bancolombia',\n",
       " 'Bancoomeva',\n",
       " 'Bbva Colombia',\n",
       " 'Bnp Paribas',\n",
       " 'C.A. Credifinanciera Cf',\n",
       " 'Citibank',\n",
       " 'Coink S.A.',\n",
       " 'Coltefinanciera',\n",
       " 'Confiar Cooperativa Financiera',\n",
       " 'Coofinep Cooperativa Financiera',\n",
       " 'Coopcentral',\n",
       " 'Cooperativa Financiera De Antioquia',\n",
       " 'Corficolombiana S.A.',\n",
       " 'Cotrafa Financiera',\n",
       " 'Credifamilia',\n",
       " 'Crezcamos (En Lo Sucesivo - La \"Sociedad\")',\n",
       " 'Financiera Dann Regional',\n",
       " 'Financiera Juriscoop C.F.',\n",
       " 'Financiera Pagos Internacionales S.A. Compa\\ue168a De Financiamiento',\n",
       " 'Finandina',\n",
       " 'Giros & Finanzas C.F.',\n",
       " 'Gm Financial Colombia S.A. Compañía De Financiamiento',\n",
       " 'Itau',\n",
       " 'Jfk Cooperativa Financiera',\n",
       " 'La Hipotecaria',\n",
       " 'Leasing Corficolombiana',\n",
       " 'Mibanco S.A.',\n",
       " 'Movii S.A.',\n",
       " 'Multibank',\n",
       " 'Pgde',\n",
       " 'Rci Colombia S.A.',\n",
       " 'Serfinansa',\n",
       " 'Tecnipagos S.A.',\n",
       " 'Tuya']"
      ]
     },
     "execution_count": 110,
     "metadata": {},
     "output_type": "execute_result"
    }
   ],
   "source": [
    "# Obtener los  valores únicos de la columna NOMBRE_DE_LA_ENTIDAD  en orden alfabético\n",
    "\n",
    "sorted(df_cleaned.NOMBRE_DE_LA_ENTIDAD.unique())"
   ]
  },
  {
   "cell_type": "code",
   "execution_count": 111,
   "metadata": {},
   "outputs": [],
   "source": [
    "# ajustar los nombres de la columna NOMBRE_DE_LA_ENTIDAD \n",
    "\n",
    "df_cleaned.NOMBRE_DE_LA_ENTIDAD = df_cleaned.NOMBRE_DE_LA_ENTIDAD.replace(\"BancamÃ­a S.A.\", \"Bancamia S.A.\")\n",
    "df_cleaned.NOMBRE_DE_LA_ENTIDAD = df_cleaned.NOMBRE_DE_LA_ENTIDAD.replace(\"Banco Colpatria - Scotiabank\",\"Banco Colpatria\")\n",
    "df_cleaned.NOMBRE_DE_LA_ENTIDAD = df_cleaned.NOMBRE_DE_LA_ENTIDAD.replace(\"C.A. Credifinanciera Cf\",\"Credifinanciera\")\n",
    "df_cleaned.NOMBRE_DE_LA_ENTIDAD = df_cleaned.NOMBRE_DE_LA_ENTIDAD.replace(\"Crezcamos (En Lo Sucesivo - La Sociedad\",\"Crezcamos\")\n",
    "df_cleaned.NOMBRE_DE_LA_ENTIDAD = df_cleaned.NOMBRE_DE_LA_ENTIDAD.replace(\"Financiera Pagos Internacionales S.A. Compaî…¨a De Financiamiento\",\"Financiera Pagos Internacionales S.A.\")\n",
    "df_cleaned.NOMBRE_DE_LA_ENTIDAD = df_cleaned.NOMBRE_DE_LA_ENTIDAD.replace(\"Gm Financial Colombia S.A. CompaÃ±Ã­a De Financiamiento\",\"Gm Financial Colombia S.A\")\n",
    "\n"
   ]
  },
  {
   "cell_type": "code",
   "execution_count": 112,
   "metadata": {},
   "outputs": [
    {
     "data": {
      "text/plain": [
       "['Arco Grupo Bancoldex',\n",
       " 'Av Villas',\n",
       " 'Aval Soluciones Digitales S.A. (En Lo Sucesivo - La \"Sociedad\")',\n",
       " 'Banagrario',\n",
       " 'Bancamía S.A.',\n",
       " 'Banco Caja Social',\n",
       " 'Banco Colpatria - \"Scotiabank\"',\n",
       " 'Banco Credifinanciera S.A.',\n",
       " 'Banco Davivienda',\n",
       " 'Banco De Bogota',\n",
       " 'Banco De Occidente',\n",
       " 'Banco Falabella S.A.',\n",
       " 'Banco Gnb Sudameris',\n",
       " 'Banco Mundo Mujer S.A.',\n",
       " 'Banco Pichincha S.A.',\n",
       " 'Banco Popular',\n",
       " 'Banco Santander',\n",
       " 'Banco Serfinanza S.A.',\n",
       " 'Banco W S.A.',\n",
       " 'Bancolombia',\n",
       " 'Bancoomeva',\n",
       " 'Bbva Colombia',\n",
       " 'Bnp Paribas',\n",
       " 'Citibank',\n",
       " 'Coink S.A.',\n",
       " 'Coltefinanciera',\n",
       " 'Confiar Cooperativa Financiera',\n",
       " 'Coofinep Cooperativa Financiera',\n",
       " 'Coopcentral',\n",
       " 'Cooperativa Financiera De Antioquia',\n",
       " 'Corficolombiana S.A.',\n",
       " 'Cotrafa Financiera',\n",
       " 'Credifamilia',\n",
       " 'Credifinanciera',\n",
       " 'Crezcamos (En Lo Sucesivo - La \"Sociedad\")',\n",
       " 'Financiera Dann Regional',\n",
       " 'Financiera Juriscoop C.F.',\n",
       " 'Financiera Pagos Internacionales S.A. Compa\\ue168a De Financiamiento',\n",
       " 'Finandina',\n",
       " 'Giros & Finanzas C.F.',\n",
       " 'Gm Financial Colombia S.A. Compañía De Financiamiento',\n",
       " 'Itau',\n",
       " 'Jfk Cooperativa Financiera',\n",
       " 'La Hipotecaria',\n",
       " 'Leasing Corficolombiana',\n",
       " 'Mibanco S.A.',\n",
       " 'Movii S.A.',\n",
       " 'Multibank',\n",
       " 'Pgde',\n",
       " 'Rci Colombia S.A.',\n",
       " 'Serfinansa',\n",
       " 'Tecnipagos S.A.',\n",
       " 'Tuya']"
      ]
     },
     "execution_count": 112,
     "metadata": {},
     "output_type": "execute_result"
    }
   ],
   "source": [
    "# Obtener los nuevos valores únicos de la columna NOMBRE_DE_LA_ENTIDAD \n",
    "\n",
    "sorted(df_cleaned.NOMBRE_DE_LA_ENTIDAD .unique())"
   ]
  },
  {
   "cell_type": "code",
   "execution_count": 113,
   "metadata": {},
   "outputs": [],
   "source": [
    "# ajustar los nombres de la columna DEPARTAMENTO\n",
    "\n",
    "df_cleaned.DEPARTAMENTO= df_cleaned.DEPARTAMENTO.replace(\"NARIï¾‘O\",\"NARINO\")\n",
    "df_cleaned.DEPARTAMENTO= df_cleaned.DEPARTAMENTO.replace(\"NARIÃ‘O\",\"NARINO\")\n",
    "df_cleaned.DEPARTAMENTO= df_cleaned.DEPARTAMENTO.replace(\"TOTAL NACIONAL\",\"BOGOTA\")\n",
    "df_cleaned.DEPARTAMENTO= df_cleaned.DEPARTAMENTO.replace(\"CORRESPONSALES TIPO NEGOCIO\",\"ATLANTICO\")\n",
    "df_cleaned.DEPARTAMENTO= df_cleaned.DEPARTAMENTO.replace(\"AGREGADORES DE CORRESPONSALES\",\"CALDAS\")\n",
    "df_cleaned.DEPARTAMENTO= df_cleaned.DEPARTAMENTO.replace(\"DEPOSITOS DINERO ELECTRONICO\",\"BOGOTA\")\n",
    "df_cleaned.DEPARTAMENTO= df_cleaned.DEPARTAMENTO.replace(\"DEPOSITOS DINERO ELECT TRAMITE SIMPLIFI\",\"BOYACA\")\n",
    "df_cleaned.DEPARTAMENTO= df_cleaned.DEPARTAMENTO.replace(\"CUENTAS DE AHORRO\",\"CUNDINAMARCA\")\n",
    "df_cleaned.DEPARTAMENTO= df_cleaned.DEPARTAMENTO.replace(\"CUENTAS DE AHORRO TRAMITE SIMPLIFICADO\",\"CAQUETA\")\n",
    "df_cleaned.DEPARTAMENTO= df_cleaned.DEPARTAMENTO.replace(\"CUENTAS DE AHORRO ELECTRONICAS\",\"CAUCA\")\n"
   ]
  },
  {
   "cell_type": "code",
   "execution_count": 115,
   "metadata": {},
   "outputs": [],
   "source": [
    "df_cleaned.DEPARTAMENTO= df_cleaned.DEPARTAMENTO.replace(\"NARIﾑO\",\"NARINO\")\n",
    "df_cleaned.DEPARTAMENTO= df_cleaned.DEPARTAMENTO.replace(\"NARIÑO\",\"NARINO\")"
   ]
  },
  {
   "cell_type": "code",
   "execution_count": 116,
   "metadata": {},
   "outputs": [
    {
     "data": {
      "text/plain": [
       "['AMAZONAS',\n",
       " 'ANTIOQUIA',\n",
       " 'ARAUCA',\n",
       " 'ATLANTICO',\n",
       " 'BOGOTA',\n",
       " 'BOLIVAR',\n",
       " 'BOYACA',\n",
       " 'CALDAS',\n",
       " 'CAQUETA',\n",
       " 'CASANARE',\n",
       " 'CAUCA',\n",
       " 'CESAR',\n",
       " 'CHOCO',\n",
       " 'CORDOBA',\n",
       " 'CUNDINAMARCA',\n",
       " 'GUAINIA',\n",
       " 'GUAVIARE',\n",
       " 'HUILA',\n",
       " 'LA GUAJIRA',\n",
       " 'MAGDALENA',\n",
       " 'META',\n",
       " 'NARINO',\n",
       " 'NORTE DE SANTANDER',\n",
       " 'PUTUMAYO',\n",
       " 'QUINDIO',\n",
       " 'RISARALDA',\n",
       " 'SAN ANDRES,PROV Y SANTA CATALINA',\n",
       " 'SANTANDER',\n",
       " 'SUCRE',\n",
       " 'TOLIMA',\n",
       " 'VALLE DEL CAUCA',\n",
       " 'VAUPES',\n",
       " 'VICHADA']"
      ]
     },
     "execution_count": 116,
     "metadata": {},
     "output_type": "execute_result"
    }
   ],
   "source": [
    "sorted(df_cleaned.DEPARTAMENTO .unique())"
   ]
  },
  {
   "cell_type": "code",
   "execution_count": null,
   "metadata": {},
   "outputs": [
    {
     "data": {
      "text/plain": [
       "count        603232\n",
       "unique           33\n",
       "top       ANTIOQUIA\n",
       "freq          74620\n",
       "Name: DEPARTAMENTO, dtype: object"
      ]
     },
     "execution_count": 117,
     "metadata": {},
     "output_type": "execute_result"
    }
   ],
   "source": [
    "# Descripción de la columna la utilizamos para mirar los valores unicos de DEPARTAMENTO\n",
    "\n",
    "df_cleaned.DEPARTAMENTO.describe()"
   ]
  },
  {
   "cell_type": "code",
   "execution_count": 118,
   "metadata": {},
   "outputs": [
    {
     "data": {
      "text/plain": [
       "(603232, 26)"
      ]
     },
     "execution_count": 118,
     "metadata": {},
     "output_type": "execute_result"
    }
   ],
   "source": [
    "df_cleaned.shape"
   ]
  },
  {
   "cell_type": "code",
   "execution_count": 132,
   "metadata": {},
   "outputs": [
    {
     "data": {
      "text/html": [
       "<div>\n",
       "<style scoped>\n",
       "    .dataframe tbody tr th:only-of-type {\n",
       "        vertical-align: middle;\n",
       "    }\n",
       "\n",
       "    .dataframe tbody tr th {\n",
       "        vertical-align: top;\n",
       "    }\n",
       "\n",
       "    .dataframe thead th {\n",
       "        text-align: right;\n",
       "    }\n",
       "</style>\n",
       "<table border=\"1\" class=\"dataframe\">\n",
       "  <thead>\n",
       "    <tr style=\"text-align: right;\">\n",
       "      <th></th>\n",
       "      <th>NOMBRE_DE_LA_ENTIDAD</th>\n",
       "      <th>FECHA_DE_CORTE</th>\n",
       "      <th>DEPARTAMENTO</th>\n",
       "      <th>NRO_CORRESPONSALES</th>\n",
       "      <th>NRO_DEPOSITOS</th>\n",
       "      <th>MONTO_DEPOSITOS</th>\n",
       "      <th>NRO_RETIROS</th>\n",
       "      <th>MONTO_RETIROS</th>\n",
       "      <th>NRO_CTA_AHORRO_ACTIVAS</th>\n",
       "      <th>SALDO_CTA_AHORRO_ACTIVAS</th>\n",
       "      <th>...</th>\n",
       "      <th>NRO_CREDITO_CONSUMO_HOMBRES</th>\n",
       "      <th>MONTO_CREDITO_CONSUMO_HOMBRES</th>\n",
       "      <th>NRO_CREDITO_VIVIENDA_MUJERES</th>\n",
       "      <th>MONTO_CREDITO_VIVIENDA_MUJERES</th>\n",
       "      <th>NRO_CREDITO_VIVIENDA_HOMBRES</th>\n",
       "      <th>MONTO_CREDITO_VIVIENDA_HOMBRES</th>\n",
       "      <th>NRO_MICROCREDITO_MUJERES</th>\n",
       "      <th>MONTO_MICROCREDITO_MUJERES</th>\n",
       "      <th>NRO_MICROCREDITO_HOMBRES</th>\n",
       "      <th>MONTO_MICROCREDITO_HOMBRES</th>\n",
       "    </tr>\n",
       "  </thead>\n",
       "  <tbody>\n",
       "    <tr>\n",
       "      <th>0</th>\n",
       "      <td>Banco Davivienda</td>\n",
       "      <td>2017-12-31</td>\n",
       "      <td>ANTIOQUIA</td>\n",
       "      <td>0</td>\n",
       "      <td>0</td>\n",
       "      <td>0</td>\n",
       "      <td>6</td>\n",
       "      <td>1,090,000</td>\n",
       "      <td>0</td>\n",
       "      <td>0</td>\n",
       "      <td>...</td>\n",
       "      <td>0</td>\n",
       "      <td>0</td>\n",
       "      <td>0</td>\n",
       "      <td>0</td>\n",
       "      <td>0</td>\n",
       "      <td>0</td>\n",
       "      <td>0</td>\n",
       "      <td>0</td>\n",
       "      <td>0</td>\n",
       "      <td>0</td>\n",
       "    </tr>\n",
       "    <tr>\n",
       "      <th>1</th>\n",
       "      <td>Citibank</td>\n",
       "      <td>2017-12-31</td>\n",
       "      <td>ANTIOQUIA</td>\n",
       "      <td>0</td>\n",
       "      <td>42</td>\n",
       "      <td>24,754,374</td>\n",
       "      <td>0</td>\n",
       "      <td>0</td>\n",
       "      <td>0</td>\n",
       "      <td>0</td>\n",
       "      <td>...</td>\n",
       "      <td>0</td>\n",
       "      <td>0</td>\n",
       "      <td>0</td>\n",
       "      <td>0</td>\n",
       "      <td>0</td>\n",
       "      <td>0</td>\n",
       "      <td>0</td>\n",
       "      <td>0</td>\n",
       "      <td>0</td>\n",
       "      <td>0</td>\n",
       "    </tr>\n",
       "    <tr>\n",
       "      <th>2</th>\n",
       "      <td>Banco De Bogota</td>\n",
       "      <td>2017-12-31</td>\n",
       "      <td>ANTIOQUIA</td>\n",
       "      <td>0</td>\n",
       "      <td>0</td>\n",
       "      <td>0</td>\n",
       "      <td>0</td>\n",
       "      <td>0</td>\n",
       "      <td>0</td>\n",
       "      <td>0</td>\n",
       "      <td>...</td>\n",
       "      <td>0</td>\n",
       "      <td>0</td>\n",
       "      <td>11</td>\n",
       "      <td>1,274,566,517</td>\n",
       "      <td>11</td>\n",
       "      <td>1,001,171,364</td>\n",
       "      <td>0</td>\n",
       "      <td>0</td>\n",
       "      <td>0</td>\n",
       "      <td>0</td>\n",
       "    </tr>\n",
       "    <tr>\n",
       "      <th>3</th>\n",
       "      <td>Coopcentral</td>\n",
       "      <td>2017-12-31</td>\n",
       "      <td>ANTIOQUIA</td>\n",
       "      <td>0</td>\n",
       "      <td>0</td>\n",
       "      <td>0</td>\n",
       "      <td>0</td>\n",
       "      <td>0</td>\n",
       "      <td>0</td>\n",
       "      <td>0</td>\n",
       "      <td>...</td>\n",
       "      <td>0</td>\n",
       "      <td>0</td>\n",
       "      <td>0</td>\n",
       "      <td>0</td>\n",
       "      <td>0</td>\n",
       "      <td>0</td>\n",
       "      <td>0</td>\n",
       "      <td>0</td>\n",
       "      <td>1</td>\n",
       "      <td>29,000,000</td>\n",
       "    </tr>\n",
       "    <tr>\n",
       "      <th>4</th>\n",
       "      <td>Bancamía S.A.</td>\n",
       "      <td>2017-12-31</td>\n",
       "      <td>ANTIOQUIA</td>\n",
       "      <td>1</td>\n",
       "      <td>0</td>\n",
       "      <td>0</td>\n",
       "      <td>0</td>\n",
       "      <td>0</td>\n",
       "      <td>0</td>\n",
       "      <td>0</td>\n",
       "      <td>...</td>\n",
       "      <td>0</td>\n",
       "      <td>0</td>\n",
       "      <td>0</td>\n",
       "      <td>0</td>\n",
       "      <td>0</td>\n",
       "      <td>0</td>\n",
       "      <td>0</td>\n",
       "      <td>0</td>\n",
       "      <td>0</td>\n",
       "      <td>0</td>\n",
       "    </tr>\n",
       "    <tr>\n",
       "      <th>5</th>\n",
       "      <td>Banagrario</td>\n",
       "      <td>2017-12-31</td>\n",
       "      <td>ANTIOQUIA</td>\n",
       "      <td>0</td>\n",
       "      <td>0</td>\n",
       "      <td>0</td>\n",
       "      <td>0</td>\n",
       "      <td>0</td>\n",
       "      <td>1421</td>\n",
       "      <td>2,300,920,699</td>\n",
       "      <td>...</td>\n",
       "      <td>0</td>\n",
       "      <td>0</td>\n",
       "      <td>0</td>\n",
       "      <td>0</td>\n",
       "      <td>0</td>\n",
       "      <td>0</td>\n",
       "      <td>0</td>\n",
       "      <td>0</td>\n",
       "      <td>0</td>\n",
       "      <td>0</td>\n",
       "    </tr>\n",
       "    <tr>\n",
       "      <th>6</th>\n",
       "      <td>Banco Colpatria - \"Scotiabank\"</td>\n",
       "      <td>2017-12-31</td>\n",
       "      <td>ANTIOQUIA</td>\n",
       "      <td>0</td>\n",
       "      <td>4</td>\n",
       "      <td>1,379,500</td>\n",
       "      <td>0</td>\n",
       "      <td>0</td>\n",
       "      <td>0</td>\n",
       "      <td>0</td>\n",
       "      <td>...</td>\n",
       "      <td>0</td>\n",
       "      <td>0</td>\n",
       "      <td>0</td>\n",
       "      <td>0</td>\n",
       "      <td>0</td>\n",
       "      <td>0</td>\n",
       "      <td>0</td>\n",
       "      <td>0</td>\n",
       "      <td>0</td>\n",
       "      <td>0</td>\n",
       "    </tr>\n",
       "    <tr>\n",
       "      <th>7</th>\n",
       "      <td>Banco De Bogota</td>\n",
       "      <td>2017-12-31</td>\n",
       "      <td>ANTIOQUIA</td>\n",
       "      <td>0</td>\n",
       "      <td>0</td>\n",
       "      <td>0</td>\n",
       "      <td>0</td>\n",
       "      <td>0</td>\n",
       "      <td>0</td>\n",
       "      <td>0</td>\n",
       "      <td>...</td>\n",
       "      <td>0</td>\n",
       "      <td>0</td>\n",
       "      <td>0</td>\n",
       "      <td>0</td>\n",
       "      <td>0</td>\n",
       "      <td>0</td>\n",
       "      <td>0</td>\n",
       "      <td>0</td>\n",
       "      <td>0</td>\n",
       "      <td>0</td>\n",
       "    </tr>\n",
       "    <tr>\n",
       "      <th>8</th>\n",
       "      <td>Citibank</td>\n",
       "      <td>2017-12-31</td>\n",
       "      <td>ANTIOQUIA</td>\n",
       "      <td>2</td>\n",
       "      <td>0</td>\n",
       "      <td>0</td>\n",
       "      <td>0</td>\n",
       "      <td>0</td>\n",
       "      <td>0</td>\n",
       "      <td>0</td>\n",
       "      <td>...</td>\n",
       "      <td>0</td>\n",
       "      <td>0</td>\n",
       "      <td>0</td>\n",
       "      <td>0</td>\n",
       "      <td>0</td>\n",
       "      <td>0</td>\n",
       "      <td>0</td>\n",
       "      <td>0</td>\n",
       "      <td>0</td>\n",
       "      <td>0</td>\n",
       "    </tr>\n",
       "    <tr>\n",
       "      <th>9</th>\n",
       "      <td>Banco Popular</td>\n",
       "      <td>2017-12-31</td>\n",
       "      <td>ANTIOQUIA</td>\n",
       "      <td>0</td>\n",
       "      <td>705</td>\n",
       "      <td>1,427,457,077</td>\n",
       "      <td>959</td>\n",
       "      <td>299,180,900</td>\n",
       "      <td>0</td>\n",
       "      <td>0</td>\n",
       "      <td>...</td>\n",
       "      <td>0</td>\n",
       "      <td>0</td>\n",
       "      <td>0</td>\n",
       "      <td>0</td>\n",
       "      <td>0</td>\n",
       "      <td>0</td>\n",
       "      <td>0</td>\n",
       "      <td>0</td>\n",
       "      <td>0</td>\n",
       "      <td>0</td>\n",
       "    </tr>\n",
       "  </tbody>\n",
       "</table>\n",
       "<p>10 rows × 26 columns</p>\n",
       "</div>"
      ],
      "text/plain": [
       "             NOMBRE_DE_LA_ENTIDAD FECHA_DE_CORTE DEPARTAMENTO  \\\n",
       "0                Banco Davivienda     2017-12-31    ANTIOQUIA   \n",
       "1                        Citibank     2017-12-31    ANTIOQUIA   \n",
       "2                 Banco De Bogota     2017-12-31    ANTIOQUIA   \n",
       "3                     Coopcentral     2017-12-31    ANTIOQUIA   \n",
       "4                   Bancamía S.A.     2017-12-31    ANTIOQUIA   \n",
       "5                      Banagrario     2017-12-31    ANTIOQUIA   \n",
       "6  Banco Colpatria - \"Scotiabank\"     2017-12-31    ANTIOQUIA   \n",
       "7                 Banco De Bogota     2017-12-31    ANTIOQUIA   \n",
       "8                        Citibank     2017-12-31    ANTIOQUIA   \n",
       "9                   Banco Popular     2017-12-31    ANTIOQUIA   \n",
       "\n",
       "   NRO_CORRESPONSALES  NRO_DEPOSITOS  MONTO_DEPOSITOS  NRO_RETIROS  \\\n",
       "0                   0              0                0            6   \n",
       "1                   0             42       24,754,374            0   \n",
       "2                   0              0                0            0   \n",
       "3                   0              0                0            0   \n",
       "4                   1              0                0            0   \n",
       "5                   0              0                0            0   \n",
       "6                   0              4        1,379,500            0   \n",
       "7                   0              0                0            0   \n",
       "8                   2              0                0            0   \n",
       "9                   0            705    1,427,457,077          959   \n",
       "\n",
       "   MONTO_RETIROS  NRO_CTA_AHORRO_ACTIVAS  SALDO_CTA_AHORRO_ACTIVAS  ...  \\\n",
       "0      1,090,000                       0                         0  ...   \n",
       "1              0                       0                         0  ...   \n",
       "2              0                       0                         0  ...   \n",
       "3              0                       0                         0  ...   \n",
       "4              0                       0                         0  ...   \n",
       "5              0                    1421             2,300,920,699  ...   \n",
       "6              0                       0                         0  ...   \n",
       "7              0                       0                         0  ...   \n",
       "8              0                       0                         0  ...   \n",
       "9    299,180,900                       0                         0  ...   \n",
       "\n",
       "   NRO_CREDITO_CONSUMO_HOMBRES  MONTO_CREDITO_CONSUMO_HOMBRES  \\\n",
       "0                            0                              0   \n",
       "1                            0                              0   \n",
       "2                            0                              0   \n",
       "3                            0                              0   \n",
       "4                            0                              0   \n",
       "5                            0                              0   \n",
       "6                            0                              0   \n",
       "7                            0                              0   \n",
       "8                            0                              0   \n",
       "9                            0                              0   \n",
       "\n",
       "   NRO_CREDITO_VIVIENDA_MUJERES  MONTO_CREDITO_VIVIENDA_MUJERES  \\\n",
       "0                             0                               0   \n",
       "1                             0                               0   \n",
       "2                            11                   1,274,566,517   \n",
       "3                             0                               0   \n",
       "4                             0                               0   \n",
       "5                             0                               0   \n",
       "6                             0                               0   \n",
       "7                             0                               0   \n",
       "8                             0                               0   \n",
       "9                             0                               0   \n",
       "\n",
       "   NRO_CREDITO_VIVIENDA_HOMBRES  MONTO_CREDITO_VIVIENDA_HOMBRES  \\\n",
       "0                             0                               0   \n",
       "1                             0                               0   \n",
       "2                            11                   1,001,171,364   \n",
       "3                             0                               0   \n",
       "4                             0                               0   \n",
       "5                             0                               0   \n",
       "6                             0                               0   \n",
       "7                             0                               0   \n",
       "8                             0                               0   \n",
       "9                             0                               0   \n",
       "\n",
       "   NRO_MICROCREDITO_MUJERES  MONTO_MICROCREDITO_MUJERES  \\\n",
       "0                         0                           0   \n",
       "1                         0                           0   \n",
       "2                         0                           0   \n",
       "3                         0                           0   \n",
       "4                         0                           0   \n",
       "5                         0                           0   \n",
       "6                         0                           0   \n",
       "7                         0                           0   \n",
       "8                         0                           0   \n",
       "9                         0                           0   \n",
       "\n",
       "   NRO_MICROCREDITO_HOMBRES  MONTO_MICROCREDITO_HOMBRES  \n",
       "0                         0                           0  \n",
       "1                         0                           0  \n",
       "2                         0                           0  \n",
       "3                         1                  29,000,000  \n",
       "4                         0                           0  \n",
       "5                         0                           0  \n",
       "6                         0                           0  \n",
       "7                         0                           0  \n",
       "8                         0                           0  \n",
       "9                         0                           0  \n",
       "\n",
       "[10 rows x 26 columns]"
      ]
     },
     "execution_count": 132,
     "metadata": {},
     "output_type": "execute_result"
    }
   ],
   "source": [
    "# muestra los primeros 10 Registros\n",
    "df_cleaned.head(10)"
   ]
  },
  {
   "cell_type": "code",
   "execution_count": 124,
   "metadata": {},
   "outputs": [
    {
     "data": {
      "text/html": [
       "<div>\n",
       "<style scoped>\n",
       "    .dataframe tbody tr th:only-of-type {\n",
       "        vertical-align: middle;\n",
       "    }\n",
       "\n",
       "    .dataframe tbody tr th {\n",
       "        vertical-align: top;\n",
       "    }\n",
       "\n",
       "    .dataframe thead th {\n",
       "        text-align: right;\n",
       "    }\n",
       "</style>\n",
       "<table border=\"1\" class=\"dataframe\">\n",
       "  <thead>\n",
       "    <tr style=\"text-align: right;\">\n",
       "      <th></th>\n",
       "      <th>NOMBRE_DE_LA_ENTIDAD</th>\n",
       "      <th>FECHA_DE_CORTE</th>\n",
       "      <th>DEPARTAMENTO</th>\n",
       "      <th>NRO_CORRESPONSALES</th>\n",
       "      <th>NRO_DEPOSITOS</th>\n",
       "      <th>MONTO_DEPOSITOS</th>\n",
       "      <th>NRO_RETIROS</th>\n",
       "      <th>MONTO_RETIROS</th>\n",
       "      <th>NRO_CTA_AHORRO_ACTIVAS</th>\n",
       "      <th>SALDO_CTA_AHORRO_ACTIVAS</th>\n",
       "      <th>...</th>\n",
       "      <th>NRO_CREDITO_CONSUMO_HOMBRES</th>\n",
       "      <th>MONTO_CREDITO_CONSUMO_HOMBRES</th>\n",
       "      <th>NRO_CREDITO_VIVIENDA_MUJERES</th>\n",
       "      <th>MONTO_CREDITO_VIVIENDA_MUJERES</th>\n",
       "      <th>NRO_CREDITO_VIVIENDA_HOMBRES</th>\n",
       "      <th>MONTO_CREDITO_VIVIENDA_HOMBRES</th>\n",
       "      <th>NRO_MICROCREDITO_MUJERES</th>\n",
       "      <th>MONTO_MICROCREDITO_MUJERES</th>\n",
       "      <th>NRO_MICROCREDITO_HOMBRES</th>\n",
       "      <th>MONTO_MICROCREDITO_HOMBRES</th>\n",
       "    </tr>\n",
       "  </thead>\n",
       "  <tbody>\n",
       "    <tr>\n",
       "      <th>603222</th>\n",
       "      <td>Banco De Bogota</td>\n",
       "      <td>2021-03-31</td>\n",
       "      <td>CAQUETA</td>\n",
       "      <td>0</td>\n",
       "      <td>0</td>\n",
       "      <td>0.0</td>\n",
       "      <td>0</td>\n",
       "      <td>0.0</td>\n",
       "      <td>0</td>\n",
       "      <td>0.0</td>\n",
       "      <td>...</td>\n",
       "      <td>0</td>\n",
       "      <td>0.0</td>\n",
       "      <td>0</td>\n",
       "      <td>0.0</td>\n",
       "      <td>0</td>\n",
       "      <td>0.0</td>\n",
       "      <td>0</td>\n",
       "      <td>0.0</td>\n",
       "      <td>0</td>\n",
       "      <td>0.0</td>\n",
       "    </tr>\n",
       "    <tr>\n",
       "      <th>603223</th>\n",
       "      <td>Banagrario</td>\n",
       "      <td>2021-03-31</td>\n",
       "      <td>CAUCA</td>\n",
       "      <td>0</td>\n",
       "      <td>0</td>\n",
       "      <td>0.0</td>\n",
       "      <td>0</td>\n",
       "      <td>0.0</td>\n",
       "      <td>0</td>\n",
       "      <td>0.0</td>\n",
       "      <td>...</td>\n",
       "      <td>0</td>\n",
       "      <td>0.0</td>\n",
       "      <td>0</td>\n",
       "      <td>0.0</td>\n",
       "      <td>0</td>\n",
       "      <td>0.0</td>\n",
       "      <td>0</td>\n",
       "      <td>0.0</td>\n",
       "      <td>0</td>\n",
       "      <td>0.0</td>\n",
       "    </tr>\n",
       "    <tr>\n",
       "      <th>603224</th>\n",
       "      <td>Av Villas</td>\n",
       "      <td>2021-03-31</td>\n",
       "      <td>CAUCA</td>\n",
       "      <td>0</td>\n",
       "      <td>0</td>\n",
       "      <td>0.0</td>\n",
       "      <td>0</td>\n",
       "      <td>0.0</td>\n",
       "      <td>0</td>\n",
       "      <td>0.0</td>\n",
       "      <td>...</td>\n",
       "      <td>0</td>\n",
       "      <td>0.0</td>\n",
       "      <td>0</td>\n",
       "      <td>0.0</td>\n",
       "      <td>0</td>\n",
       "      <td>0.0</td>\n",
       "      <td>0</td>\n",
       "      <td>0.0</td>\n",
       "      <td>0</td>\n",
       "      <td>0.0</td>\n",
       "    </tr>\n",
       "    <tr>\n",
       "      <th>603225</th>\n",
       "      <td>Banagrario</td>\n",
       "      <td>2021-03-31</td>\n",
       "      <td>CAUCA</td>\n",
       "      <td>0</td>\n",
       "      <td>0</td>\n",
       "      <td>0.0</td>\n",
       "      <td>0</td>\n",
       "      <td>0.0</td>\n",
       "      <td>0</td>\n",
       "      <td>0.0</td>\n",
       "      <td>...</td>\n",
       "      <td>0</td>\n",
       "      <td>0.0</td>\n",
       "      <td>0</td>\n",
       "      <td>0.0</td>\n",
       "      <td>0</td>\n",
       "      <td>0.0</td>\n",
       "      <td>0</td>\n",
       "      <td>0.0</td>\n",
       "      <td>0</td>\n",
       "      <td>0.0</td>\n",
       "    </tr>\n",
       "    <tr>\n",
       "      <th>603226</th>\n",
       "      <td>Av Villas</td>\n",
       "      <td>2021-03-31</td>\n",
       "      <td>CAUCA</td>\n",
       "      <td>0</td>\n",
       "      <td>0</td>\n",
       "      <td>0.0</td>\n",
       "      <td>0</td>\n",
       "      <td>0.0</td>\n",
       "      <td>0</td>\n",
       "      <td>0.0</td>\n",
       "      <td>...</td>\n",
       "      <td>0</td>\n",
       "      <td>0.0</td>\n",
       "      <td>0</td>\n",
       "      <td>0.0</td>\n",
       "      <td>0</td>\n",
       "      <td>0.0</td>\n",
       "      <td>0</td>\n",
       "      <td>0.0</td>\n",
       "      <td>0</td>\n",
       "      <td>0.0</td>\n",
       "    </tr>\n",
       "    <tr>\n",
       "      <th>603227</th>\n",
       "      <td>Av Villas</td>\n",
       "      <td>2021-03-31</td>\n",
       "      <td>CAUCA</td>\n",
       "      <td>0</td>\n",
       "      <td>0</td>\n",
       "      <td>0.0</td>\n",
       "      <td>0</td>\n",
       "      <td>0.0</td>\n",
       "      <td>0</td>\n",
       "      <td>0.0</td>\n",
       "      <td>...</td>\n",
       "      <td>0</td>\n",
       "      <td>0.0</td>\n",
       "      <td>0</td>\n",
       "      <td>0.0</td>\n",
       "      <td>0</td>\n",
       "      <td>0.0</td>\n",
       "      <td>0</td>\n",
       "      <td>0.0</td>\n",
       "      <td>0</td>\n",
       "      <td>0.0</td>\n",
       "    </tr>\n",
       "    <tr>\n",
       "      <th>603228</th>\n",
       "      <td>Banagrario</td>\n",
       "      <td>2021-03-31</td>\n",
       "      <td>CAUCA</td>\n",
       "      <td>0</td>\n",
       "      <td>0</td>\n",
       "      <td>0.0</td>\n",
       "      <td>0</td>\n",
       "      <td>0.0</td>\n",
       "      <td>0</td>\n",
       "      <td>0.0</td>\n",
       "      <td>...</td>\n",
       "      <td>0</td>\n",
       "      <td>0.0</td>\n",
       "      <td>0</td>\n",
       "      <td>0.0</td>\n",
       "      <td>0</td>\n",
       "      <td>0.0</td>\n",
       "      <td>0</td>\n",
       "      <td>0.0</td>\n",
       "      <td>0</td>\n",
       "      <td>0.0</td>\n",
       "    </tr>\n",
       "    <tr>\n",
       "      <th>603229</th>\n",
       "      <td>Banagrario</td>\n",
       "      <td>2021-03-31</td>\n",
       "      <td>CAUCA</td>\n",
       "      <td>0</td>\n",
       "      <td>0</td>\n",
       "      <td>0.0</td>\n",
       "      <td>0</td>\n",
       "      <td>0.0</td>\n",
       "      <td>0</td>\n",
       "      <td>0.0</td>\n",
       "      <td>...</td>\n",
       "      <td>0</td>\n",
       "      <td>0.0</td>\n",
       "      <td>0</td>\n",
       "      <td>0.0</td>\n",
       "      <td>0</td>\n",
       "      <td>0.0</td>\n",
       "      <td>0</td>\n",
       "      <td>0.0</td>\n",
       "      <td>0</td>\n",
       "      <td>0.0</td>\n",
       "    </tr>\n",
       "    <tr>\n",
       "      <th>603230</th>\n",
       "      <td>Banagrario</td>\n",
       "      <td>2021-03-31</td>\n",
       "      <td>CAUCA</td>\n",
       "      <td>0</td>\n",
       "      <td>0</td>\n",
       "      <td>0.0</td>\n",
       "      <td>0</td>\n",
       "      <td>0.0</td>\n",
       "      <td>0</td>\n",
       "      <td>0.0</td>\n",
       "      <td>...</td>\n",
       "      <td>0</td>\n",
       "      <td>0.0</td>\n",
       "      <td>0</td>\n",
       "      <td>0.0</td>\n",
       "      <td>0</td>\n",
       "      <td>0.0</td>\n",
       "      <td>0</td>\n",
       "      <td>0.0</td>\n",
       "      <td>0</td>\n",
       "      <td>0.0</td>\n",
       "    </tr>\n",
       "    <tr>\n",
       "      <th>603231</th>\n",
       "      <td>Banagrario</td>\n",
       "      <td>2021-03-31</td>\n",
       "      <td>CAUCA</td>\n",
       "      <td>0</td>\n",
       "      <td>0</td>\n",
       "      <td>0.0</td>\n",
       "      <td>0</td>\n",
       "      <td>0.0</td>\n",
       "      <td>0</td>\n",
       "      <td>0.0</td>\n",
       "      <td>...</td>\n",
       "      <td>0</td>\n",
       "      <td>0.0</td>\n",
       "      <td>0</td>\n",
       "      <td>0.0</td>\n",
       "      <td>0</td>\n",
       "      <td>0.0</td>\n",
       "      <td>0</td>\n",
       "      <td>0.0</td>\n",
       "      <td>0</td>\n",
       "      <td>0.0</td>\n",
       "    </tr>\n",
       "  </tbody>\n",
       "</table>\n",
       "<p>10 rows × 26 columns</p>\n",
       "</div>"
      ],
      "text/plain": [
       "       NOMBRE_DE_LA_ENTIDAD FECHA_DE_CORTE DEPARTAMENTO  NRO_CORRESPONSALES  \\\n",
       "603222      Banco De Bogota     2021-03-31      CAQUETA                   0   \n",
       "603223           Banagrario     2021-03-31        CAUCA                   0   \n",
       "603224            Av Villas     2021-03-31        CAUCA                   0   \n",
       "603225           Banagrario     2021-03-31        CAUCA                   0   \n",
       "603226            Av Villas     2021-03-31        CAUCA                   0   \n",
       "603227            Av Villas     2021-03-31        CAUCA                   0   \n",
       "603228           Banagrario     2021-03-31        CAUCA                   0   \n",
       "603229           Banagrario     2021-03-31        CAUCA                   0   \n",
       "603230           Banagrario     2021-03-31        CAUCA                   0   \n",
       "603231           Banagrario     2021-03-31        CAUCA                   0   \n",
       "\n",
       "        NRO_DEPOSITOS  MONTO_DEPOSITOS  NRO_RETIROS  MONTO_RETIROS  \\\n",
       "603222              0              0.0            0            0.0   \n",
       "603223              0              0.0            0            0.0   \n",
       "603224              0              0.0            0            0.0   \n",
       "603225              0              0.0            0            0.0   \n",
       "603226              0              0.0            0            0.0   \n",
       "603227              0              0.0            0            0.0   \n",
       "603228              0              0.0            0            0.0   \n",
       "603229              0              0.0            0            0.0   \n",
       "603230              0              0.0            0            0.0   \n",
       "603231              0              0.0            0            0.0   \n",
       "\n",
       "        NRO_CTA_AHORRO_ACTIVAS  SALDO_CTA_AHORRO_ACTIVAS  ...  \\\n",
       "603222                       0                       0.0  ...   \n",
       "603223                       0                       0.0  ...   \n",
       "603224                       0                       0.0  ...   \n",
       "603225                       0                       0.0  ...   \n",
       "603226                       0                       0.0  ...   \n",
       "603227                       0                       0.0  ...   \n",
       "603228                       0                       0.0  ...   \n",
       "603229                       0                       0.0  ...   \n",
       "603230                       0                       0.0  ...   \n",
       "603231                       0                       0.0  ...   \n",
       "\n",
       "        NRO_CREDITO_CONSUMO_HOMBRES  MONTO_CREDITO_CONSUMO_HOMBRES  \\\n",
       "603222                            0                            0.0   \n",
       "603223                            0                            0.0   \n",
       "603224                            0                            0.0   \n",
       "603225                            0                            0.0   \n",
       "603226                            0                            0.0   \n",
       "603227                            0                            0.0   \n",
       "603228                            0                            0.0   \n",
       "603229                            0                            0.0   \n",
       "603230                            0                            0.0   \n",
       "603231                            0                            0.0   \n",
       "\n",
       "        NRO_CREDITO_VIVIENDA_MUJERES  MONTO_CREDITO_VIVIENDA_MUJERES  \\\n",
       "603222                             0                             0.0   \n",
       "603223                             0                             0.0   \n",
       "603224                             0                             0.0   \n",
       "603225                             0                             0.0   \n",
       "603226                             0                             0.0   \n",
       "603227                             0                             0.0   \n",
       "603228                             0                             0.0   \n",
       "603229                             0                             0.0   \n",
       "603230                             0                             0.0   \n",
       "603231                             0                             0.0   \n",
       "\n",
       "        NRO_CREDITO_VIVIENDA_HOMBRES  MONTO_CREDITO_VIVIENDA_HOMBRES  \\\n",
       "603222                             0                             0.0   \n",
       "603223                             0                             0.0   \n",
       "603224                             0                             0.0   \n",
       "603225                             0                             0.0   \n",
       "603226                             0                             0.0   \n",
       "603227                             0                             0.0   \n",
       "603228                             0                             0.0   \n",
       "603229                             0                             0.0   \n",
       "603230                             0                             0.0   \n",
       "603231                             0                             0.0   \n",
       "\n",
       "        NRO_MICROCREDITO_MUJERES  MONTO_MICROCREDITO_MUJERES  \\\n",
       "603222                         0                         0.0   \n",
       "603223                         0                         0.0   \n",
       "603224                         0                         0.0   \n",
       "603225                         0                         0.0   \n",
       "603226                         0                         0.0   \n",
       "603227                         0                         0.0   \n",
       "603228                         0                         0.0   \n",
       "603229                         0                         0.0   \n",
       "603230                         0                         0.0   \n",
       "603231                         0                         0.0   \n",
       "\n",
       "        NRO_MICROCREDITO_HOMBRES  MONTO_MICROCREDITO_HOMBRES  \n",
       "603222                         0                         0.0  \n",
       "603223                         0                         0.0  \n",
       "603224                         0                         0.0  \n",
       "603225                         0                         0.0  \n",
       "603226                         0                         0.0  \n",
       "603227                         0                         0.0  \n",
       "603228                         0                         0.0  \n",
       "603229                         0                         0.0  \n",
       "603230                         0                         0.0  \n",
       "603231                         0                         0.0  \n",
       "\n",
       "[10 rows x 26 columns]"
      ]
     },
     "execution_count": 124,
     "metadata": {},
     "output_type": "execute_result"
    }
   ],
   "source": [
    "# muestra los ultimos 10 Registros\n",
    "\n",
    "df_cleaned.tail(10)\n"
   ]
  },
  {
   "cell_type": "code",
   "execution_count": null,
   "metadata": {},
   "outputs": [
    {
     "data": {
      "text/plain": [
       "NOMBRE_DE_LA_ENTIDAD                       Banagrario\n",
       "FECHA_DE_CORTE                    2017-12-31 00:00:00\n",
       "DEPARTAMENTO                               LA GUAJIRA\n",
       "NRO_CORRESPONSALES                                  0\n",
       "NRO_DEPOSITOS                                      12\n",
       "MONTO_DEPOSITOS                             3970000.0\n",
       "NRO_RETIROS                                         2\n",
       "MONTO_RETIROS                                800000.0\n",
       "NRO_CTA_AHORRO_ACTIVAS                              0\n",
       "SALDO_CTA_AHORRO_ACTIVAS                          0.0\n",
       "NRO_CTA_AHORRO_MUJERES                              0\n",
       "SALDO_CTA_AHORRO_MUJERES                          0.0\n",
       "NRO_CTA_AHORRO_HOMBRES                              0\n",
       "SALDO_CTA_AHORRO_HOMBRES                          0.0\n",
       "NRO_CREDITO_CONSUMO_MUJERES                         0\n",
       "MONTO_CREDITO_CONSUMO_MUJERES                     0.0\n",
       "NRO_CREDITO_CONSUMO_HOMBRES                         0\n",
       "MONTO_CREDITO_CONSUMO_HOMBRES                     0.0\n",
       "NRO_CREDITO_VIVIENDA_MUJERES                        0\n",
       "MONTO_CREDITO_VIVIENDA_MUJERES                    0.0\n",
       "NRO_CREDITO_VIVIENDA_HOMBRES                        0\n",
       "MONTO_CREDITO_VIVIENDA_HOMBRES                    0.0\n",
       "NRO_MICROCREDITO_MUJERES                            0\n",
       "MONTO_MICROCREDITO_MUJERES                        0.0\n",
       "NRO_MICROCREDITO_HOMBRES                            0\n",
       "MONTO_MICROCREDITO_HOMBRES                        0.0\n",
       "Name: 308686, dtype: object"
      ]
     },
     "execution_count": 126,
     "metadata": {},
     "output_type": "execute_result"
    }
   ],
   "source": [
    "# muestra la información completa de la fila que necesite\n",
    "\n",
    "\n",
    "df_cleaned.loc[308686]"
   ]
  },
  {
   "cell_type": "code",
   "execution_count": 140,
   "metadata": {},
   "outputs": [],
   "source": [
    "# cambio formato notación cientifica.\n",
    "pd.set_option('display.float_format', '{:,.0f}'.format)"
   ]
  },
  {
   "cell_type": "code",
   "execution_count": 128,
   "metadata": {},
   "outputs": [
    {
     "data": {
      "text/plain": [
       "count        603232\n",
       "unique           33\n",
       "top       ANTIOQUIA\n",
       "freq          74620\n",
       "Name: DEPARTAMENTO, dtype: object"
      ]
     },
     "execution_count": 128,
     "metadata": {},
     "output_type": "execute_result"
    }
   ],
   "source": [
    "# describe la información de la columna DEPARTAMENTO\n",
    "df_cleaned.DEPARTAMENTO.describe()"
   ]
  },
  {
   "cell_type": "code",
   "execution_count": 139,
   "metadata": {},
   "outputs": [
    {
     "data": {
      "text/plain": [
       "count     603,232\n",
       "mean        1,707\n",
       "std        52,605\n",
       "min             0\n",
       "25%             0\n",
       "50%             0\n",
       "75%             0\n",
       "max     8,914,718\n",
       "Name: NRO_CTA_AHORRO_ACTIVAS, dtype: float64"
      ]
     },
     "execution_count": 139,
     "metadata": {},
     "output_type": "execute_result"
    }
   ],
   "source": [
    "# aqui saca la media, los cuartiles ect\n",
    "\n",
    "df_cleaned.NRO_CTA_AHORRO_ACTIVAS.describe()"
   ]
  },
  {
   "cell_type": "code",
   "execution_count": 136,
   "metadata": {},
   "outputs": [
    {
     "data": {
      "text/plain": [
       "1707.3246163996605"
      ]
     },
     "execution_count": 136,
     "metadata": {},
     "output_type": "execute_result"
    }
   ],
   "source": [
    "# media \n",
    "\n",
    "df_cleaned.NRO_CTA_AHORRO_ACTIVAS.mean()\n"
   ]
  },
  {
   "cell_type": "code",
   "execution_count": 137,
   "metadata": {},
   "outputs": [
    {
     "data": {
      "text/plain": [
       "603232"
      ]
     },
     "execution_count": 137,
     "metadata": {},
     "output_type": "execute_result"
    }
   ],
   "source": [
    "# Conteo\n",
    "\n",
    "df_cleaned.NRO_CTA_AHORRO_ACTIVAS.count()"
   ]
  },
  {
   "cell_type": "code",
   "execution_count": 138,
   "metadata": {},
   "outputs": [
    {
     "data": {
      "text/plain": [
       "52605.4497081895"
      ]
     },
     "execution_count": 138,
     "metadata": {},
     "output_type": "execute_result"
    }
   ],
   "source": [
    "# Desviación estandar\n",
    "\n",
    "df_cleaned.NRO_CTA_AHORRO_ACTIVAS.std()"
   ]
  },
  {
   "cell_type": "code",
   "execution_count": 141,
   "metadata": {},
   "outputs": [
    {
     "data": {
      "text/plain": [
       "count     603,232\n",
       "mean        1,902\n",
       "std        48,066\n",
       "min             0\n",
       "25%             0\n",
       "50%             0\n",
       "75%             0\n",
       "max     5,526,402\n",
       "Name: NRO_CTA_AHORRO_MUJERES, dtype: float64"
      ]
     },
     "execution_count": 141,
     "metadata": {},
     "output_type": "execute_result"
    }
   ],
   "source": [
    "df_cleaned.NRO_CTA_AHORRO_MUJERES.describe()"
   ]
  },
  {
   "cell_type": "code",
   "execution_count": 143,
   "metadata": {},
   "outputs": [
    {
     "data": {
      "text/plain": [
       "1902.22308995544"
      ]
     },
     "execution_count": 143,
     "metadata": {},
     "output_type": "execute_result"
    }
   ],
   "source": [
    "# media \n",
    "df_cleaned.NRO_CTA_AHORRO_MUJERES.mean()\n"
   ]
  },
  {
   "cell_type": "code",
   "execution_count": 144,
   "metadata": {},
   "outputs": [
    {
     "data": {
      "text/plain": [
       "603232"
      ]
     },
     "execution_count": 144,
     "metadata": {},
     "output_type": "execute_result"
    }
   ],
   "source": [
    "\n",
    "df_cleaned.NRO_CTA_AHORRO_MUJERES.count()\n",
    "\n"
   ]
  },
  {
   "cell_type": "code",
   "execution_count": 145,
   "metadata": {},
   "outputs": [
    {
     "data": {
      "text/plain": [
       "48065.90462884569"
      ]
     },
     "execution_count": 145,
     "metadata": {},
     "output_type": "execute_result"
    }
   ],
   "source": [
    "\n",
    "\n",
    "df_cleaned.NRO_CTA_AHORRO_MUJERES.std()"
   ]
  },
  {
   "cell_type": "code",
   "execution_count": 146,
   "metadata": {},
   "outputs": [
    {
     "data": {
      "text/plain": [
       "count     603,232\n",
       "mean        2,109\n",
       "std        53,073\n",
       "min             0\n",
       "25%             0\n",
       "50%             0\n",
       "75%             0\n",
       "max     5,627,082\n",
       "Name: NRO_CTA_AHORRO_HOMBRES, dtype: float64"
      ]
     },
     "execution_count": 146,
     "metadata": {},
     "output_type": "execute_result"
    }
   ],
   "source": [
    "df_cleaned.NRO_CTA_AHORRO_HOMBRES.describe()"
   ]
  },
  {
   "cell_type": "code",
   "execution_count": 147,
   "metadata": {},
   "outputs": [
    {
     "data": {
      "text/plain": [
       "2108.675801350061"
      ]
     },
     "execution_count": 147,
     "metadata": {},
     "output_type": "execute_result"
    }
   ],
   "source": [
    "# media \n",
    "df_cleaned.NRO_CTA_AHORRO_HOMBRES.mean()"
   ]
  },
  {
   "cell_type": "code",
   "execution_count": 148,
   "metadata": {},
   "outputs": [
    {
     "data": {
      "text/plain": [
       "603232"
      ]
     },
     "execution_count": 148,
     "metadata": {},
     "output_type": "execute_result"
    }
   ],
   "source": [
    "df_cleaned.NRO_CTA_AHORRO_HOMBRES.count()"
   ]
  },
  {
   "cell_type": "code",
   "execution_count": 149,
   "metadata": {},
   "outputs": [
    {
     "data": {
      "text/plain": [
       "53072.98364472241"
      ]
     },
     "execution_count": 149,
     "metadata": {},
     "output_type": "execute_result"
    }
   ],
   "source": [
    "df_cleaned.NRO_CTA_AHORRO_HOMBRES.std()"
   ]
  },
  {
   "cell_type": "code",
   "execution_count": 150,
   "metadata": {},
   "outputs": [
    {
     "data": {
      "text/plain": [
       "count     603,232\n",
       "mean          963\n",
       "std        51,739\n",
       "min             0\n",
       "25%             0\n",
       "50%             0\n",
       "75%             0\n",
       "max     7,493,971\n",
       "Name: NRO_CREDITO_CONSUMO_MUJERES, dtype: float64"
      ]
     },
     "execution_count": 150,
     "metadata": {},
     "output_type": "execute_result"
    }
   ],
   "source": [
    "df_cleaned.NRO_CREDITO_CONSUMO_MUJERES.describe()"
   ]
  },
  {
   "cell_type": "code",
   "execution_count": 151,
   "metadata": {},
   "outputs": [
    {
     "data": {
      "text/plain": [
       "962.5604129091295"
      ]
     },
     "execution_count": 151,
     "metadata": {},
     "output_type": "execute_result"
    }
   ],
   "source": [
    "df_cleaned.NRO_CREDITO_CONSUMO_MUJERES.mean()"
   ]
  },
  {
   "cell_type": "code",
   "execution_count": 152,
   "metadata": {},
   "outputs": [
    {
     "data": {
      "text/plain": [
       "603232"
      ]
     },
     "execution_count": 152,
     "metadata": {},
     "output_type": "execute_result"
    }
   ],
   "source": [
    "df_cleaned.NRO_CREDITO_CONSUMO_MUJERES.count()"
   ]
  },
  {
   "cell_type": "code",
   "execution_count": 153,
   "metadata": {},
   "outputs": [
    {
     "data": {
      "text/plain": [
       "51739.48100373089"
      ]
     },
     "execution_count": 153,
     "metadata": {},
     "output_type": "execute_result"
    }
   ],
   "source": [
    "df_cleaned.NRO_CREDITO_CONSUMO_MUJERES.std()"
   ]
  },
  {
   "cell_type": "code",
   "execution_count": 154,
   "metadata": {},
   "outputs": [
    {
     "data": {
      "text/plain": [
       "count     603,232\n",
       "mean          968\n",
       "std        52,620\n",
       "min             0\n",
       "25%             0\n",
       "50%             0\n",
       "75%             0\n",
       "max     8,228,890\n",
       "Name: NRO_CREDITO_CONSUMO_HOMBRES, dtype: float64"
      ]
     },
     "execution_count": 154,
     "metadata": {},
     "output_type": "execute_result"
    }
   ],
   "source": [
    "df_cleaned.NRO_CREDITO_CONSUMO_HOMBRES.describe()"
   ]
  },
  {
   "cell_type": "code",
   "execution_count": 155,
   "metadata": {},
   "outputs": [
    {
     "data": {
      "text/plain": [
       "968.2264916317437"
      ]
     },
     "execution_count": 155,
     "metadata": {},
     "output_type": "execute_result"
    }
   ],
   "source": [
    "df_cleaned.NRO_CREDITO_CONSUMO_HOMBRES.mean()"
   ]
  },
  {
   "cell_type": "code",
   "execution_count": 156,
   "metadata": {},
   "outputs": [
    {
     "data": {
      "text/plain": [
       "603232"
      ]
     },
     "execution_count": 156,
     "metadata": {},
     "output_type": "execute_result"
    }
   ],
   "source": [
    "df_cleaned.NRO_CREDITO_CONSUMO_HOMBRES.count()"
   ]
  },
  {
   "cell_type": "code",
   "execution_count": 157,
   "metadata": {},
   "outputs": [
    {
     "data": {
      "text/plain": [
       "52620.10895377836"
      ]
     },
     "execution_count": 157,
     "metadata": {},
     "output_type": "execute_result"
    }
   ],
   "source": [
    "df_cleaned.NRO_CREDITO_CONSUMO_HOMBRES.std()"
   ]
  },
  {
   "cell_type": "code",
   "execution_count": 158,
   "metadata": {},
   "outputs": [
    {
     "data": {
      "text/plain": [
       "count   603,232\n",
       "mean          1\n",
       "std          51\n",
       "min           0\n",
       "25%           0\n",
       "50%           0\n",
       "75%           0\n",
       "max      10,966\n",
       "Name: NRO_CREDITO_VIVIENDA_MUJERES, dtype: float64"
      ]
     },
     "execution_count": 158,
     "metadata": {},
     "output_type": "execute_result"
    }
   ],
   "source": [
    "df_cleaned.NRO_CREDITO_VIVIENDA_MUJERES.describe()"
   ]
  },
  {
   "cell_type": "code",
   "execution_count": 159,
   "metadata": {},
   "outputs": [
    {
     "data": {
      "text/plain": [
       "1.4549626014535038"
      ]
     },
     "execution_count": 159,
     "metadata": {},
     "output_type": "execute_result"
    }
   ],
   "source": [
    "df_cleaned.NRO_CREDITO_VIVIENDA_MUJERES.mean()"
   ]
  },
  {
   "cell_type": "code",
   "execution_count": 160,
   "metadata": {},
   "outputs": [
    {
     "data": {
      "text/plain": [
       "603232"
      ]
     },
     "execution_count": 160,
     "metadata": {},
     "output_type": "execute_result"
    }
   ],
   "source": [
    "df_cleaned.NRO_CREDITO_VIVIENDA_MUJERES.count()"
   ]
  },
  {
   "cell_type": "code",
   "execution_count": 162,
   "metadata": {},
   "outputs": [
    {
     "data": {
      "text/plain": [
       "50.7959574764362"
      ]
     },
     "execution_count": 162,
     "metadata": {},
     "output_type": "execute_result"
    }
   ],
   "source": [
    "df_cleaned.NRO_CREDITO_VIVIENDA_MUJERES.std()"
   ]
  },
  {
   "cell_type": "code",
   "execution_count": 163,
   "metadata": {},
   "outputs": [
    {
     "data": {
      "text/plain": [
       "count   603,232\n",
       "mean          2\n",
       "std          54\n",
       "min           0\n",
       "25%           0\n",
       "50%           0\n",
       "75%           0\n",
       "max      10,914\n",
       "Name: NRO_CREDITO_VIVIENDA_HOMBRES, dtype: float64"
      ]
     },
     "execution_count": 163,
     "metadata": {},
     "output_type": "execute_result"
    }
   ],
   "source": [
    "df_cleaned.NRO_CREDITO_VIVIENDA_HOMBRES.describe()"
   ]
  },
  {
   "cell_type": "code",
   "execution_count": 164,
   "metadata": {},
   "outputs": [
    {
     "data": {
      "text/plain": [
       "1.613846745530741"
      ]
     },
     "execution_count": 164,
     "metadata": {},
     "output_type": "execute_result"
    }
   ],
   "source": [
    "df_cleaned.NRO_CREDITO_VIVIENDA_HOMBRES.mean()"
   ]
  },
  {
   "cell_type": "code",
   "execution_count": 165,
   "metadata": {},
   "outputs": [
    {
     "data": {
      "text/plain": [
       "603232"
      ]
     },
     "execution_count": 165,
     "metadata": {},
     "output_type": "execute_result"
    }
   ],
   "source": [
    "df_cleaned.NRO_CREDITO_VIVIENDA_HOMBRES.count()"
   ]
  },
  {
   "cell_type": "code",
   "execution_count": 166,
   "metadata": {},
   "outputs": [
    {
     "data": {
      "text/plain": [
       "54.49981718766679"
      ]
     },
     "execution_count": 166,
     "metadata": {},
     "output_type": "execute_result"
    }
   ],
   "source": [
    "df_cleaned.NRO_CREDITO_VIVIENDA_HOMBRES.std()"
   ]
  },
  {
   "cell_type": "code",
   "execution_count": 167,
   "metadata": {},
   "outputs": [
    {
     "data": {
      "text/plain": [
       "count   603,232\n",
       "mean         15\n",
       "std         497\n",
       "min           0\n",
       "25%           0\n",
       "50%           0\n",
       "75%           0\n",
       "max      78,439\n",
       "Name: NRO_MICROCREDITO_MUJERES, dtype: float64"
      ]
     },
     "execution_count": 167,
     "metadata": {},
     "output_type": "execute_result"
    }
   ],
   "source": [
    "df_cleaned.NRO_MICROCREDITO_MUJERES.describe()"
   ]
  },
  {
   "cell_type": "code",
   "execution_count": 168,
   "metadata": {},
   "outputs": [
    {
     "data": {
      "text/plain": [
       "14.792562397220307"
      ]
     },
     "execution_count": 168,
     "metadata": {},
     "output_type": "execute_result"
    }
   ],
   "source": [
    "df_cleaned.NRO_MICROCREDITO_MUJERES.mean()"
   ]
  },
  {
   "cell_type": "code",
   "execution_count": 169,
   "metadata": {},
   "outputs": [
    {
     "data": {
      "text/plain": [
       "603232"
      ]
     },
     "execution_count": 169,
     "metadata": {},
     "output_type": "execute_result"
    }
   ],
   "source": [
    "df_cleaned.NRO_MICROCREDITO_MUJERES.count()"
   ]
  },
  {
   "cell_type": "code",
   "execution_count": 170,
   "metadata": {},
   "outputs": [
    {
     "data": {
      "text/plain": [
       "496.7952299515808"
      ]
     },
     "execution_count": 170,
     "metadata": {},
     "output_type": "execute_result"
    }
   ],
   "source": [
    "df_cleaned.NRO_MICROCREDITO_MUJERES.std()"
   ]
  },
  {
   "cell_type": "code",
   "execution_count": 171,
   "metadata": {},
   "outputs": [
    {
     "data": {
      "text/plain": [
       "count   603,232\n",
       "mean         11\n",
       "std         375\n",
       "min           0\n",
       "25%           0\n",
       "50%           0\n",
       "75%           0\n",
       "max      62,082\n",
       "Name: NRO_MICROCREDITO_HOMBRES, dtype: float64"
      ]
     },
     "execution_count": 171,
     "metadata": {},
     "output_type": "execute_result"
    }
   ],
   "source": [
    "df_cleaned.NRO_MICROCREDITO_HOMBRES.describe()"
   ]
  },
  {
   "cell_type": "code",
   "execution_count": 172,
   "metadata": {},
   "outputs": [
    {
     "data": {
      "text/plain": [
       "11.26573523950984"
      ]
     },
     "execution_count": 172,
     "metadata": {},
     "output_type": "execute_result"
    }
   ],
   "source": [
    "df_cleaned.NRO_MICROCREDITO_HOMBRES.mean()"
   ]
  },
  {
   "cell_type": "code",
   "execution_count": 173,
   "metadata": {},
   "outputs": [
    {
     "data": {
      "text/plain": [
       "603232"
      ]
     },
     "execution_count": 173,
     "metadata": {},
     "output_type": "execute_result"
    }
   ],
   "source": [
    "df_cleaned.NRO_MICROCREDITO_HOMBRES.count()"
   ]
  },
  {
   "cell_type": "code",
   "execution_count": 174,
   "metadata": {},
   "outputs": [
    {
     "data": {
      "text/plain": [
       "375.0037621786745"
      ]
     },
     "execution_count": 174,
     "metadata": {},
     "output_type": "execute_result"
    }
   ],
   "source": [
    "df_cleaned.NRO_MICROCREDITO_HOMBRES.std()\n",
    " "
   ]
  },
  {
   "cell_type": "code",
   "execution_count": 175,
   "metadata": {},
   "outputs": [],
   "source": [
    "# Guardar el DataFrame limpio en un archivo CSV\n",
    "# index=False para no guardar los índices como una columna\n",
    "\n",
    "df_cleaned.to_csv(\"Financiera.csv\", index=False)"
   ]
  }
 ],
 "metadata": {
  "kernelspec": {
   "display_name": "Python 3",
   "language": "python",
   "name": "python3"
  },
  "language_info": {
   "codemirror_mode": {
    "name": "ipython",
    "version": 3
   },
   "file_extension": ".py",
   "mimetype": "text/x-python",
   "name": "python",
   "nbconvert_exporter": "python",
   "pygments_lexer": "ipython3",
   "version": "3.12.3"
  }
 },
 "nbformat": 4,
 "nbformat_minor": 2
}
