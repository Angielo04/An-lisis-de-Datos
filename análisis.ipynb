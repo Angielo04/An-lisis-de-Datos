{
 "cells": [
  {
   "cell_type": "code",
   "execution_count": 1,
   "id": "581eba5a",
   "metadata": {},
   "outputs": [],
   "source": [
    "# utilizo la libreria de pandas\n",
    "\n",
    "import pandas as pd"
   ]
  },
  {
   "cell_type": "code",
   "execution_count": 2,
   "id": "fb5882b1",
   "metadata": {},
   "outputs": [],
   "source": [
    "# Guardo los datos del cvs en un data frame llamado df\n",
    "\n",
    "df = pd.read_csv(\"C:\\\\Users\\\\anggl\\\\OneDrive\\\\Escritorio\\\\trabajo python\\\\Financiera_source.csv\",low_memory=False)"
   ]
  },
  {
   "cell_type": "code",
   "execution_count": 3,
   "id": "4fb9657f",
   "metadata": {},
   "outputs": [
    {
     "data": {
      "text/plain": [
       "(602364, 87)"
      ]
     },
     "execution_count": 3,
     "metadata": {},
     "output_type": "execute_result"
    }
   ],
   "source": [
    "# muestro la cantidad de filas y columnas\n",
    "\n",
    "df.shape\n"
   ]
  },
  {
   "cell_type": "code",
   "execution_count": 4,
   "id": "6ac2e18e",
   "metadata": {},
   "outputs": [
    {
     "name": "stdout",
     "output_type": "stream",
     "text": [
      "<class 'pandas.core.frame.DataFrame'>\n",
      "RangeIndex: 602364 entries, 0 to 602363\n",
      "Data columns (total 87 columns):\n",
      " #   Column                                    Non-Null Count   Dtype  \n",
      "---  ------                                    --------------   -----  \n",
      " 0   TIPO DE ENTIDAD                           602364 non-null  object \n",
      " 1   CODIGO DE LA  ENTIDAD                     567288 non-null  float64\n",
      " 2   NOMBRE DE LA  ENTIDAD                     567288 non-null  object \n",
      " 3   FECHA DE CORTE                            567288 non-null  object \n",
      " 4   UNIDAD DE CAPTURA                         567288 non-null  float64\n",
      " 5   DEPARTAMENTO                              567288 non-null  object \n",
      " 6   RENGLON                                   567288 non-null  float64\n",
      " 7   MUNICIPIO                                 567288 non-null  object \n",
      " 8   TIPO                                      562849 non-null  object \n",
      " 9   NRO CORRESPONSALES PROPIOS                567288 non-null  float64\n",
      " 10  NRO CORRESPONSALES TERCERIZADOS           567288 non-null  float64\n",
      " 11  NRO CORRESPONSALES ACTIVOS                567288 non-null  float64\n",
      " 12  NRO CORRESPONSALES                        567288 non-null  float64\n",
      " 13  NRO DEPOSITOS                             567288 non-null  float64\n",
      " 14  MONTO DEPOSITOS                           567288 non-null  float64\n",
      " 15  NRO GIROS ENVIADOS                        567288 non-null  float64\n",
      " 16  MONTO GIROS ENVIADOS                      567288 non-null  float64\n",
      " 17  NRO GIROS RECIBIDOS                       567288 non-null  float64\n",
      " 18  MONTO GIROS RECIBIDOS                     567288 non-null  float64\n",
      " 19  NRO PAGOS                                 567288 non-null  float64\n",
      " 20  MONTO PAGOS                               567288 non-null  float64\n",
      " 21  NRO RETIROS                               567288 non-null  float64\n",
      " 22  MONTO RETIROS                             567288 non-null  float64\n",
      " 23  NRO TRANSFERENCIAS                        567288 non-null  float64\n",
      " 24  MONTO TRANSFERENCIAS                      567288 non-null  float64\n",
      " 25  NRO TOTAL                                 567288 non-null  float64\n",
      " 26  MONTO TOTAL                               567288 non-null  float64\n",
      " 27  NRO CTA AHORRO HASTA 1 SMMLV              567288 non-null  float64\n",
      " 28  SALDO CTA AHORRO HASTA 1 SMMLV            567288 non-null  float64\n",
      " 29  NRO CTA AHORRO > 1 SMMLV HASTA 3 SMMLV    567288 non-null  float64\n",
      " 30  SALDO CTA AHORRO> 1 SMMLV HASTA 3 SMMLV   567288 non-null  float64\n",
      " 31  NRO CTA AHORRO> 3 SMMLV HASTA 5 SMMLV     567288 non-null  float64\n",
      " 32  SALDO CTA AHORRO> 3 SMMLV HASTA 5 SMMLV   567288 non-null  float64\n",
      " 33  NRO CTA AHORRO ACTIVAS                    567288 non-null  float64\n",
      " 34  SALDO CTA AHORRO ACTIVAS                  567288 non-null  float64\n",
      " 35  NRO CTA AHORRO MUJERES                    567288 non-null  float64\n",
      " 36  SALDO CTA AHORRO MUJERES                  567288 non-null  float64\n",
      " 37  NRO CTA AHORRO HOMBRES                    567288 non-null  float64\n",
      " 38  SALDO CTA AHORRO HOMBRES                  567288 non-null  float64\n",
      " 39  NRO TOTAL CTA AHORROS                     567288 non-null  float64\n",
      " 40  SALDO TOTAL CTA AHORROS                   567288 non-null  float64\n",
      " 41  NRO CTA AHORRO ELECTRONICAS ACTIVAS       567288 non-null  float64\n",
      " 42  SALDO CTA AHORRO ELECTRONICAS ACTIVAS     567288 non-null  float64\n",
      " 43  NRO CTA AHORRO ELECTRONICAS MUJERES       567288 non-null  float64\n",
      " 44  SALDO CTA AHORRO ELECTRONICAS MUJERES     567288 non-null  float64\n",
      " 45  NRO CTA AHORRO ELECTRONICAS HOMBRES       567288 non-null  float64\n",
      " 46  SALDO CTA AHORRO ELECTRONICAS HOMBRES     567288 non-null  float64\n",
      " 47  NRO TOTAL CTA AHORROS ELECTRONICAS        567288 non-null  float64\n",
      " 48  SALDO TOTAL CTA AHORROS ELECTRONICAS      567288 non-null  float64\n",
      " 49  NRO CREDITO CONSUMO MUJERES               567288 non-null  float64\n",
      " 50  MONTO CREDITO CONSUMO MUJERES             567288 non-null  float64\n",
      " 51  NRO CREDITO CONSUMO HOMBRES               567288 non-null  float64\n",
      " 52  MONTO CREDITO CONSUMO  HOMBRES            567288 non-null  float64\n",
      " 53  NRO TOTAL CREDITO CONSUMO                 567288 non-null  float64\n",
      " 54  MONTO TOTAL CREDITO CONSUMO               567288 non-null  float64\n",
      " 55  NRO CRED CONS BAJO MONTO MUJERES          567288 non-null  float64\n",
      " 56  MONTO CRED CONS BAJO MONTO MUJERES        567288 non-null  float64\n",
      " 57  NRO CRED CONS BAJO MONTO HOMBRES          567288 non-null  float64\n",
      " 58  MONTO CRED CONS BAJO MONTO HOMBRES        567288 non-null  float64\n",
      " 59  NRO TOTAL CRED CONS BAJO MONTO            567288 non-null  float64\n",
      " 60  MONTO TOTAL CRED CONS BAJO MONTO          567288 non-null  float64\n",
      " 61  NRO CREDITO VIVIENDA MUJERES              567288 non-null  float64\n",
      " 62  MONTO CREDITO VIVIENDA MUJERES            567288 non-null  float64\n",
      " 63  NRO CREDITO VIVIENDA HOMBRES              567288 non-null  float64\n",
      " 64  MONTO CREDITO VIVIENDA HOMBRES            567288 non-null  float64\n",
      " 65  NRO TOTAL CREDITO VIVIENDA                567288 non-null  float64\n",
      " 66  MONTO TOTAL CREDITO VIVIENDA              567288 non-null  float64\n",
      " 67  NRO MICROCREDITO HASTA 1 SMMLV            567288 non-null  float64\n",
      " 68  MONTO MICROCREDITO HASTA 1 SMMLV          567288 non-null  float64\n",
      " 69  NRO MICROCREDITO > 1 SMMLV HASTA 2 SMMLV  567288 non-null  float64\n",
      " 70  MONTO MICROCREDITO> 1SMMLV HASTA 2SMMLV   567288 non-null  float64\n",
      " 71  NRO MICROCREDITO> 2 SMMLV HASTA 3 SMMLV   567288 non-null  float64\n",
      " 72  MONTO MICROCREDITO> 2SMMLV HASTA 3SMMLV   567288 non-null  float64\n",
      " 73  NRO MICROCREDITO> 3 SMMLV HASTA 4 SMMLV   567288 non-null  float64\n",
      " 74  MONTO MICROCREDITO> 3SMMLV HASTA 4SMMLV   567288 non-null  float64\n",
      " 75  NRO MICROCREDITO> 4 SMMLV HASTA 10 SMMLV  567288 non-null  float64\n",
      " 76  MONTO MICROCREDITO> 4SMMLV HASTA 10SMML   567288 non-null  float64\n",
      " 77  NRO MICROCREDITO> 10SMMLV HASTA 25SMMLV   567288 non-null  float64\n",
      " 78  MONTO MICROCREDI> 10SMMLV HASTA 25SMMLV   567288 non-null  float64\n",
      " 79  NRO MICROCREDITO MUJERES                  567288 non-null  float64\n",
      " 80  MONTO MICROCREDITO MUJERES                567288 non-null  float64\n",
      " 81  NRO MICROCREDITO HOMBRES                  567288 non-null  float64\n",
      " 82  MONTO MICROCREDITO HOMBRES                567288 non-null  float64\n",
      " 83  NRO TOTAL MICROCREDITO                    567288 non-null  float64\n",
      " 84  MONTO TOTAL MICROCREDITO                  567288 non-null  float64\n",
      " 85  NRO PROD DEPOSITO NIVEL NACIONAL          567288 non-null  float64\n",
      " 86  MONTO PROD DEPOSITO NIVEL NACIONAL        567288 non-null  float64\n",
      "dtypes: float64(81), object(6)\n",
      "memory usage: 399.8+ MB\n"
     ]
    }
   ],
   "source": [
    "# informacion de toda la base\n",
    "\n",
    "df.info()"
   ]
  },
  {
   "cell_type": "code",
   "execution_count": 5,
   "id": "5809937f",
   "metadata": {},
   "outputs": [
    {
     "data": {
      "text/html": [
       "<div>\n",
       "<style scoped>\n",
       "    .dataframe tbody tr th:only-of-type {\n",
       "        vertical-align: middle;\n",
       "    }\n",
       "\n",
       "    .dataframe tbody tr th {\n",
       "        vertical-align: top;\n",
       "    }\n",
       "\n",
       "    .dataframe thead th {\n",
       "        text-align: right;\n",
       "    }\n",
       "</style>\n",
       "<table border=\"1\" class=\"dataframe\">\n",
       "  <thead>\n",
       "    <tr style=\"text-align: right;\">\n",
       "      <th></th>\n",
       "      <th>TIPO DE ENTIDAD</th>\n",
       "      <th>CODIGO DE LA  ENTIDAD</th>\n",
       "      <th>NOMBRE DE LA  ENTIDAD</th>\n",
       "      <th>FECHA DE CORTE</th>\n",
       "      <th>UNIDAD DE CAPTURA</th>\n",
       "      <th>DEPARTAMENTO</th>\n",
       "      <th>RENGLON</th>\n",
       "      <th>MUNICIPIO</th>\n",
       "      <th>TIPO</th>\n",
       "      <th>NRO CORRESPONSALES PROPIOS</th>\n",
       "      <th>...</th>\n",
       "      <th>NRO MICROCREDITO&gt; 10SMMLV HASTA 25SMMLV</th>\n",
       "      <th>MONTO MICROCREDI&gt; 10SMMLV HASTA 25SMMLV</th>\n",
       "      <th>NRO MICROCREDITO MUJERES</th>\n",
       "      <th>MONTO MICROCREDITO MUJERES</th>\n",
       "      <th>NRO MICROCREDITO HOMBRES</th>\n",
       "      <th>MONTO MICROCREDITO HOMBRES</th>\n",
       "      <th>NRO TOTAL MICROCREDITO</th>\n",
       "      <th>MONTO TOTAL MICROCREDITO</th>\n",
       "      <th>NRO PROD DEPOSITO NIVEL NACIONAL</th>\n",
       "      <th>MONTO PROD DEPOSITO NIVEL NACIONAL</th>\n",
       "    </tr>\n",
       "  </thead>\n",
       "  <tbody>\n",
       "    <tr>\n",
       "      <th>0</th>\n",
       "      <td>1</td>\n",
       "      <td>39.0</td>\n",
       "      <td>Banco Davivienda</td>\n",
       "      <td>31/12/2017</td>\n",
       "      <td>1.0</td>\n",
       "      <td>ANTIOQUIA</td>\n",
       "      <td>847.0</td>\n",
       "      <td>URRAO</td>\n",
       "      <td>TRANS Y TRAMITES EN CORRESPONSALES</td>\n",
       "      <td>0.0</td>\n",
       "      <td>...</td>\n",
       "      <td>0.0</td>\n",
       "      <td>0.0</td>\n",
       "      <td>0.0</td>\n",
       "      <td>0.0</td>\n",
       "      <td>0.0</td>\n",
       "      <td>0.0</td>\n",
       "      <td>0.0</td>\n",
       "      <td>0.0</td>\n",
       "      <td>0.0</td>\n",
       "      <td>0.0</td>\n",
       "    </tr>\n",
       "    <tr>\n",
       "      <th>1</th>\n",
       "      <td>1</td>\n",
       "      <td>9.0</td>\n",
       "      <td>Citibank</td>\n",
       "      <td>31/12/2017</td>\n",
       "      <td>1.0</td>\n",
       "      <td>ANTIOQUIA</td>\n",
       "      <td>209.0</td>\n",
       "      <td>CONCORDIA</td>\n",
       "      <td>TRANS Y TRAMITES EN CORRESPONSALES</td>\n",
       "      <td>0.0</td>\n",
       "      <td>...</td>\n",
       "      <td>0.0</td>\n",
       "      <td>0.0</td>\n",
       "      <td>0.0</td>\n",
       "      <td>0.0</td>\n",
       "      <td>0.0</td>\n",
       "      <td>0.0</td>\n",
       "      <td>0.0</td>\n",
       "      <td>0.0</td>\n",
       "      <td>0.0</td>\n",
       "      <td>0.0</td>\n",
       "    </tr>\n",
       "    <tr>\n",
       "      <th>2</th>\n",
       "      <td>1</td>\n",
       "      <td>1.0</td>\n",
       "      <td>Banco De Bogota</td>\n",
       "      <td>31/12/2017</td>\n",
       "      <td>1.0</td>\n",
       "      <td>ANTIOQUIA</td>\n",
       "      <td>360.0</td>\n",
       "      <td>ITAGUI</td>\n",
       "      <td>CREDITO DE VIVIENDA</td>\n",
       "      <td>0.0</td>\n",
       "      <td>...</td>\n",
       "      <td>0.0</td>\n",
       "      <td>0.0</td>\n",
       "      <td>0.0</td>\n",
       "      <td>0.0</td>\n",
       "      <td>0.0</td>\n",
       "      <td>0.0</td>\n",
       "      <td>0.0</td>\n",
       "      <td>0.0</td>\n",
       "      <td>0.0</td>\n",
       "      <td>0.0</td>\n",
       "    </tr>\n",
       "    <tr>\n",
       "      <th>3</th>\n",
       "      <td>1</td>\n",
       "      <td>58.0</td>\n",
       "      <td>Coopcentral</td>\n",
       "      <td>31/12/2017</td>\n",
       "      <td>1.0</td>\n",
       "      <td>ANTIOQUIA</td>\n",
       "      <td>1.0</td>\n",
       "      <td>MEDELLIN</td>\n",
       "      <td>MICROCREDITO</td>\n",
       "      <td>0.0</td>\n",
       "      <td>...</td>\n",
       "      <td>0.0</td>\n",
       "      <td>0.0</td>\n",
       "      <td>0.0</td>\n",
       "      <td>0.0</td>\n",
       "      <td>1.0</td>\n",
       "      <td>29000000.0</td>\n",
       "      <td>1.0</td>\n",
       "      <td>29000000.0</td>\n",
       "      <td>0.0</td>\n",
       "      <td>0.0</td>\n",
       "    </tr>\n",
       "    <tr>\n",
       "      <th>4</th>\n",
       "      <td>1</td>\n",
       "      <td>52.0</td>\n",
       "      <td>Bancamía S.A.</td>\n",
       "      <td>31/12/2017</td>\n",
       "      <td>1.0</td>\n",
       "      <td>ANTIOQUIA</td>\n",
       "      <td>649.0</td>\n",
       "      <td>SAN CARLOS</td>\n",
       "      <td>CORRESPONSALES</td>\n",
       "      <td>0.0</td>\n",
       "      <td>...</td>\n",
       "      <td>0.0</td>\n",
       "      <td>0.0</td>\n",
       "      <td>0.0</td>\n",
       "      <td>0.0</td>\n",
       "      <td>0.0</td>\n",
       "      <td>0.0</td>\n",
       "      <td>0.0</td>\n",
       "      <td>0.0</td>\n",
       "      <td>0.0</td>\n",
       "      <td>0.0</td>\n",
       "    </tr>\n",
       "    <tr>\n",
       "      <th>...</th>\n",
       "      <td>...</td>\n",
       "      <td>...</td>\n",
       "      <td>...</td>\n",
       "      <td>...</td>\n",
       "      <td>...</td>\n",
       "      <td>...</td>\n",
       "      <td>...</td>\n",
       "      <td>...</td>\n",
       "      <td>...</td>\n",
       "      <td>...</td>\n",
       "      <td>...</td>\n",
       "      <td>...</td>\n",
       "      <td>...</td>\n",
       "      <td>...</td>\n",
       "      <td>...</td>\n",
       "      <td>...</td>\n",
       "      <td>...</td>\n",
       "      <td>...</td>\n",
       "      <td>...</td>\n",
       "      <td>...</td>\n",
       "      <td>...</td>\n",
       "    </tr>\n",
       "    <tr>\n",
       "      <th>602359</th>\n",
       "      <td>128</td>\n",
       "      <td>2.0</td>\n",
       "      <td>Pgde</td>\n",
       "      <td>31/03/2021</td>\n",
       "      <td>33.0</td>\n",
       "      <td>VICHADA</td>\n",
       "      <td>624.0</td>\n",
       "      <td>SANTA ROSALÍA</td>\n",
       "      <td>CORRESPONSALES</td>\n",
       "      <td>0.0</td>\n",
       "      <td>...</td>\n",
       "      <td>0.0</td>\n",
       "      <td>0.0</td>\n",
       "      <td>0.0</td>\n",
       "      <td>0.0</td>\n",
       "      <td>0.0</td>\n",
       "      <td>0.0</td>\n",
       "      <td>0.0</td>\n",
       "      <td>0.0</td>\n",
       "      <td>0.0</td>\n",
       "      <td>0.0</td>\n",
       "    </tr>\n",
       "    <tr>\n",
       "      <th>602360</th>\n",
       "      <td>128</td>\n",
       "      <td>2.0</td>\n",
       "      <td>Pgde</td>\n",
       "      <td>31/03/2021</td>\n",
       "      <td>33.0</td>\n",
       "      <td>VICHADA</td>\n",
       "      <td>1.0</td>\n",
       "      <td>PUERTO CARRENO</td>\n",
       "      <td>CORRESPONSALES</td>\n",
       "      <td>0.0</td>\n",
       "      <td>...</td>\n",
       "      <td>0.0</td>\n",
       "      <td>0.0</td>\n",
       "      <td>0.0</td>\n",
       "      <td>0.0</td>\n",
       "      <td>0.0</td>\n",
       "      <td>0.0</td>\n",
       "      <td>0.0</td>\n",
       "      <td>0.0</td>\n",
       "      <td>0.0</td>\n",
       "      <td>0.0</td>\n",
       "    </tr>\n",
       "    <tr>\n",
       "      <th>602361</th>\n",
       "      <td>128</td>\n",
       "      <td>1.0</td>\n",
       "      <td>Movii S.A.</td>\n",
       "      <td>31/03/2021</td>\n",
       "      <td>33.0</td>\n",
       "      <td>VICHADA</td>\n",
       "      <td>524.0</td>\n",
       "      <td>LA PRIMAVERA</td>\n",
       "      <td>TRANS Y TRAMITES EN CORRESPONSALES</td>\n",
       "      <td>0.0</td>\n",
       "      <td>...</td>\n",
       "      <td>0.0</td>\n",
       "      <td>0.0</td>\n",
       "      <td>0.0</td>\n",
       "      <td>0.0</td>\n",
       "      <td>0.0</td>\n",
       "      <td>0.0</td>\n",
       "      <td>0.0</td>\n",
       "      <td>0.0</td>\n",
       "      <td>0.0</td>\n",
       "      <td>0.0</td>\n",
       "    </tr>\n",
       "    <tr>\n",
       "      <th>602362</th>\n",
       "      <td>128</td>\n",
       "      <td>2.0</td>\n",
       "      <td>Pgde</td>\n",
       "      <td>31/03/2021</td>\n",
       "      <td>33.0</td>\n",
       "      <td>VICHADA</td>\n",
       "      <td>524.0</td>\n",
       "      <td>LA PRIMAVERA</td>\n",
       "      <td>CORRESPONSALES</td>\n",
       "      <td>0.0</td>\n",
       "      <td>...</td>\n",
       "      <td>0.0</td>\n",
       "      <td>0.0</td>\n",
       "      <td>0.0</td>\n",
       "      <td>0.0</td>\n",
       "      <td>0.0</td>\n",
       "      <td>0.0</td>\n",
       "      <td>0.0</td>\n",
       "      <td>0.0</td>\n",
       "      <td>0.0</td>\n",
       "      <td>0.0</td>\n",
       "    </tr>\n",
       "    <tr>\n",
       "      <th>602363</th>\n",
       "      <td>128</td>\n",
       "      <td>2.0</td>\n",
       "      <td>Pgde</td>\n",
       "      <td>31/03/2021</td>\n",
       "      <td>33.0</td>\n",
       "      <td>VICHADA</td>\n",
       "      <td>999.0</td>\n",
       "      <td>TOTAL VICHADA</td>\n",
       "      <td>CORRESPONSALES</td>\n",
       "      <td>0.0</td>\n",
       "      <td>...</td>\n",
       "      <td>0.0</td>\n",
       "      <td>0.0</td>\n",
       "      <td>0.0</td>\n",
       "      <td>0.0</td>\n",
       "      <td>0.0</td>\n",
       "      <td>0.0</td>\n",
       "      <td>0.0</td>\n",
       "      <td>0.0</td>\n",
       "      <td>0.0</td>\n",
       "      <td>0.0</td>\n",
       "    </tr>\n",
       "  </tbody>\n",
       "</table>\n",
       "<p>602364 rows × 87 columns</p>\n",
       "</div>"
      ],
      "text/plain": [
       "       TIPO DE ENTIDAD  CODIGO DE LA  ENTIDAD NOMBRE DE LA  ENTIDAD  \\\n",
       "0                    1                   39.0      Banco Davivienda   \n",
       "1                    1                    9.0              Citibank   \n",
       "2                    1                    1.0       Banco De Bogota   \n",
       "3                    1                   58.0           Coopcentral   \n",
       "4                    1                   52.0         Bancamía S.A.   \n",
       "...                ...                    ...                   ...   \n",
       "602359             128                    2.0                  Pgde   \n",
       "602360             128                    2.0                  Pgde   \n",
       "602361             128                    1.0            Movii S.A.   \n",
       "602362             128                    2.0                  Pgde   \n",
       "602363             128                    2.0                  Pgde   \n",
       "\n",
       "       FECHA DE CORTE  UNIDAD DE CAPTURA DEPARTAMENTO  RENGLON  \\\n",
       "0          31/12/2017                1.0    ANTIOQUIA    847.0   \n",
       "1          31/12/2017                1.0    ANTIOQUIA    209.0   \n",
       "2          31/12/2017                1.0    ANTIOQUIA    360.0   \n",
       "3          31/12/2017                1.0    ANTIOQUIA      1.0   \n",
       "4          31/12/2017                1.0    ANTIOQUIA    649.0   \n",
       "...               ...                ...          ...      ...   \n",
       "602359     31/03/2021               33.0      VICHADA    624.0   \n",
       "602360     31/03/2021               33.0      VICHADA      1.0   \n",
       "602361     31/03/2021               33.0      VICHADA    524.0   \n",
       "602362     31/03/2021               33.0      VICHADA    524.0   \n",
       "602363     31/03/2021               33.0      VICHADA    999.0   \n",
       "\n",
       "             MUNICIPIO                                TIPO  \\\n",
       "0                URRAO  TRANS Y TRAMITES EN CORRESPONSALES   \n",
       "1            CONCORDIA  TRANS Y TRAMITES EN CORRESPONSALES   \n",
       "2               ITAGUI                 CREDITO DE VIVIENDA   \n",
       "3             MEDELLIN                        MICROCREDITO   \n",
       "4           SAN CARLOS                      CORRESPONSALES   \n",
       "...                ...                                 ...   \n",
       "602359   SANTA ROSALÍA                      CORRESPONSALES   \n",
       "602360  PUERTO CARRENO                      CORRESPONSALES   \n",
       "602361    LA PRIMAVERA  TRANS Y TRAMITES EN CORRESPONSALES   \n",
       "602362    LA PRIMAVERA                      CORRESPONSALES   \n",
       "602363   TOTAL VICHADA                      CORRESPONSALES   \n",
       "\n",
       "        NRO CORRESPONSALES PROPIOS  ...  \\\n",
       "0                              0.0  ...   \n",
       "1                              0.0  ...   \n",
       "2                              0.0  ...   \n",
       "3                              0.0  ...   \n",
       "4                              0.0  ...   \n",
       "...                            ...  ...   \n",
       "602359                         0.0  ...   \n",
       "602360                         0.0  ...   \n",
       "602361                         0.0  ...   \n",
       "602362                         0.0  ...   \n",
       "602363                         0.0  ...   \n",
       "\n",
       "        NRO MICROCREDITO> 10SMMLV HASTA 25SMMLV  \\\n",
       "0                                           0.0   \n",
       "1                                           0.0   \n",
       "2                                           0.0   \n",
       "3                                           0.0   \n",
       "4                                           0.0   \n",
       "...                                         ...   \n",
       "602359                                      0.0   \n",
       "602360                                      0.0   \n",
       "602361                                      0.0   \n",
       "602362                                      0.0   \n",
       "602363                                      0.0   \n",
       "\n",
       "        MONTO MICROCREDI> 10SMMLV HASTA 25SMMLV  NRO MICROCREDITO MUJERES  \\\n",
       "0                                           0.0                       0.0   \n",
       "1                                           0.0                       0.0   \n",
       "2                                           0.0                       0.0   \n",
       "3                                           0.0                       0.0   \n",
       "4                                           0.0                       0.0   \n",
       "...                                         ...                       ...   \n",
       "602359                                      0.0                       0.0   \n",
       "602360                                      0.0                       0.0   \n",
       "602361                                      0.0                       0.0   \n",
       "602362                                      0.0                       0.0   \n",
       "602363                                      0.0                       0.0   \n",
       "\n",
       "        MONTO MICROCREDITO MUJERES  NRO MICROCREDITO HOMBRES  \\\n",
       "0                              0.0                       0.0   \n",
       "1                              0.0                       0.0   \n",
       "2                              0.0                       0.0   \n",
       "3                              0.0                       1.0   \n",
       "4                              0.0                       0.0   \n",
       "...                            ...                       ...   \n",
       "602359                         0.0                       0.0   \n",
       "602360                         0.0                       0.0   \n",
       "602361                         0.0                       0.0   \n",
       "602362                         0.0                       0.0   \n",
       "602363                         0.0                       0.0   \n",
       "\n",
       "        MONTO MICROCREDITO HOMBRES  NRO TOTAL MICROCREDITO   \\\n",
       "0                              0.0                      0.0   \n",
       "1                              0.0                      0.0   \n",
       "2                              0.0                      0.0   \n",
       "3                       29000000.0                      1.0   \n",
       "4                              0.0                      0.0   \n",
       "...                            ...                      ...   \n",
       "602359                         0.0                      0.0   \n",
       "602360                         0.0                      0.0   \n",
       "602361                         0.0                      0.0   \n",
       "602362                         0.0                      0.0   \n",
       "602363                         0.0                      0.0   \n",
       "\n",
       "        MONTO TOTAL MICROCREDITO  NRO PROD DEPOSITO NIVEL NACIONAL  \\\n",
       "0                            0.0                               0.0   \n",
       "1                            0.0                               0.0   \n",
       "2                            0.0                               0.0   \n",
       "3                     29000000.0                               0.0   \n",
       "4                            0.0                               0.0   \n",
       "...                          ...                               ...   \n",
       "602359                       0.0                               0.0   \n",
       "602360                       0.0                               0.0   \n",
       "602361                       0.0                               0.0   \n",
       "602362                       0.0                               0.0   \n",
       "602363                       0.0                               0.0   \n",
       "\n",
       "        MONTO PROD DEPOSITO NIVEL NACIONAL  \n",
       "0                                      0.0  \n",
       "1                                      0.0  \n",
       "2                                      0.0  \n",
       "3                                      0.0  \n",
       "4                                      0.0  \n",
       "...                                    ...  \n",
       "602359                                 0.0  \n",
       "602360                                 0.0  \n",
       "602361                                 0.0  \n",
       "602362                                 0.0  \n",
       "602363                                 0.0  \n",
       "\n",
       "[602364 rows x 87 columns]"
      ]
     },
     "execution_count": 5,
     "metadata": {},
     "output_type": "execute_result"
    }
   ],
   "source": [
    "# muestra los primeros 5 y los primeros ultimos 5\n",
    "df"
   ]
  },
  {
   "cell_type": "code",
   "execution_count": 6,
   "id": "61ecdfbe",
   "metadata": {},
   "outputs": [
    {
     "data": {
      "text/plain": [
       "Index(['TIPO DE ENTIDAD', 'CODIGO DE LA  ENTIDAD', 'NOMBRE DE LA  ENTIDAD',\n",
       "       'FECHA DE CORTE', 'UNIDAD DE CAPTURA', 'DEPARTAMENTO', 'RENGLON',\n",
       "       'MUNICIPIO', 'TIPO', 'NRO CORRESPONSALES PROPIOS',\n",
       "       'NRO CORRESPONSALES TERCERIZADOS', 'NRO CORRESPONSALES ACTIVOS',\n",
       "       'NRO CORRESPONSALES', 'NRO DEPOSITOS', 'MONTO DEPOSITOS',\n",
       "       'NRO GIROS ENVIADOS ', 'MONTO GIROS ENVIADOS ', 'NRO GIROS RECIBIDOS',\n",
       "       'MONTO GIROS RECIBIDOS', 'NRO PAGOS', 'MONTO PAGOS', 'NRO RETIROS',\n",
       "       'MONTO RETIROS', 'NRO TRANSFERENCIAS', 'MONTO TRANSFERENCIAS',\n",
       "       'NRO TOTAL ', 'MONTO TOTAL', 'NRO CTA AHORRO HASTA 1 SMMLV',\n",
       "       'SALDO CTA AHORRO HASTA 1 SMMLV',\n",
       "       'NRO CTA AHORRO > 1 SMMLV HASTA 3 SMMLV',\n",
       "       'SALDO CTA AHORRO> 1 SMMLV HASTA 3 SMMLV',\n",
       "       'NRO CTA AHORRO> 3 SMMLV HASTA 5 SMMLV',\n",
       "       'SALDO CTA AHORRO> 3 SMMLV HASTA 5 SMMLV', 'NRO CTA AHORRO ACTIVAS',\n",
       "       'SALDO CTA AHORRO ACTIVAS', 'NRO CTA AHORRO MUJERES',\n",
       "       'SALDO CTA AHORRO MUJERES', 'NRO CTA AHORRO HOMBRES',\n",
       "       'SALDO CTA AHORRO HOMBRES', 'NRO TOTAL CTA AHORROS',\n",
       "       'SALDO TOTAL CTA AHORROS', 'NRO CTA AHORRO ELECTRONICAS ACTIVAS',\n",
       "       'SALDO CTA AHORRO ELECTRONICAS ACTIVAS',\n",
       "       'NRO CTA AHORRO ELECTRONICAS MUJERES',\n",
       "       'SALDO CTA AHORRO ELECTRONICAS MUJERES',\n",
       "       'NRO CTA AHORRO ELECTRONICAS HOMBRES',\n",
       "       'SALDO CTA AHORRO ELECTRONICAS HOMBRES',\n",
       "       'NRO TOTAL CTA AHORROS ELECTRONICAS ',\n",
       "       'SALDO TOTAL CTA AHORROS ELECTRONICAS ', 'NRO CREDITO CONSUMO MUJERES',\n",
       "       'MONTO CREDITO CONSUMO MUJERES', 'NRO CREDITO CONSUMO HOMBRES',\n",
       "       'MONTO CREDITO CONSUMO  HOMBRES', 'NRO TOTAL CREDITO CONSUMO',\n",
       "       'MONTO TOTAL CREDITO CONSUMO', 'NRO CRED CONS BAJO MONTO MUJERES',\n",
       "       'MONTO CRED CONS BAJO MONTO MUJERES',\n",
       "       'NRO CRED CONS BAJO MONTO HOMBRES',\n",
       "       'MONTO CRED CONS BAJO MONTO HOMBRES', 'NRO TOTAL CRED CONS BAJO MONTO',\n",
       "       'MONTO TOTAL CRED CONS BAJO MONTO', 'NRO CREDITO VIVIENDA MUJERES',\n",
       "       'MONTO CREDITO VIVIENDA MUJERES', 'NRO CREDITO VIVIENDA HOMBRES',\n",
       "       'MONTO CREDITO VIVIENDA HOMBRES', 'NRO TOTAL CREDITO VIVIENDA',\n",
       "       'MONTO TOTAL CREDITO VIVIENDA', 'NRO MICROCREDITO HASTA 1 SMMLV',\n",
       "       'MONTO MICROCREDITO HASTA 1 SMMLV',\n",
       "       'NRO MICROCREDITO > 1 SMMLV HASTA 2 SMMLV',\n",
       "       'MONTO MICROCREDITO> 1SMMLV HASTA 2SMMLV',\n",
       "       'NRO MICROCREDITO> 2 SMMLV HASTA 3 SMMLV',\n",
       "       'MONTO MICROCREDITO> 2SMMLV HASTA 3SMMLV',\n",
       "       'NRO MICROCREDITO> 3 SMMLV HASTA 4 SMMLV',\n",
       "       'MONTO MICROCREDITO> 3SMMLV HASTA 4SMMLV',\n",
       "       'NRO MICROCREDITO> 4 SMMLV HASTA 10 SMMLV',\n",
       "       'MONTO MICROCREDITO> 4SMMLV HASTA 10SMML',\n",
       "       'NRO MICROCREDITO> 10SMMLV HASTA 25SMMLV',\n",
       "       'MONTO MICROCREDI> 10SMMLV HASTA 25SMMLV', 'NRO MICROCREDITO MUJERES',\n",
       "       'MONTO MICROCREDITO MUJERES', 'NRO MICROCREDITO HOMBRES',\n",
       "       'MONTO MICROCREDITO HOMBRES', 'NRO TOTAL MICROCREDITO ',\n",
       "       'MONTO TOTAL MICROCREDITO', 'NRO PROD DEPOSITO NIVEL NACIONAL',\n",
       "       'MONTO PROD DEPOSITO NIVEL NACIONAL'],\n",
       "      dtype='object')"
      ]
     },
     "execution_count": 6,
     "metadata": {},
     "output_type": "execute_result"
    }
   ],
   "source": [
    "# muestra las columnas que tiene ek archivo\n",
    "df.columns"
   ]
  },
  {
   "cell_type": "code",
   "execution_count": 7,
   "id": "21c6d0b4",
   "metadata": {},
   "outputs": [
    {
     "data": {
      "text/html": [
       "<div>\n",
       "<style scoped>\n",
       "    .dataframe tbody tr th:only-of-type {\n",
       "        vertical-align: middle;\n",
       "    }\n",
       "\n",
       "    .dataframe tbody tr th {\n",
       "        vertical-align: top;\n",
       "    }\n",
       "\n",
       "    .dataframe thead th {\n",
       "        text-align: right;\n",
       "    }\n",
       "</style>\n",
       "<table border=\"1\" class=\"dataframe\">\n",
       "  <thead>\n",
       "    <tr style=\"text-align: right;\">\n",
       "      <th></th>\n",
       "      <th>TIPO DE ENTIDAD</th>\n",
       "      <th>CODIGO DE LA  ENTIDAD</th>\n",
       "      <th>NOMBRE DE LA  ENTIDAD</th>\n",
       "      <th>FECHA DE CORTE</th>\n",
       "      <th>UNIDAD DE CAPTURA</th>\n",
       "      <th>DEPARTAMENTO</th>\n",
       "      <th>RENGLON</th>\n",
       "      <th>MUNICIPIO</th>\n",
       "      <th>TIPO</th>\n",
       "      <th>NRO CORRESPONSALES PROPIOS</th>\n",
       "      <th>...</th>\n",
       "      <th>NRO MICROCREDITO&gt; 10SMMLV HASTA 25SMMLV</th>\n",
       "      <th>MONTO MICROCREDI&gt; 10SMMLV HASTA 25SMMLV</th>\n",
       "      <th>NRO MICROCREDITO MUJERES</th>\n",
       "      <th>MONTO MICROCREDITO MUJERES</th>\n",
       "      <th>NRO MICROCREDITO HOMBRES</th>\n",
       "      <th>MONTO MICROCREDITO HOMBRES</th>\n",
       "      <th>NRO TOTAL MICROCREDITO</th>\n",
       "      <th>MONTO TOTAL MICROCREDITO</th>\n",
       "      <th>NRO PROD DEPOSITO NIVEL NACIONAL</th>\n",
       "      <th>MONTO PROD DEPOSITO NIVEL NACIONAL</th>\n",
       "    </tr>\n",
       "  </thead>\n",
       "  <tbody>\n",
       "    <tr>\n",
       "      <th>0</th>\n",
       "      <td>1</td>\n",
       "      <td>39.0</td>\n",
       "      <td>Banco Davivienda</td>\n",
       "      <td>31/12/2017</td>\n",
       "      <td>1.0</td>\n",
       "      <td>ANTIOQUIA</td>\n",
       "      <td>847.0</td>\n",
       "      <td>URRAO</td>\n",
       "      <td>TRANS Y TRAMITES EN CORRESPONSALES</td>\n",
       "      <td>0.0</td>\n",
       "      <td>...</td>\n",
       "      <td>0.0</td>\n",
       "      <td>0.0</td>\n",
       "      <td>0.0</td>\n",
       "      <td>0.0</td>\n",
       "      <td>0.0</td>\n",
       "      <td>0.0</td>\n",
       "      <td>0.0</td>\n",
       "      <td>0.0</td>\n",
       "      <td>0.0</td>\n",
       "      <td>0.0</td>\n",
       "    </tr>\n",
       "    <tr>\n",
       "      <th>1</th>\n",
       "      <td>1</td>\n",
       "      <td>9.0</td>\n",
       "      <td>Citibank</td>\n",
       "      <td>31/12/2017</td>\n",
       "      <td>1.0</td>\n",
       "      <td>ANTIOQUIA</td>\n",
       "      <td>209.0</td>\n",
       "      <td>CONCORDIA</td>\n",
       "      <td>TRANS Y TRAMITES EN CORRESPONSALES</td>\n",
       "      <td>0.0</td>\n",
       "      <td>...</td>\n",
       "      <td>0.0</td>\n",
       "      <td>0.0</td>\n",
       "      <td>0.0</td>\n",
       "      <td>0.0</td>\n",
       "      <td>0.0</td>\n",
       "      <td>0.0</td>\n",
       "      <td>0.0</td>\n",
       "      <td>0.0</td>\n",
       "      <td>0.0</td>\n",
       "      <td>0.0</td>\n",
       "    </tr>\n",
       "    <tr>\n",
       "      <th>2</th>\n",
       "      <td>1</td>\n",
       "      <td>1.0</td>\n",
       "      <td>Banco De Bogota</td>\n",
       "      <td>31/12/2017</td>\n",
       "      <td>1.0</td>\n",
       "      <td>ANTIOQUIA</td>\n",
       "      <td>360.0</td>\n",
       "      <td>ITAGUI</td>\n",
       "      <td>CREDITO DE VIVIENDA</td>\n",
       "      <td>0.0</td>\n",
       "      <td>...</td>\n",
       "      <td>0.0</td>\n",
       "      <td>0.0</td>\n",
       "      <td>0.0</td>\n",
       "      <td>0.0</td>\n",
       "      <td>0.0</td>\n",
       "      <td>0.0</td>\n",
       "      <td>0.0</td>\n",
       "      <td>0.0</td>\n",
       "      <td>0.0</td>\n",
       "      <td>0.0</td>\n",
       "    </tr>\n",
       "    <tr>\n",
       "      <th>3</th>\n",
       "      <td>1</td>\n",
       "      <td>58.0</td>\n",
       "      <td>Coopcentral</td>\n",
       "      <td>31/12/2017</td>\n",
       "      <td>1.0</td>\n",
       "      <td>ANTIOQUIA</td>\n",
       "      <td>1.0</td>\n",
       "      <td>MEDELLIN</td>\n",
       "      <td>MICROCREDITO</td>\n",
       "      <td>0.0</td>\n",
       "      <td>...</td>\n",
       "      <td>0.0</td>\n",
       "      <td>0.0</td>\n",
       "      <td>0.0</td>\n",
       "      <td>0.0</td>\n",
       "      <td>1.0</td>\n",
       "      <td>29000000.0</td>\n",
       "      <td>1.0</td>\n",
       "      <td>29000000.0</td>\n",
       "      <td>0.0</td>\n",
       "      <td>0.0</td>\n",
       "    </tr>\n",
       "    <tr>\n",
       "      <th>4</th>\n",
       "      <td>1</td>\n",
       "      <td>52.0</td>\n",
       "      <td>Bancamía S.A.</td>\n",
       "      <td>31/12/2017</td>\n",
       "      <td>1.0</td>\n",
       "      <td>ANTIOQUIA</td>\n",
       "      <td>649.0</td>\n",
       "      <td>SAN CARLOS</td>\n",
       "      <td>CORRESPONSALES</td>\n",
       "      <td>0.0</td>\n",
       "      <td>...</td>\n",
       "      <td>0.0</td>\n",
       "      <td>0.0</td>\n",
       "      <td>0.0</td>\n",
       "      <td>0.0</td>\n",
       "      <td>0.0</td>\n",
       "      <td>0.0</td>\n",
       "      <td>0.0</td>\n",
       "      <td>0.0</td>\n",
       "      <td>0.0</td>\n",
       "      <td>0.0</td>\n",
       "    </tr>\n",
       "    <tr>\n",
       "      <th>5</th>\n",
       "      <td>1</td>\n",
       "      <td>43.0</td>\n",
       "      <td>Banagrario</td>\n",
       "      <td>31/12/2017</td>\n",
       "      <td>1.0</td>\n",
       "      <td>ANTIOQUIA</td>\n",
       "      <td>665.0</td>\n",
       "      <td>SAN PEDRO DE URABA</td>\n",
       "      <td>CUENTAS DE AHORRO</td>\n",
       "      <td>0.0</td>\n",
       "      <td>...</td>\n",
       "      <td>0.0</td>\n",
       "      <td>0.0</td>\n",
       "      <td>0.0</td>\n",
       "      <td>0.0</td>\n",
       "      <td>0.0</td>\n",
       "      <td>0.0</td>\n",
       "      <td>0.0</td>\n",
       "      <td>0.0</td>\n",
       "      <td>0.0</td>\n",
       "      <td>0.0</td>\n",
       "    </tr>\n",
       "    <tr>\n",
       "      <th>6</th>\n",
       "      <td>1,42,\"Banco Colpatria - \"\"Scotiabank\"\"\",31/12/...</td>\n",
       "      <td>NaN</td>\n",
       "      <td>NaN</td>\n",
       "      <td>NaN</td>\n",
       "      <td>NaN</td>\n",
       "      <td>NaN</td>\n",
       "      <td>NaN</td>\n",
       "      <td>NaN</td>\n",
       "      <td>NaN</td>\n",
       "      <td>NaN</td>\n",
       "      <td>...</td>\n",
       "      <td>NaN</td>\n",
       "      <td>NaN</td>\n",
       "      <td>NaN</td>\n",
       "      <td>NaN</td>\n",
       "      <td>NaN</td>\n",
       "      <td>NaN</td>\n",
       "      <td>NaN</td>\n",
       "      <td>NaN</td>\n",
       "      <td>NaN</td>\n",
       "      <td>NaN</td>\n",
       "    </tr>\n",
       "    <tr>\n",
       "      <th>7</th>\n",
       "      <td>1</td>\n",
       "      <td>1.0</td>\n",
       "      <td>Banco De Bogota</td>\n",
       "      <td>31/12/2017</td>\n",
       "      <td>1.0</td>\n",
       "      <td>ANTIOQUIA</td>\n",
       "      <td>585.0</td>\n",
       "      <td>PUERTO NARE(LAMAGDALENA</td>\n",
       "      <td>TRANS Y TRAMITES EN CORRESPONSALES</td>\n",
       "      <td>0.0</td>\n",
       "      <td>...</td>\n",
       "      <td>0.0</td>\n",
       "      <td>0.0</td>\n",
       "      <td>0.0</td>\n",
       "      <td>0.0</td>\n",
       "      <td>0.0</td>\n",
       "      <td>0.0</td>\n",
       "      <td>0.0</td>\n",
       "      <td>0.0</td>\n",
       "      <td>0.0</td>\n",
       "      <td>0.0</td>\n",
       "    </tr>\n",
       "    <tr>\n",
       "      <th>8</th>\n",
       "      <td>1</td>\n",
       "      <td>9.0</td>\n",
       "      <td>Citibank</td>\n",
       "      <td>31/12/2017</td>\n",
       "      <td>1.0</td>\n",
       "      <td>ANTIOQUIA</td>\n",
       "      <td>761.0</td>\n",
       "      <td>SOPETRAN</td>\n",
       "      <td>CORRESPONSALES</td>\n",
       "      <td>0.0</td>\n",
       "      <td>...</td>\n",
       "      <td>0.0</td>\n",
       "      <td>0.0</td>\n",
       "      <td>0.0</td>\n",
       "      <td>0.0</td>\n",
       "      <td>0.0</td>\n",
       "      <td>0.0</td>\n",
       "      <td>0.0</td>\n",
       "      <td>0.0</td>\n",
       "      <td>0.0</td>\n",
       "      <td>0.0</td>\n",
       "    </tr>\n",
       "    <tr>\n",
       "      <th>9</th>\n",
       "      <td>1</td>\n",
       "      <td>2.0</td>\n",
       "      <td>Banco Popular</td>\n",
       "      <td>31/12/2017</td>\n",
       "      <td>1.0</td>\n",
       "      <td>ANTIOQUIA</td>\n",
       "      <td>154.0</td>\n",
       "      <td>CAUCASIA</td>\n",
       "      <td>TRANS Y TRAMITES EN CORRESPONSALES</td>\n",
       "      <td>0.0</td>\n",
       "      <td>...</td>\n",
       "      <td>0.0</td>\n",
       "      <td>0.0</td>\n",
       "      <td>0.0</td>\n",
       "      <td>0.0</td>\n",
       "      <td>0.0</td>\n",
       "      <td>0.0</td>\n",
       "      <td>0.0</td>\n",
       "      <td>0.0</td>\n",
       "      <td>0.0</td>\n",
       "      <td>0.0</td>\n",
       "    </tr>\n",
       "  </tbody>\n",
       "</table>\n",
       "<p>10 rows × 87 columns</p>\n",
       "</div>"
      ],
      "text/plain": [
       "                                     TIPO DE ENTIDAD  CODIGO DE LA  ENTIDAD  \\\n",
       "0                                                  1                   39.0   \n",
       "1                                                  1                    9.0   \n",
       "2                                                  1                    1.0   \n",
       "3                                                  1                   58.0   \n",
       "4                                                  1                   52.0   \n",
       "5                                                  1                   43.0   \n",
       "6  1,42,\"Banco Colpatria - \"\"Scotiabank\"\"\",31/12/...                    NaN   \n",
       "7                                                  1                    1.0   \n",
       "8                                                  1                    9.0   \n",
       "9                                                  1                    2.0   \n",
       "\n",
       "  NOMBRE DE LA  ENTIDAD FECHA DE CORTE  UNIDAD DE CAPTURA DEPARTAMENTO  \\\n",
       "0      Banco Davivienda     31/12/2017                1.0    ANTIOQUIA   \n",
       "1              Citibank     31/12/2017                1.0    ANTIOQUIA   \n",
       "2       Banco De Bogota     31/12/2017                1.0    ANTIOQUIA   \n",
       "3           Coopcentral     31/12/2017                1.0    ANTIOQUIA   \n",
       "4         Bancamía S.A.     31/12/2017                1.0    ANTIOQUIA   \n",
       "5            Banagrario     31/12/2017                1.0    ANTIOQUIA   \n",
       "6                   NaN            NaN                NaN          NaN   \n",
       "7       Banco De Bogota     31/12/2017                1.0    ANTIOQUIA   \n",
       "8              Citibank     31/12/2017                1.0    ANTIOQUIA   \n",
       "9         Banco Popular     31/12/2017                1.0    ANTIOQUIA   \n",
       "\n",
       "   RENGLON                MUNICIPIO                                TIPO  \\\n",
       "0    847.0                    URRAO  TRANS Y TRAMITES EN CORRESPONSALES   \n",
       "1    209.0                CONCORDIA  TRANS Y TRAMITES EN CORRESPONSALES   \n",
       "2    360.0                   ITAGUI                 CREDITO DE VIVIENDA   \n",
       "3      1.0                 MEDELLIN                        MICROCREDITO   \n",
       "4    649.0               SAN CARLOS                      CORRESPONSALES   \n",
       "5    665.0       SAN PEDRO DE URABA                   CUENTAS DE AHORRO   \n",
       "6      NaN                      NaN                                 NaN   \n",
       "7    585.0  PUERTO NARE(LAMAGDALENA  TRANS Y TRAMITES EN CORRESPONSALES   \n",
       "8    761.0                 SOPETRAN                      CORRESPONSALES   \n",
       "9    154.0                 CAUCASIA  TRANS Y TRAMITES EN CORRESPONSALES   \n",
       "\n",
       "   NRO CORRESPONSALES PROPIOS  ...  NRO MICROCREDITO> 10SMMLV HASTA 25SMMLV  \\\n",
       "0                         0.0  ...                                      0.0   \n",
       "1                         0.0  ...                                      0.0   \n",
       "2                         0.0  ...                                      0.0   \n",
       "3                         0.0  ...                                      0.0   \n",
       "4                         0.0  ...                                      0.0   \n",
       "5                         0.0  ...                                      0.0   \n",
       "6                         NaN  ...                                      NaN   \n",
       "7                         0.0  ...                                      0.0   \n",
       "8                         0.0  ...                                      0.0   \n",
       "9                         0.0  ...                                      0.0   \n",
       "\n",
       "   MONTO MICROCREDI> 10SMMLV HASTA 25SMMLV  NRO MICROCREDITO MUJERES  \\\n",
       "0                                      0.0                       0.0   \n",
       "1                                      0.0                       0.0   \n",
       "2                                      0.0                       0.0   \n",
       "3                                      0.0                       0.0   \n",
       "4                                      0.0                       0.0   \n",
       "5                                      0.0                       0.0   \n",
       "6                                      NaN                       NaN   \n",
       "7                                      0.0                       0.0   \n",
       "8                                      0.0                       0.0   \n",
       "9                                      0.0                       0.0   \n",
       "\n",
       "   MONTO MICROCREDITO MUJERES  NRO MICROCREDITO HOMBRES  \\\n",
       "0                         0.0                       0.0   \n",
       "1                         0.0                       0.0   \n",
       "2                         0.0                       0.0   \n",
       "3                         0.0                       1.0   \n",
       "4                         0.0                       0.0   \n",
       "5                         0.0                       0.0   \n",
       "6                         NaN                       NaN   \n",
       "7                         0.0                       0.0   \n",
       "8                         0.0                       0.0   \n",
       "9                         0.0                       0.0   \n",
       "\n",
       "   MONTO MICROCREDITO HOMBRES  NRO TOTAL MICROCREDITO   \\\n",
       "0                         0.0                      0.0   \n",
       "1                         0.0                      0.0   \n",
       "2                         0.0                      0.0   \n",
       "3                  29000000.0                      1.0   \n",
       "4                         0.0                      0.0   \n",
       "5                         0.0                      0.0   \n",
       "6                         NaN                      NaN   \n",
       "7                         0.0                      0.0   \n",
       "8                         0.0                      0.0   \n",
       "9                         0.0                      0.0   \n",
       "\n",
       "   MONTO TOTAL MICROCREDITO  NRO PROD DEPOSITO NIVEL NACIONAL  \\\n",
       "0                       0.0                               0.0   \n",
       "1                       0.0                               0.0   \n",
       "2                       0.0                               0.0   \n",
       "3                29000000.0                               0.0   \n",
       "4                       0.0                               0.0   \n",
       "5                       0.0                               0.0   \n",
       "6                       NaN                               NaN   \n",
       "7                       0.0                               0.0   \n",
       "8                       0.0                               0.0   \n",
       "9                       0.0                               0.0   \n",
       "\n",
       "   MONTO PROD DEPOSITO NIVEL NACIONAL  \n",
       "0                                 0.0  \n",
       "1                                 0.0  \n",
       "2                                 0.0  \n",
       "3                                 0.0  \n",
       "4                                 0.0  \n",
       "5                                 0.0  \n",
       "6                                 NaN  \n",
       "7                                 0.0  \n",
       "8                                 0.0  \n",
       "9                                 0.0  \n",
       "\n",
       "[10 rows x 87 columns]"
      ]
     },
     "execution_count": 7,
     "metadata": {},
     "output_type": "execute_result"
    }
   ],
   "source": [
    "\n",
    "# aqui muestra los primero 10 registros de la base\n",
    "df.head(10)"
   ]
  },
  {
   "cell_type": "code",
   "execution_count": 8,
   "id": "cb07edf1",
   "metadata": {},
   "outputs": [
    {
     "data": {
      "text/html": [
       "<div>\n",
       "<style scoped>\n",
       "    .dataframe tbody tr th:only-of-type {\n",
       "        vertical-align: middle;\n",
       "    }\n",
       "\n",
       "    .dataframe tbody tr th {\n",
       "        vertical-align: top;\n",
       "    }\n",
       "\n",
       "    .dataframe thead th {\n",
       "        text-align: right;\n",
       "    }\n",
       "</style>\n",
       "<table border=\"1\" class=\"dataframe\">\n",
       "  <thead>\n",
       "    <tr style=\"text-align: right;\">\n",
       "      <th></th>\n",
       "      <th>TIPO DE ENTIDAD</th>\n",
       "      <th>CODIGO DE LA  ENTIDAD</th>\n",
       "      <th>NOMBRE DE LA  ENTIDAD</th>\n",
       "      <th>FECHA DE CORTE</th>\n",
       "      <th>UNIDAD DE CAPTURA</th>\n",
       "      <th>DEPARTAMENTO</th>\n",
       "      <th>RENGLON</th>\n",
       "      <th>MUNICIPIO</th>\n",
       "      <th>TIPO</th>\n",
       "      <th>NRO CORRESPONSALES PROPIOS</th>\n",
       "      <th>...</th>\n",
       "      <th>NRO MICROCREDITO&gt; 10SMMLV HASTA 25SMMLV</th>\n",
       "      <th>MONTO MICROCREDI&gt; 10SMMLV HASTA 25SMMLV</th>\n",
       "      <th>NRO MICROCREDITO MUJERES</th>\n",
       "      <th>MONTO MICROCREDITO MUJERES</th>\n",
       "      <th>NRO MICROCREDITO HOMBRES</th>\n",
       "      <th>MONTO MICROCREDITO HOMBRES</th>\n",
       "      <th>NRO TOTAL MICROCREDITO</th>\n",
       "      <th>MONTO TOTAL MICROCREDITO</th>\n",
       "      <th>NRO PROD DEPOSITO NIVEL NACIONAL</th>\n",
       "      <th>MONTO PROD DEPOSITO NIVEL NACIONAL</th>\n",
       "    </tr>\n",
       "  </thead>\n",
       "  <tbody>\n",
       "    <tr>\n",
       "      <th>602354</th>\n",
       "      <td>128</td>\n",
       "      <td>1.0</td>\n",
       "      <td>Movii S.A.</td>\n",
       "      <td>31/03/2021</td>\n",
       "      <td>33.0</td>\n",
       "      <td>VICHADA</td>\n",
       "      <td>999.0</td>\n",
       "      <td>TOTAL VICHADA</td>\n",
       "      <td>TRANS Y TRAMITES EN CORRESPONSALES</td>\n",
       "      <td>0.0</td>\n",
       "      <td>...</td>\n",
       "      <td>0.0</td>\n",
       "      <td>0.0</td>\n",
       "      <td>0.0</td>\n",
       "      <td>0.0</td>\n",
       "      <td>0.0</td>\n",
       "      <td>0.0</td>\n",
       "      <td>0.0</td>\n",
       "      <td>0.0</td>\n",
       "      <td>0.0</td>\n",
       "      <td>0.0</td>\n",
       "    </tr>\n",
       "    <tr>\n",
       "      <th>602355</th>\n",
       "      <td>128</td>\n",
       "      <td>1.0</td>\n",
       "      <td>Movii S.A.</td>\n",
       "      <td>31/03/2021</td>\n",
       "      <td>33.0</td>\n",
       "      <td>VICHADA</td>\n",
       "      <td>524.0</td>\n",
       "      <td>LA PRIMAVERA</td>\n",
       "      <td>CORRESPONSALES</td>\n",
       "      <td>0.0</td>\n",
       "      <td>...</td>\n",
       "      <td>0.0</td>\n",
       "      <td>0.0</td>\n",
       "      <td>0.0</td>\n",
       "      <td>0.0</td>\n",
       "      <td>0.0</td>\n",
       "      <td>0.0</td>\n",
       "      <td>0.0</td>\n",
       "      <td>0.0</td>\n",
       "      <td>0.0</td>\n",
       "      <td>0.0</td>\n",
       "    </tr>\n",
       "    <tr>\n",
       "      <th>602356</th>\n",
       "      <td>128</td>\n",
       "      <td>4.0</td>\n",
       "      <td>Tecnipagos S.A.</td>\n",
       "      <td>31/03/2021</td>\n",
       "      <td>33.0</td>\n",
       "      <td>VICHADA</td>\n",
       "      <td>773.0</td>\n",
       "      <td>CUMARIBO</td>\n",
       "      <td>CORRESPONSALES</td>\n",
       "      <td>0.0</td>\n",
       "      <td>...</td>\n",
       "      <td>0.0</td>\n",
       "      <td>0.0</td>\n",
       "      <td>0.0</td>\n",
       "      <td>0.0</td>\n",
       "      <td>0.0</td>\n",
       "      <td>0.0</td>\n",
       "      <td>0.0</td>\n",
       "      <td>0.0</td>\n",
       "      <td>0.0</td>\n",
       "      <td>0.0</td>\n",
       "    </tr>\n",
       "    <tr>\n",
       "      <th>602357</th>\n",
       "      <td>128</td>\n",
       "      <td>1.0</td>\n",
       "      <td>Movii S.A.</td>\n",
       "      <td>31/03/2021</td>\n",
       "      <td>33.0</td>\n",
       "      <td>VICHADA</td>\n",
       "      <td>1.0</td>\n",
       "      <td>PUERTO CARRENO</td>\n",
       "      <td>CORRESPONSALES</td>\n",
       "      <td>1.0</td>\n",
       "      <td>...</td>\n",
       "      <td>0.0</td>\n",
       "      <td>0.0</td>\n",
       "      <td>0.0</td>\n",
       "      <td>0.0</td>\n",
       "      <td>0.0</td>\n",
       "      <td>0.0</td>\n",
       "      <td>0.0</td>\n",
       "      <td>0.0</td>\n",
       "      <td>0.0</td>\n",
       "      <td>0.0</td>\n",
       "    </tr>\n",
       "    <tr>\n",
       "      <th>602358</th>\n",
       "      <td>128</td>\n",
       "      <td>1.0</td>\n",
       "      <td>Movii S.A.</td>\n",
       "      <td>31/03/2021</td>\n",
       "      <td>33.0</td>\n",
       "      <td>VICHADA</td>\n",
       "      <td>624.0</td>\n",
       "      <td>SANTA ROSALÍA</td>\n",
       "      <td>CORRESPONSALES</td>\n",
       "      <td>0.0</td>\n",
       "      <td>...</td>\n",
       "      <td>0.0</td>\n",
       "      <td>0.0</td>\n",
       "      <td>0.0</td>\n",
       "      <td>0.0</td>\n",
       "      <td>0.0</td>\n",
       "      <td>0.0</td>\n",
       "      <td>0.0</td>\n",
       "      <td>0.0</td>\n",
       "      <td>0.0</td>\n",
       "      <td>0.0</td>\n",
       "    </tr>\n",
       "    <tr>\n",
       "      <th>602359</th>\n",
       "      <td>128</td>\n",
       "      <td>2.0</td>\n",
       "      <td>Pgde</td>\n",
       "      <td>31/03/2021</td>\n",
       "      <td>33.0</td>\n",
       "      <td>VICHADA</td>\n",
       "      <td>624.0</td>\n",
       "      <td>SANTA ROSALÍA</td>\n",
       "      <td>CORRESPONSALES</td>\n",
       "      <td>0.0</td>\n",
       "      <td>...</td>\n",
       "      <td>0.0</td>\n",
       "      <td>0.0</td>\n",
       "      <td>0.0</td>\n",
       "      <td>0.0</td>\n",
       "      <td>0.0</td>\n",
       "      <td>0.0</td>\n",
       "      <td>0.0</td>\n",
       "      <td>0.0</td>\n",
       "      <td>0.0</td>\n",
       "      <td>0.0</td>\n",
       "    </tr>\n",
       "    <tr>\n",
       "      <th>602360</th>\n",
       "      <td>128</td>\n",
       "      <td>2.0</td>\n",
       "      <td>Pgde</td>\n",
       "      <td>31/03/2021</td>\n",
       "      <td>33.0</td>\n",
       "      <td>VICHADA</td>\n",
       "      <td>1.0</td>\n",
       "      <td>PUERTO CARRENO</td>\n",
       "      <td>CORRESPONSALES</td>\n",
       "      <td>0.0</td>\n",
       "      <td>...</td>\n",
       "      <td>0.0</td>\n",
       "      <td>0.0</td>\n",
       "      <td>0.0</td>\n",
       "      <td>0.0</td>\n",
       "      <td>0.0</td>\n",
       "      <td>0.0</td>\n",
       "      <td>0.0</td>\n",
       "      <td>0.0</td>\n",
       "      <td>0.0</td>\n",
       "      <td>0.0</td>\n",
       "    </tr>\n",
       "    <tr>\n",
       "      <th>602361</th>\n",
       "      <td>128</td>\n",
       "      <td>1.0</td>\n",
       "      <td>Movii S.A.</td>\n",
       "      <td>31/03/2021</td>\n",
       "      <td>33.0</td>\n",
       "      <td>VICHADA</td>\n",
       "      <td>524.0</td>\n",
       "      <td>LA PRIMAVERA</td>\n",
       "      <td>TRANS Y TRAMITES EN CORRESPONSALES</td>\n",
       "      <td>0.0</td>\n",
       "      <td>...</td>\n",
       "      <td>0.0</td>\n",
       "      <td>0.0</td>\n",
       "      <td>0.0</td>\n",
       "      <td>0.0</td>\n",
       "      <td>0.0</td>\n",
       "      <td>0.0</td>\n",
       "      <td>0.0</td>\n",
       "      <td>0.0</td>\n",
       "      <td>0.0</td>\n",
       "      <td>0.0</td>\n",
       "    </tr>\n",
       "    <tr>\n",
       "      <th>602362</th>\n",
       "      <td>128</td>\n",
       "      <td>2.0</td>\n",
       "      <td>Pgde</td>\n",
       "      <td>31/03/2021</td>\n",
       "      <td>33.0</td>\n",
       "      <td>VICHADA</td>\n",
       "      <td>524.0</td>\n",
       "      <td>LA PRIMAVERA</td>\n",
       "      <td>CORRESPONSALES</td>\n",
       "      <td>0.0</td>\n",
       "      <td>...</td>\n",
       "      <td>0.0</td>\n",
       "      <td>0.0</td>\n",
       "      <td>0.0</td>\n",
       "      <td>0.0</td>\n",
       "      <td>0.0</td>\n",
       "      <td>0.0</td>\n",
       "      <td>0.0</td>\n",
       "      <td>0.0</td>\n",
       "      <td>0.0</td>\n",
       "      <td>0.0</td>\n",
       "    </tr>\n",
       "    <tr>\n",
       "      <th>602363</th>\n",
       "      <td>128</td>\n",
       "      <td>2.0</td>\n",
       "      <td>Pgde</td>\n",
       "      <td>31/03/2021</td>\n",
       "      <td>33.0</td>\n",
       "      <td>VICHADA</td>\n",
       "      <td>999.0</td>\n",
       "      <td>TOTAL VICHADA</td>\n",
       "      <td>CORRESPONSALES</td>\n",
       "      <td>0.0</td>\n",
       "      <td>...</td>\n",
       "      <td>0.0</td>\n",
       "      <td>0.0</td>\n",
       "      <td>0.0</td>\n",
       "      <td>0.0</td>\n",
       "      <td>0.0</td>\n",
       "      <td>0.0</td>\n",
       "      <td>0.0</td>\n",
       "      <td>0.0</td>\n",
       "      <td>0.0</td>\n",
       "      <td>0.0</td>\n",
       "    </tr>\n",
       "  </tbody>\n",
       "</table>\n",
       "<p>10 rows × 87 columns</p>\n",
       "</div>"
      ],
      "text/plain": [
       "       TIPO DE ENTIDAD  CODIGO DE LA  ENTIDAD NOMBRE DE LA  ENTIDAD  \\\n",
       "602354             128                    1.0            Movii S.A.   \n",
       "602355             128                    1.0            Movii S.A.   \n",
       "602356             128                    4.0       Tecnipagos S.A.   \n",
       "602357             128                    1.0            Movii S.A.   \n",
       "602358             128                    1.0            Movii S.A.   \n",
       "602359             128                    2.0                  Pgde   \n",
       "602360             128                    2.0                  Pgde   \n",
       "602361             128                    1.0            Movii S.A.   \n",
       "602362             128                    2.0                  Pgde   \n",
       "602363             128                    2.0                  Pgde   \n",
       "\n",
       "       FECHA DE CORTE  UNIDAD DE CAPTURA DEPARTAMENTO  RENGLON  \\\n",
       "602354     31/03/2021               33.0      VICHADA    999.0   \n",
       "602355     31/03/2021               33.0      VICHADA    524.0   \n",
       "602356     31/03/2021               33.0      VICHADA    773.0   \n",
       "602357     31/03/2021               33.0      VICHADA      1.0   \n",
       "602358     31/03/2021               33.0      VICHADA    624.0   \n",
       "602359     31/03/2021               33.0      VICHADA    624.0   \n",
       "602360     31/03/2021               33.0      VICHADA      1.0   \n",
       "602361     31/03/2021               33.0      VICHADA    524.0   \n",
       "602362     31/03/2021               33.0      VICHADA    524.0   \n",
       "602363     31/03/2021               33.0      VICHADA    999.0   \n",
       "\n",
       "             MUNICIPIO                                TIPO  \\\n",
       "602354   TOTAL VICHADA  TRANS Y TRAMITES EN CORRESPONSALES   \n",
       "602355    LA PRIMAVERA                      CORRESPONSALES   \n",
       "602356        CUMARIBO                      CORRESPONSALES   \n",
       "602357  PUERTO CARRENO                      CORRESPONSALES   \n",
       "602358   SANTA ROSALÍA                      CORRESPONSALES   \n",
       "602359   SANTA ROSALÍA                      CORRESPONSALES   \n",
       "602360  PUERTO CARRENO                      CORRESPONSALES   \n",
       "602361    LA PRIMAVERA  TRANS Y TRAMITES EN CORRESPONSALES   \n",
       "602362    LA PRIMAVERA                      CORRESPONSALES   \n",
       "602363   TOTAL VICHADA                      CORRESPONSALES   \n",
       "\n",
       "        NRO CORRESPONSALES PROPIOS  ...  \\\n",
       "602354                         0.0  ...   \n",
       "602355                         0.0  ...   \n",
       "602356                         0.0  ...   \n",
       "602357                         1.0  ...   \n",
       "602358                         0.0  ...   \n",
       "602359                         0.0  ...   \n",
       "602360                         0.0  ...   \n",
       "602361                         0.0  ...   \n",
       "602362                         0.0  ...   \n",
       "602363                         0.0  ...   \n",
       "\n",
       "        NRO MICROCREDITO> 10SMMLV HASTA 25SMMLV  \\\n",
       "602354                                      0.0   \n",
       "602355                                      0.0   \n",
       "602356                                      0.0   \n",
       "602357                                      0.0   \n",
       "602358                                      0.0   \n",
       "602359                                      0.0   \n",
       "602360                                      0.0   \n",
       "602361                                      0.0   \n",
       "602362                                      0.0   \n",
       "602363                                      0.0   \n",
       "\n",
       "        MONTO MICROCREDI> 10SMMLV HASTA 25SMMLV  NRO MICROCREDITO MUJERES  \\\n",
       "602354                                      0.0                       0.0   \n",
       "602355                                      0.0                       0.0   \n",
       "602356                                      0.0                       0.0   \n",
       "602357                                      0.0                       0.0   \n",
       "602358                                      0.0                       0.0   \n",
       "602359                                      0.0                       0.0   \n",
       "602360                                      0.0                       0.0   \n",
       "602361                                      0.0                       0.0   \n",
       "602362                                      0.0                       0.0   \n",
       "602363                                      0.0                       0.0   \n",
       "\n",
       "        MONTO MICROCREDITO MUJERES  NRO MICROCREDITO HOMBRES  \\\n",
       "602354                         0.0                       0.0   \n",
       "602355                         0.0                       0.0   \n",
       "602356                         0.0                       0.0   \n",
       "602357                         0.0                       0.0   \n",
       "602358                         0.0                       0.0   \n",
       "602359                         0.0                       0.0   \n",
       "602360                         0.0                       0.0   \n",
       "602361                         0.0                       0.0   \n",
       "602362                         0.0                       0.0   \n",
       "602363                         0.0                       0.0   \n",
       "\n",
       "        MONTO MICROCREDITO HOMBRES  NRO TOTAL MICROCREDITO   \\\n",
       "602354                         0.0                      0.0   \n",
       "602355                         0.0                      0.0   \n",
       "602356                         0.0                      0.0   \n",
       "602357                         0.0                      0.0   \n",
       "602358                         0.0                      0.0   \n",
       "602359                         0.0                      0.0   \n",
       "602360                         0.0                      0.0   \n",
       "602361                         0.0                      0.0   \n",
       "602362                         0.0                      0.0   \n",
       "602363                         0.0                      0.0   \n",
       "\n",
       "        MONTO TOTAL MICROCREDITO  NRO PROD DEPOSITO NIVEL NACIONAL  \\\n",
       "602354                       0.0                               0.0   \n",
       "602355                       0.0                               0.0   \n",
       "602356                       0.0                               0.0   \n",
       "602357                       0.0                               0.0   \n",
       "602358                       0.0                               0.0   \n",
       "602359                       0.0                               0.0   \n",
       "602360                       0.0                               0.0   \n",
       "602361                       0.0                               0.0   \n",
       "602362                       0.0                               0.0   \n",
       "602363                       0.0                               0.0   \n",
       "\n",
       "        MONTO PROD DEPOSITO NIVEL NACIONAL  \n",
       "602354                                 0.0  \n",
       "602355                                 0.0  \n",
       "602356                                 0.0  \n",
       "602357                                 0.0  \n",
       "602358                                 0.0  \n",
       "602359                                 0.0  \n",
       "602360                                 0.0  \n",
       "602361                                 0.0  \n",
       "602362                                 0.0  \n",
       "602363                                 0.0  \n",
       "\n",
       "[10 rows x 87 columns]"
      ]
     },
     "execution_count": 8,
     "metadata": {},
     "output_type": "execute_result"
    }
   ],
   "source": [
    "# Aqui muestra los valores de las ultimos registros de la base\n",
    "df.tail(10)"
   ]
  },
  {
   "cell_type": "code",
   "execution_count": 9,
   "id": "ea36cb65",
   "metadata": {},
   "outputs": [
    {
     "data": {
      "text/plain": [
       "TIPO DE ENTIDAD                                      1\n",
       "CODIGO DE LA  ENTIDAD                             39.0\n",
       "NOMBRE DE LA  ENTIDAD                 Banco Davivienda\n",
       "FECHA DE CORTE                              31/12/2017\n",
       "UNIDAD DE CAPTURA                                  1.0\n",
       "                                            ...       \n",
       "MONTO MICROCREDITO HOMBRES                         0.0\n",
       "NRO TOTAL MICROCREDITO                             0.0\n",
       "MONTO TOTAL MICROCREDITO                           0.0\n",
       "NRO PROD DEPOSITO NIVEL NACIONAL                   0.0\n",
       "MONTO PROD DEPOSITO NIVEL NACIONAL                 0.0\n",
       "Name: 0, Length: 87, dtype: object"
      ]
     },
     "execution_count": 9,
     "metadata": {},
     "output_type": "execute_result"
    }
   ],
   "source": [
    "# aqui se muetra la primera fila del archivo.\n",
    "df.loc[0]"
   ]
  },
  {
   "cell_type": "code",
   "execution_count": 10,
   "id": "8aa21052",
   "metadata": {},
   "outputs": [
    {
     "data": {
      "text/html": [
       "<div>\n",
       "<style scoped>\n",
       "    .dataframe tbody tr th:only-of-type {\n",
       "        vertical-align: middle;\n",
       "    }\n",
       "\n",
       "    .dataframe tbody tr th {\n",
       "        vertical-align: top;\n",
       "    }\n",
       "\n",
       "    .dataframe thead th {\n",
       "        text-align: right;\n",
       "    }\n",
       "</style>\n",
       "<table border=\"1\" class=\"dataframe\">\n",
       "  <thead>\n",
       "    <tr style=\"text-align: right;\">\n",
       "      <th></th>\n",
       "      <th>TIPO DE ENTIDAD</th>\n",
       "      <th>CODIGO DE LA  ENTIDAD</th>\n",
       "      <th>NOMBRE DE LA  ENTIDAD</th>\n",
       "      <th>FECHA DE CORTE</th>\n",
       "      <th>UNIDAD DE CAPTURA</th>\n",
       "      <th>DEPARTAMENTO</th>\n",
       "      <th>RENGLON</th>\n",
       "      <th>MUNICIPIO</th>\n",
       "      <th>TIPO</th>\n",
       "      <th>NRO CORRESPONSALES PROPIOS</th>\n",
       "      <th>...</th>\n",
       "      <th>NRO MICROCREDITO&gt; 10SMMLV HASTA 25SMMLV</th>\n",
       "      <th>MONTO MICROCREDI&gt; 10SMMLV HASTA 25SMMLV</th>\n",
       "      <th>NRO MICROCREDITO MUJERES</th>\n",
       "      <th>MONTO MICROCREDITO MUJERES</th>\n",
       "      <th>NRO MICROCREDITO HOMBRES</th>\n",
       "      <th>MONTO MICROCREDITO HOMBRES</th>\n",
       "      <th>NRO TOTAL MICROCREDITO</th>\n",
       "      <th>MONTO TOTAL MICROCREDITO</th>\n",
       "      <th>NRO PROD DEPOSITO NIVEL NACIONAL</th>\n",
       "      <th>MONTO PROD DEPOSITO NIVEL NACIONAL</th>\n",
       "    </tr>\n",
       "  </thead>\n",
       "  <tbody>\n",
       "    <tr>\n",
       "      <th>7</th>\n",
       "      <td>1</td>\n",
       "      <td>1.0</td>\n",
       "      <td>Banco De Bogota</td>\n",
       "      <td>31/12/2017</td>\n",
       "      <td>1.0</td>\n",
       "      <td>ANTIOQUIA</td>\n",
       "      <td>585.0</td>\n",
       "      <td>PUERTO NARE(LAMAGDALENA</td>\n",
       "      <td>TRANS Y TRAMITES EN CORRESPONSALES</td>\n",
       "      <td>0.0</td>\n",
       "      <td>...</td>\n",
       "      <td>0.0</td>\n",
       "      <td>0.0</td>\n",
       "      <td>0.0</td>\n",
       "      <td>0.0</td>\n",
       "      <td>0.0</td>\n",
       "      <td>0.0</td>\n",
       "      <td>0.0</td>\n",
       "      <td>0.0</td>\n",
       "      <td>0.0</td>\n",
       "      <td>0.0</td>\n",
       "    </tr>\n",
       "    <tr>\n",
       "      <th>10</th>\n",
       "      <td>1</td>\n",
       "      <td>13.0</td>\n",
       "      <td>Bbva Colombia</td>\n",
       "      <td>31/12/2017</td>\n",
       "      <td>1.0</td>\n",
       "      <td>ANTIOQUIA</td>\n",
       "      <td>86.0</td>\n",
       "      <td>BELMIRA</td>\n",
       "      <td>TRANS Y TRAMITES EN CORRESPONSALES</td>\n",
       "      <td>0.0</td>\n",
       "      <td>...</td>\n",
       "      <td>0.0</td>\n",
       "      <td>0.0</td>\n",
       "      <td>0.0</td>\n",
       "      <td>0.0</td>\n",
       "      <td>0.0</td>\n",
       "      <td>0.0</td>\n",
       "      <td>0.0</td>\n",
       "      <td>0.0</td>\n",
       "      <td>0.0</td>\n",
       "      <td>0.0</td>\n",
       "    </tr>\n",
       "  </tbody>\n",
       "</table>\n",
       "<p>2 rows × 87 columns</p>\n",
       "</div>"
      ],
      "text/plain": [
       "   TIPO DE ENTIDAD  CODIGO DE LA  ENTIDAD NOMBRE DE LA  ENTIDAD  \\\n",
       "7                1                    1.0       Banco De Bogota   \n",
       "10               1                   13.0         Bbva Colombia   \n",
       "\n",
       "   FECHA DE CORTE  UNIDAD DE CAPTURA DEPARTAMENTO  RENGLON  \\\n",
       "7      31/12/2017                1.0    ANTIOQUIA    585.0   \n",
       "10     31/12/2017                1.0    ANTIOQUIA     86.0   \n",
       "\n",
       "                  MUNICIPIO                                TIPO  \\\n",
       "7   PUERTO NARE(LAMAGDALENA  TRANS Y TRAMITES EN CORRESPONSALES   \n",
       "10                  BELMIRA  TRANS Y TRAMITES EN CORRESPONSALES   \n",
       "\n",
       "    NRO CORRESPONSALES PROPIOS  ...  NRO MICROCREDITO> 10SMMLV HASTA 25SMMLV  \\\n",
       "7                          0.0  ...                                      0.0   \n",
       "10                         0.0  ...                                      0.0   \n",
       "\n",
       "    MONTO MICROCREDI> 10SMMLV HASTA 25SMMLV  NRO MICROCREDITO MUJERES  \\\n",
       "7                                       0.0                       0.0   \n",
       "10                                      0.0                       0.0   \n",
       "\n",
       "    MONTO MICROCREDITO MUJERES  NRO MICROCREDITO HOMBRES  \\\n",
       "7                          0.0                       0.0   \n",
       "10                         0.0                       0.0   \n",
       "\n",
       "    MONTO MICROCREDITO HOMBRES  NRO TOTAL MICROCREDITO   \\\n",
       "7                          0.0                      0.0   \n",
       "10                         0.0                      0.0   \n",
       "\n",
       "    MONTO TOTAL MICROCREDITO  NRO PROD DEPOSITO NIVEL NACIONAL  \\\n",
       "7                        0.0                               0.0   \n",
       "10                       0.0                               0.0   \n",
       "\n",
       "    MONTO PROD DEPOSITO NIVEL NACIONAL  \n",
       "7                                  0.0  \n",
       "10                                 0.0  \n",
       "\n",
       "[2 rows x 87 columns]"
      ]
     },
     "execution_count": 10,
     "metadata": {},
     "output_type": "execute_result"
    }
   ],
   "source": [
    "# aqui muestra las filas 7 y 10\n",
    "df.loc[[7, 10]]\n"
   ]
  },
  {
   "cell_type": "code",
   "execution_count": null,
   "id": "ca99e941",
   "metadata": {},
   "outputs": [
    {
     "data": {
      "text/plain": [
       "count        567288\n",
       "unique           41\n",
       "top       ANTIOQUIA\n",
       "freq          71164\n",
       "Name: DEPARTAMENTO, dtype: object"
      ]
     },
     "execution_count": 11,
     "metadata": {},
     "output_type": "execute_result"
    }
   ],
   "source": [
    "# Genero estadistica descriptiva para  las siguientes columnas de la base de datos \n",
    "# Hay 41 departamentos unicos en la base que estamos trabajando, lo que nos indica una amplia cobertura geografica amplia\n",
    "# El departamento donde hay mayor frecuencia es en Antioquia, esto no indica que es el mas representado con 71,164 registros \n",
    "\n",
    "# DEPARTAMENTO\n",
    "\n",
    "df.DEPARTAMENTO.describe()"
   ]
  },
  {
   "cell_type": "code",
   "execution_count": null,
   "id": "4a48e5c7",
   "metadata": {},
   "outputs": [
    {
     "data": {
      "text/plain": [
       "count       567288\n",
       "unique        1148\n",
       "top       LA UNION\n",
       "freq          2564\n",
       "Name: MUNICIPIO, dtype: object"
      ]
     },
     "execution_count": 12,
     "metadata": {},
     "output_type": "execute_result"
    }
   ],
   "source": [
    "# El municipio con mayor frecuencia es la UNION \n",
    "# El municipio de la Union es el mas representado con 2.564\n",
    "# MUNICIPIO\t\n",
    "\n",
    "df.MUNICIPIO.describe()"
   ]
  },
  {
   "cell_type": "code",
   "execution_count": null,
   "id": "69dff232",
   "metadata": {},
   "outputs": [
    {
     "data": {
      "text/plain": [
       "count         567288\n",
       "unique            14\n",
       "top       31/12/2020\n",
       "freq           53490\n",
       "Name: FECHA DE CORTE, dtype: object"
      ]
     },
     "execution_count": 13,
     "metadata": {},
     "output_type": "execute_result"
    }
   ],
   "source": [
    "\n",
    "# Hay 14 fechas unicas en la base de datos, lo que sugiere que los datos se han recopilado en diferentes momentos de los cortes de cada entidad.\n",
    "# La fecha de corte con mas frecuencia es 31/12/2020 con un total de registros de 53,490\n",
    "# FECHA DE CORTE\n",
    "\n",
    "\n",
    "df[\"FECHA DE CORTE\"].describe()"
   ]
  },
  {
   "cell_type": "code",
   "execution_count": null,
   "id": "8a13cd63",
   "metadata": {},
   "outputs": [
    {
     "data": {
      "text/plain": [
       "count             562849\n",
       "unique                 9\n",
       "top       CORRESPONSALES\n",
       "freq              193839\n",
       "Name: TIPO, dtype: object"
      ]
     },
     "execution_count": 14,
     "metadata": {},
     "output_type": "execute_result"
    }
   ],
   "source": [
    "# Hay 9 tipos de datos unicos en nuestra data frame, lo que nos puede indicar que existe una variedad de categorias en la inclusion financiera, por tanto, las personas usan mas los corresponsales\n",
    "# Los corresponsales son los que tienen mayor frecuencia con 193,839 datos\n",
    "\n",
    "# TIPO\n",
    "\n",
    "df.TIPO.describe()"
   ]
  },
  {
   "cell_type": "code",
   "execution_count": null,
   "id": "a4d06545",
   "metadata": {},
   "outputs": [
    {
     "data": {
      "text/plain": [
       "count         567288\n",
       "unique            50\n",
       "top       Banagrario\n",
       "freq           82830\n",
       "Name: NOMBRE DE LA  ENTIDAD, dtype: object"
      ]
     },
     "execution_count": 15,
     "metadata": {},
     "output_type": "execute_result"
    }
   ],
   "source": [
    "# La entidad Banagrario es la entidad mas frecuente, con 82,830 registros, indica que una sola institucion concentra una parte importante de los servicios financieros ofrecidos.\n",
    "# NOMBRE DE LA ENTIDAD\n",
    "\n",
    "df[\"NOMBRE DE LA  ENTIDAD\"].describe()\n"
   ]
  },
  {
   "cell_type": "code",
   "execution_count": null,
   "id": "151d306c",
   "metadata": {},
   "outputs": [
    {
     "data": {
      "text/plain": [
       "count    567288.000000\n",
       "mean         16.819362\n",
       "std         330.036774\n",
       "min           0.000000\n",
       "25%           0.000000\n",
       "50%           0.000000\n",
       "75%           1.000000\n",
       "max       24242.000000\n",
       "Name: NRO CORRESPONSALES, dtype: float64"
      ]
     },
     "execution_count": 16,
     "metadata": {},
     "output_type": "execute_result"
    }
   ],
   "source": [
    "# La mayoria de los registros tienen 0 corresponsales, como se puede observar en los cuartiles y la mediana \t\n",
    "# La alta desviacion estandar indica una gran dispersion: algunos registros tienen muchisimos corresponsales y otros muy pocos o ninguno.\n",
    "\n",
    "#  NRO CORRESPONSALES\n",
    "\n",
    "df[\"NRO CORRESPONSALES\"].describe()"
   ]
  },
  {
   "cell_type": "code",
   "execution_count": null,
   "id": "fb0fe96e",
   "metadata": {},
   "outputs": [
    {
     "data": {
      "text/plain": [
       "count    5.672880e+05\n",
       "mean     1.610787e+03\n",
       "std      1.087334e+05\n",
       "min      0.000000e+00\n",
       "25%      0.000000e+00\n",
       "50%      0.000000e+00\n",
       "75%      0.000000e+00\n",
       "max      3.400534e+07\n",
       "Name: NRO DEPOSITOS, dtype: float64"
      ]
     },
     "execution_count": 17,
     "metadata": {},
     "output_type": "execute_result"
    }
   ],
   "source": [
    "# Min/Existen registros sin ningun deposito\n",
    "# el 50% de los registros tiene 0 depositos\n",
    "\n",
    "# NRO DEPOSITOS\n",
    "\n",
    "df[\"NRO DEPOSITOS\"].describe()"
   ]
  },
  {
   "cell_type": "code",
   "execution_count": null,
   "id": "c87efca4",
   "metadata": {},
   "outputs": [
    {
     "data": {
      "text/plain": [
       "count    5.672880e+05\n",
       "mean     1.895537e+03\n",
       "std      1.215416e+05\n",
       "min      0.000000e+00\n",
       "25%      0.000000e+00\n",
       "50%      0.000000e+00\n",
       "75%      0.000000e+00\n",
       "max      3.679901e+07\n",
       "Name: NRO RETIROS, dtype: float64"
      ]
     },
     "execution_count": 18,
     "metadata": {},
     "output_type": "execute_result"
    }
   ],
   "source": [
    "# La desviacion estandar es alta, lo que indica una gran desigualdad, donde algunos registros tienen muchisimos retiros y la mayoria tiene pocos o ninguno.\n",
    "\n",
    "# NRO RETIROS\n",
    "\n",
    "df[\"NRO RETIROS\"].describe()"
   ]
  },
  {
   "cell_type": "code",
   "execution_count": null,
   "id": "5494ed30",
   "metadata": {},
   "outputs": [
    {
     "data": {
      "text/plain": [
       "count    5.672880e+05\n",
       "mean     1.697758e+03\n",
       "std      5.199760e+04\n",
       "min      0.000000e+00\n",
       "25%      0.000000e+00\n",
       "50%      0.000000e+00\n",
       "75%      0.000000e+00\n",
       "max      8.696572e+06\n",
       "Name: NRO CTA AHORRO ACTIVAS, dtype: float64"
      ]
     },
     "execution_count": 19,
     "metadata": {},
     "output_type": "execute_result"
    }
   ],
   "source": [
    "# En promedio, cada registro tiene cerca de 1,698 cuentas de ahorro activas\n",
    "# El 75% tienen 0 cuentas de ahorro activas\n",
    "\n",
    "# NRO CTA AHORRO ACTIVAS\n",
    "\n",
    "df[\"NRO CTA AHORRO ACTIVAS\"].describe()"
   ]
  },
  {
   "cell_type": "code",
   "execution_count": null,
   "id": "fe2edc94",
   "metadata": {},
   "outputs": [
    {
     "data": {
      "text/plain": [
       "count    5.672880e+05\n",
       "mean     1.927621e+03\n",
       "std      4.775686e+04\n",
       "min      0.000000e+00\n",
       "25%      0.000000e+00\n",
       "50%      0.000000e+00\n",
       "75%      0.000000e+00\n",
       "max      5.437975e+06\n",
       "Name: NRO CTA AHORRO MUJERES, dtype: float64"
      ]
     },
     "execution_count": 20,
     "metadata": {},
     "output_type": "execute_result"
    }
   ],
   "source": [
    "# En el tercer cuartil el 75% de las mujeres no tiene cuentas de ahorro \n",
    "\n",
    "# NRO CTA AHORRO MUJERES\n",
    "\n",
    "df[\"NRO CTA AHORRO MUJERES\"].describe()"
   ]
  },
  {
   "cell_type": "code",
   "execution_count": null,
   "id": "7fdd0197",
   "metadata": {},
   "outputs": [
    {
     "data": {
      "text/plain": [
       "count    5.672880e+05\n",
       "mean     2.139007e+03\n",
       "std      5.271020e+04\n",
       "min      0.000000e+00\n",
       "25%      0.000000e+00\n",
       "50%      0.000000e+00\n",
       "75%      0.000000e+00\n",
       "max      5.601486e+06\n",
       "Name: NRO CTA AHORRO HOMBRES, dtype: float64"
      ]
     },
     "execution_count": 21,
     "metadata": {},
     "output_type": "execute_result"
    }
   ],
   "source": [
    "# La alta desviacion estandar y el valor maximo indican que, aunque algunos hombres tienen cuentas con saldos muy altos, la mayoria no tiene acceso a estos servicios.\n",
    "\n",
    "# NRO CTA AHORRO HOMBRES\n",
    "\n",
    "df[\"NRO CTA AHORRO HOMBRES\"].describe()"
   ]
  },
  {
   "cell_type": "code",
   "execution_count": null,
   "id": "248d3c80",
   "metadata": {},
   "outputs": [
    {
     "data": {
      "text/plain": [
       "count    5.672880e+05\n",
       "mean     9.940963e+02\n",
       "std      5.233910e+04\n",
       "min      0.000000e+00\n",
       "25%      0.000000e+00\n",
       "50%      0.000000e+00\n",
       "75%      0.000000e+00\n",
       "max      7.493971e+06\n",
       "Name: NRO CREDITO CONSUMO MUJERES, dtype: float64"
      ]
     },
     "execution_count": 22,
     "metadata": {},
     "output_type": "execute_result"
    }
   ],
   "source": [
    "# Una gran parte de las mujeres no tiene creditos de consumo (mediana y cuartiles en 0) esto nos indica un acceso limitado a servicios financieros basicos\n",
    "\n",
    "# NRO CREDITO CONSUMO MUJERES\n",
    "\n",
    "df[\"NRO CREDITO CONSUMO MUJERES\"].describe()"
   ]
  },
  {
   "cell_type": "code",
   "execution_count": null,
   "id": "8fff6f7e",
   "metadata": {},
   "outputs": [
    {
     "data": {
      "text/plain": [
       "count    5.672880e+05\n",
       "mean     9.981508e+02\n",
       "std      5.310778e+04\n",
       "min      0.000000e+00\n",
       "25%      0.000000e+00\n",
       "50%      0.000000e+00\n",
       "75%      0.000000e+00\n",
       "max      8.228890e+06\n",
       "Name: NRO CREDITO CONSUMO HOMBRES, dtype: float64"
      ]
     },
     "execution_count": 23,
     "metadata": {},
     "output_type": "execute_result"
    }
   ],
   "source": [
    "#En comparacion con las mujeres, los hombres tienen un promedio mas alto en creditos en consumo con un valor de 998.1508 creditos de consumo   \n",
    "\n",
    "# NRO CREDITO CONSUMO HOMBRES\n",
    "\n",
    "df[\"NRO CREDITO CONSUMO HOMBRES\"].describe()"
   ]
  },
  {
   "cell_type": "code",
   "execution_count": null,
   "id": "4fc699f0",
   "metadata": {},
   "outputs": [
    {
     "data": {
      "text/plain": [
       "count    567288.000000\n",
       "mean          1.433397\n",
       "std          49.384651\n",
       "min           0.000000\n",
       "25%           0.000000\n",
       "50%           0.000000\n",
       "75%           0.000000\n",
       "max       10966.000000\n",
       "Name: NRO CREDITO VIVIENDA MUJERES, dtype: float64"
      ]
     },
     "execution_count": 24,
     "metadata": {},
     "output_type": "execute_result"
    }
   ],
   "source": [
    "# El 50% de los registros la (mediana) la mitad de las mujeres no tienen creditos de vivienda \n",
    "\n",
    "# NRO CREDITO VIVIENDA MUJERES\n",
    "\n",
    "df[\"NRO CREDITO VIVIENDA MUJERES\"].describe()"
   ]
  },
  {
   "cell_type": "code",
   "execution_count": null,
   "id": "e106fe4b",
   "metadata": {},
   "outputs": [
    {
     "data": {
      "text/plain": [
       "count    567288.000000\n",
       "mean          1.588717\n",
       "std          53.168218\n",
       "min           0.000000\n",
       "25%           0.000000\n",
       "50%           0.000000\n",
       "75%           0.000000\n",
       "max       10914.000000\n",
       "Name: NRO CREDITO VIVIENDA HOMBRES, dtype: float64"
      ]
     },
     "execution_count": 25,
     "metadata": {},
     "output_type": "execute_result"
    }
   ],
   "source": [
    "# El primer cuartil, nos indica que el 25% de los registro es 0, lo que nos dice que el 25% no tienen credito\n",
    "\n",
    "# NRO CREDITO VIVIENDA HOMBRES\n",
    "\n",
    "df[\"NRO CREDITO VIVIENDA HOMBRES\"].describe()"
   ]
  },
  {
   "cell_type": "code",
   "execution_count": null,
   "id": "53d36c0d",
   "metadata": {},
   "outputs": [
    {
     "data": {
      "text/plain": [
       "count    567288.000000\n",
       "mean         11.655159\n",
       "std         378.874331\n",
       "min           0.000000\n",
       "25%           0.000000\n",
       "50%           0.000000\n",
       "75%           0.000000\n",
       "max       62082.000000\n",
       "Name: NRO MICROCREDITO HOMBRES, dtype: float64"
      ]
     },
     "execution_count": 26,
     "metadata": {},
     "output_type": "execute_result"
    }
   ],
   "source": [
    "# El valor maximo nos indica algunos microcreditos con montos muy altos\n",
    "\n",
    "# NRO MICROCREDITO HOMBRES\n",
    "\n",
    "df[\"NRO MICROCREDITO HOMBRES\"].describe()"
   ]
  },
  {
   "cell_type": "code",
   "execution_count": null,
   "id": "f0b1d1c8",
   "metadata": {},
   "outputs": [
    {
     "data": {
      "text/plain": [
       "count    567288.000000\n",
       "mean         14.516692\n",
       "std         488.730347\n",
       "min           0.000000\n",
       "25%           0.000000\n",
       "50%           0.000000\n",
       "75%           0.000000\n",
       "max       78439.000000\n",
       "Name: NRO MICROCREDITO MUJERES, dtype: float64"
      ]
     },
     "execution_count": 27,
     "metadata": {},
     "output_type": "execute_result"
    }
   ],
   "source": [
    "# Las mujeres tienen un promedio mas alto que los hombres en microcreditos con 14,516\n",
    "\n",
    "# NRO MICROCREDITO MUJERES\n",
    "\n",
    "df[\"NRO MICROCREDITO MUJERES\"].describe()"
   ]
  },
  {
   "cell_type": "code",
   "execution_count": 28,
   "id": "d0cb8c6c",
   "metadata": {},
   "outputs": [],
   "source": [
    "# Descripcion estadistica de Conteo, Promedio, Desviación Estándar, Valor Mínimo, Valor Máximo, Mediana, Moda, Percentil 25%, para las siguientes columnas"
   ]
  },
  {
   "cell_type": "code",
   "execution_count": null,
   "id": "45c9fa22",
   "metadata": {},
   "outputs": [
    {
     "data": {
      "text/plain": [
       "567288"
      ]
     },
     "execution_count": 29,
     "metadata": {},
     "output_type": "execute_result"
    }
   ],
   "source": [
    "# 567,288 (número de corresponsales analizados) del cual se hace un conteo de la columna\n",
    "# Conteo de NRO CORRESPONSALES\n",
    "\n",
    "df[\"NRO CORRESPONSALES\"].count()"
   ]
  },
  {
   "cell_type": "code",
   "execution_count": null,
   "id": "7fdcad91",
   "metadata": {},
   "outputs": [
    {
     "data": {
      "text/plain": [
       "16.819361594110926"
      ]
     },
     "execution_count": 30,
     "metadata": {},
     "output_type": "execute_result"
    }
   ],
   "source": [
    "# En promedio hay 16.819 corresponsales\n",
    "# Promedio de NRO CORRESPONSALES \n",
    "\n",
    "df[\"NRO CORRESPONSALES\"].mean()"
   ]
  },
  {
   "cell_type": "code",
   "execution_count": null,
   "id": "8a716ee7",
   "metadata": {},
   "outputs": [
    {
     "data": {
      "text/plain": [
       "330.03677400024395"
      ]
     },
     "execution_count": 31,
     "metadata": {},
     "output_type": "execute_result"
    }
   ],
   "source": [
    "# Esto nos indica una variabilidad en los corresponsales, donde hay areas con muchos corresponsales y otras en pocos\n",
    "# Desviación Estándar de NRO CORRESPONSALES \n",
    "df[\"NRO CORRESPONSALES\"].std()"
   ]
  },
  {
   "cell_type": "code",
   "execution_count": null,
   "id": "713b1c69",
   "metadata": {},
   "outputs": [
    {
     "data": {
      "text/plain": [
       "0.0"
      ]
     },
     "execution_count": 32,
     "metadata": {},
     "output_type": "execute_result"
    }
   ],
   "source": [
    "# Esto nos indica que hay lugares donde no hay corresponsales (0)\n",
    "# Valor Mínimo de NRO CORRESPONSALES  \n",
    "df[\"NRO CORRESPONSALES\"].min()"
   ]
  },
  {
   "cell_type": "code",
   "execution_count": null,
   "id": "bc70f5b5",
   "metadata": {},
   "outputs": [
    {
     "data": {
      "text/plain": [
       "24242.0"
      ]
     },
     "execution_count": 33,
     "metadata": {},
     "output_type": "execute_result"
    }
   ],
   "source": [
    "# Esto nos indica que hay una alta disponibilidad  de corresponsales en diferentes regiones \n",
    "# Valor Máximo de NRO CORRESPONSALES \n",
    "df[\"NRO CORRESPONSALES\"].max()"
   ]
  },
  {
   "cell_type": "code",
   "execution_count": null,
   "id": "5d3a77cc",
   "metadata": {},
   "outputs": [
    {
     "data": {
      "text/plain": [
       "0.0"
      ]
     },
     "execution_count": 34,
     "metadata": {},
     "output_type": "execute_result"
    }
   ],
   "source": [
    "# Esto nos indica que el 50% de las areas no tiene corresponsales \n",
    "# Mediana de NRO CORRESPONSALES \n",
    "df[\"NRO CORRESPONSALES\"].median()"
   ]
  },
  {
   "cell_type": "code",
   "execution_count": null,
   "id": "99645981",
   "metadata": {},
   "outputs": [
    {
     "data": {
      "text/plain": [
       "0    0.0\n",
       "Name: NRO CORRESPONSALES, dtype: float64"
      ]
     },
     "execution_count": 35,
     "metadata": {},
     "output_type": "execute_result"
    }
   ],
   "source": [
    "# Es nos indica que la mayoria de las regiones no tienen corresponsales \n",
    "# Moda de NRO CORRESPONSALES  \n",
    "df[\"NRO CORRESPONSALES\"].mode()"
   ]
  },
  {
   "cell_type": "code",
   "execution_count": null,
   "id": "8146333e",
   "metadata": {},
   "outputs": [
    {
     "data": {
      "text/plain": [
       "0.0"
      ]
     },
     "execution_count": 36,
     "metadata": {},
     "output_type": "execute_result"
    }
   ],
   "source": [
    "# El 25% de las regiones no tiene corresponsales\n",
    "# Percentil 25% de NRO CORRESPONSALES \n",
    "df[\"NRO CORRESPONSALES\"].quantile(0.25)"
   ]
  },
  {
   "cell_type": "code",
   "execution_count": null,
   "id": "6a0a3a61",
   "metadata": {},
   "outputs": [
    {
     "data": {
      "text/plain": [
       "567288"
      ]
     },
     "execution_count": 37,
     "metadata": {},
     "output_type": "execute_result"
    }
   ],
   "source": [
    "# 567,288 (número de depósitos analizados) del cual se hace un conteo de la columna\n",
    "# Conteo de NRO DEPOSITOS\n",
    "\n",
    "df[\"NRO DEPOSITOS\"].count()"
   ]
  },
  {
   "cell_type": "code",
   "execution_count": null,
   "id": "5f68f45c",
   "metadata": {},
   "outputs": [
    {
     "data": {
      "text/plain": [
       "1610.787332007728"
      ]
     },
     "execution_count": 38,
     "metadata": {},
     "output_type": "execute_result"
    }
   ],
   "source": [
    "# El promedio de los depositos nos indica que hay una cantidad significativa de depositos \n",
    "# Promedio de NRO DEPOSITOS\n",
    " \n",
    "df[\"NRO DEPOSITOS\"].mean()"
   ]
  },
  {
   "cell_type": "code",
   "execution_count": null,
   "id": "800424c5",
   "metadata": {},
   "outputs": [
    {
     "data": {
      "text/plain": [
       "108733.38318471979"
      ]
     },
     "execution_count": 39,
     "metadata": {},
     "output_type": "execute_result"
    }
   ],
   "source": [
    "# La alta desviacíon estandar nos indica una alta variabilidad en el numero de depositos\n",
    "# Desviación Estándar de NRO DEPOSITOS\n",
    "\n",
    "df[\"NRO DEPOSITOS\"].std()"
   ]
  },
  {
   "cell_type": "code",
   "execution_count": null,
   "id": "fc27a61c",
   "metadata": {},
   "outputs": [
    {
     "data": {
      "text/plain": [
       "0.0"
      ]
     },
     "execution_count": 40,
     "metadata": {},
     "output_type": "execute_result"
    }
   ],
   "source": [
    "# Nos indica que hay partes donde no se han realizado depósitos\n",
    "# Valor Mínimo de NRO DEPOSITOS \n",
    "\n",
    "df[\"NRO DEPOSITOS\"].min()"
   ]
  },
  {
   "cell_type": "code",
   "execution_count": null,
   "id": "e314874f",
   "metadata": {},
   "outputs": [
    {
     "data": {
      "text/plain": [
       "34005336.0"
      ]
     },
     "execution_count": 41,
     "metadata": {},
     "output_type": "execute_result"
    }
   ],
   "source": [
    "# Estos no dice que hay lugares donde hay una alta cantidad de depósitos, esto nos indica que algunas partes tiene un acceso amplio a servicios financieros para realizar depósitos\n",
    "# Valor Máximo de NRO DEPOSITOS\n",
    "df[\"NRO DEPOSITOS\"].max()"
   ]
  },
  {
   "cell_type": "code",
   "execution_count": null,
   "id": "85a9b389",
   "metadata": {},
   "outputs": [
    {
     "data": {
      "text/plain": [
       "0.0"
      ]
     },
     "execution_count": 42,
     "metadata": {},
     "output_type": "execute_result"
    }
   ],
   "source": [
    "# Estos nos indica que la mitad de los lugares no tienen depósitos\n",
    "# Mediana de NRO DEPOSITOS\n",
    "\n",
    "df[\"NRO DEPOSITOS\"].median()"
   ]
  },
  {
   "cell_type": "code",
   "execution_count": null,
   "id": "a4d9859a",
   "metadata": {},
   "outputs": [
    {
     "data": {
      "text/plain": [
       "0    0.0\n",
       "Name: NRO DEPOSITOS, dtype: float64"
      ]
     },
     "execution_count": 43,
     "metadata": {},
     "output_type": "execute_result"
    }
   ],
   "source": [
    "# Nos indica que en la mayoria de departamentos no tienen depósitos\n",
    "# Moda de NRO DEPOSITOS \n",
    "df[\"NRO DEPOSITOS\"].mode()"
   ]
  },
  {
   "cell_type": "code",
   "execution_count": null,
   "id": "a5fbbbb2",
   "metadata": {},
   "outputs": [
    {
     "data": {
      "text/plain": [
       "0.0"
      ]
     },
     "execution_count": 44,
     "metadata": {},
     "output_type": "execute_result"
    }
   ],
   "source": [
    "# El primer cuartil nos indica que el 25% de las regiones no tiene depósitos\n",
    "# Percentil 25% de NRO DEPOSITOS \n",
    "\n",
    "df[\"NRO DEPOSITOS\"].quantile(0.25)"
   ]
  },
  {
   "cell_type": "code",
   "execution_count": null,
   "id": "4e46f14b",
   "metadata": {},
   "outputs": [
    {
     "data": {
      "text/plain": [
       "567288"
      ]
     },
     "execution_count": 45,
     "metadata": {},
     "output_type": "execute_result"
    }
   ],
   "source": [
    "# 567,288 (número de retiros analizados) del cual se hace un conteo de la columna\n",
    "# Conteo de NRO RETIROS\n",
    "\n",
    "df[\"NRO RETIROS\"].count()"
   ]
  },
  {
   "cell_type": "code",
   "execution_count": null,
   "id": "264d4674",
   "metadata": {},
   "outputs": [
    {
     "data": {
      "text/plain": [
       "1895.536507029939"
      ]
     },
     "execution_count": 46,
     "metadata": {},
     "output_type": "execute_result"
    }
   ],
   "source": [
    "# Podemos indicar que hay una cantidad significativa de retiros por cada departamento\n",
    "# Promedio de NRO RETIROS \n",
    "\n",
    "df[\"NRO RETIROS\"].mean()\n"
   ]
  },
  {
   "cell_type": "code",
   "execution_count": null,
   "id": "9c9bb791",
   "metadata": {},
   "outputs": [
    {
     "data": {
      "text/plain": [
       "121541.62771519471"
      ]
     },
     "execution_count": 47,
     "metadata": {},
     "output_type": "execute_result"
    }
   ],
   "source": [
    "# La alta desviacion estandar nos indica que hay una gran variabilidad en el acceso a retiros, donde hay lugares teniendo muchos retiros y otras poco\n",
    "# Desviación Estándar de NRO RETIROS\n",
    "df[\"NRO RETIROS\"].std()"
   ]
  },
  {
   "cell_type": "code",
   "execution_count": null,
   "id": "1533efb7",
   "metadata": {},
   "outputs": [
    {
     "data": {
      "text/plain": [
       "0.0"
      ]
     },
     "execution_count": 48,
     "metadata": {},
     "output_type": "execute_result"
    }
   ],
   "source": [
    "# Nos indica que hay lugares donde no se han hecho retiros\n",
    "# Valor Mínimo de NRO RETIROS \n",
    "df[\"NRO RETIROS\"].min()\n"
   ]
  },
  {
   "cell_type": "code",
   "execution_count": null,
   "id": "0b9732f7",
   "metadata": {},
   "outputs": [
    {
     "data": {
      "text/plain": [
       "36799009.0"
      ]
     },
     "execution_count": 49,
     "metadata": {},
     "output_type": "execute_result"
    }
   ],
   "source": [
    "# Esto representa que hay lugares con una gran cantidad de retiros\n",
    "# Valor Máximo de NRO RETIROS\n",
    "df[\"NRO RETIROS\"].max()"
   ]
  },
  {
   "cell_type": "code",
   "execution_count": null,
   "id": "84013b83",
   "metadata": {},
   "outputs": [
    {
     "data": {
      "text/plain": [
       "0    0.0\n",
       "Name: NRO RETIROS, dtype: float64"
      ]
     },
     "execution_count": 50,
     "metadata": {},
     "output_type": "execute_result"
    }
   ],
   "source": [
    "# Esto nos indica que la mayoria de las regiones no tienen retiros\n",
    "# Moda de NRO RETIROS \n",
    "df[\"NRO RETIROS\"].mode()"
   ]
  },
  {
   "cell_type": "code",
   "execution_count": null,
   "id": "2239c9db",
   "metadata": {},
   "outputs": [
    {
     "data": {
      "text/plain": [
       "0.0"
      ]
     },
     "execution_count": 51,
     "metadata": {},
     "output_type": "execute_result"
    }
   ],
   "source": [
    "# El 25% de las regiones no tienen retiros \n",
    "# Percentil 25% de NRO RETIROS \n",
    "df[\"NRO RETIROS\"].quantile(0.25)"
   ]
  },
  {
   "cell_type": "code",
   "execution_count": null,
   "id": "fbcf2bf5",
   "metadata": {},
   "outputs": [
    {
     "data": {
      "text/plain": [
       "567288"
      ]
     },
     "execution_count": 52,
     "metadata": {},
     "output_type": "execute_result"
    }
   ],
   "source": [
    "#número de cuentas de ahorro activas analizadas del cual se hace un conteo de la columna\n",
    "# Conteo de NRO CTA AHORRO ACTIVAS\n",
    "df[\"NRO CTA AHORRO ACTIVAS\"].count()"
   ]
  },
  {
   "cell_type": "code",
   "execution_count": null,
   "id": "24ce539e",
   "metadata": {},
   "outputs": [
    {
     "data": {
      "text/plain": [
       "1697.7576081284992"
      ]
     },
     "execution_count": 53,
     "metadata": {},
     "output_type": "execute_result"
    }
   ],
   "source": [
    "#nos indica que hay 1697.76 de cuentas de ahorro activas\n",
    "# Promedio de NRO CTA AHORRO ACTIVAS \n",
    "df[\"NRO CTA AHORRO ACTIVAS\"].mean()"
   ]
  },
  {
   "cell_type": "code",
   "execution_count": null,
   "id": "24d336c1",
   "metadata": {},
   "outputs": [
    {
     "data": {
      "text/plain": [
       "51997.60329056358"
      ]
     },
     "execution_count": 54,
     "metadata": {},
     "output_type": "execute_result"
    }
   ],
   "source": [
    "# muestra una alta variabilidad en el numero de cuentas de ahorro activas en los departamentos \n",
    "# Desviación Estándar de NRO CTA AHORRO ACTIVAS\n",
    "df[\"NRO CTA AHORRO ACTIVAS\"].std()"
   ]
  },
  {
   "cell_type": "code",
   "execution_count": null,
   "id": "6a0d34b2",
   "metadata": {},
   "outputs": [
    {
     "data": {
      "text/plain": [
       "0.0"
      ]
     },
     "execution_count": 55,
     "metadata": {},
     "output_type": "execute_result"
    }
   ],
   "source": [
    "#Este nos indica que hay departamentos en Colombia donde no se han registrado cuentas de ahorro activas\n",
    "# Valor Mínimo de NRO CTA AHORRO ACTIVAS \n",
    "df[\"NRO CTA AHORRO ACTIVAS\"].min()"
   ]
  },
  {
   "cell_type": "code",
   "execution_count": null,
   "id": "65c7e523",
   "metadata": {},
   "outputs": [
    {
     "data": {
      "text/plain": [
       "0.0"
      ]
     },
     "execution_count": 56,
     "metadata": {},
     "output_type": "execute_result"
    }
   ],
   "source": [
    "# El 50% de los departamentos no hay cuentas de ahorro activas\n",
    "# Mediana de NRO CTA AHORRO ACTIVAS\n",
    "df[\"NRO CTA AHORRO ACTIVAS\"].median()"
   ]
  },
  {
   "cell_type": "code",
   "execution_count": null,
   "id": "f78d3328",
   "metadata": {},
   "outputs": [
    {
     "data": {
      "text/plain": [
       "8696572.0"
      ]
     },
     "execution_count": 57,
     "metadata": {},
     "output_type": "execute_result"
    }
   ],
   "source": [
    "#Esto nos indica que hay departamentos con un numero alto de cuentas de ahorro activas\n",
    "# Valor Máximo de NRO CTA AHORRO ACTIVAS\n",
    "df[\"NRO CTA AHORRO ACTIVAS\"].max()\n"
   ]
  },
  {
   "cell_type": "code",
   "execution_count": null,
   "id": "1aa79237",
   "metadata": {},
   "outputs": [
    {
     "data": {
      "text/plain": [
       "0    0.0\n",
       "Name: NRO CTA AHORRO ACTIVAS, dtype: float64"
      ]
     },
     "execution_count": 58,
     "metadata": {},
     "output_type": "execute_result"
    }
   ],
   "source": [
    "# Esto nos indica que muchos departamentos no tienen cuentas de ahorro activas registradas\n",
    "# Moda de NRO CTA AHORRO ACTIVAS \n",
    "df[\"NRO CTA AHORRO ACTIVAS\"].mode()"
   ]
  },
  {
   "cell_type": "code",
   "execution_count": null,
   "id": "4d43a9d0",
   "metadata": {},
   "outputs": [
    {
     "data": {
      "text/plain": [
       "0.0"
      ]
     },
     "execution_count": 59,
     "metadata": {},
     "output_type": "execute_result"
    }
   ],
   "source": [
    "# El 25% de los departamentos no tiene cuentas de ahorro activas\n",
    "# Percentil 25% de NRO CTA AHORRO ACTIVAS \n",
    "df[\"NRO CTA AHORRO ACTIVAS\"].quantile(0.25)\n"
   ]
  },
  {
   "cell_type": "code",
   "execution_count": null,
   "id": "d3e09834",
   "metadata": {},
   "outputs": [
    {
     "data": {
      "text/plain": [
       "567288"
      ]
     },
     "execution_count": 60,
     "metadata": {},
     "output_type": "execute_result"
    }
   ],
   "source": [
    "# número de cuentas de ahorro de mujeres analizadas del cual se hace un conteo de la columna\n",
    "# Conteo de NRO CTA AHORRO MUJERES \n",
    "df[\"NRO CTA AHORRO MUJERES\"].count()"
   ]
  },
  {
   "cell_type": "code",
   "execution_count": null,
   "id": "ea2e56a9",
   "metadata": {},
   "outputs": [
    {
     "data": {
      "text/plain": [
       "1927.6207455472352"
      ]
     },
     "execution_count": 61,
     "metadata": {},
     "output_type": "execute_result"
    }
   ],
   "source": [
    "# El promedio de 1927.62 cuentas de ahorro activas para mujeres indica que hay una participación significativa de mujeres en el sistema financiero.\n",
    "# Promedio de NRO CTA AHORRO MUJERES \n",
    "df[\"NRO CTA AHORRO MUJERES\"].mean()"
   ]
  },
  {
   "cell_type": "code",
   "execution_count": null,
   "id": "4a9a462f",
   "metadata": {},
   "outputs": [
    {
     "data": {
      "text/plain": [
       "47756.86465441504"
      ]
     },
     "execution_count": 62,
     "metadata": {},
     "output_type": "execute_result"
    }
   ],
   "source": [
    "# Nos indica que hay una gran variabilidad en el numero de cuentas de ahorro activas para mujeres\n",
    "# Desviación Estándar de NRO CTA AHORRO MUJERES\n",
    "df[\"NRO CTA AHORRO MUJERES\"].std()"
   ]
  },
  {
   "cell_type": "code",
   "execution_count": null,
   "id": "1f03eafc",
   "metadata": {},
   "outputs": [
    {
     "data": {
      "text/plain": [
       "0.0"
      ]
     },
     "execution_count": 63,
     "metadata": {},
     "output_type": "execute_result"
    }
   ],
   "source": [
    "# Esto nos indica que hay departamentos en Colombia donde no se ha registrado cuentas de ahorro para mujeres \n",
    "# Valor Mínimo de NRO CTA AHORRO MUJERES \n",
    "df[\"NRO CTA AHORRO MUJERES\"].min()"
   ]
  },
  {
   "cell_type": "code",
   "execution_count": null,
   "id": "83d2ce83",
   "metadata": {},
   "outputs": [
    {
     "data": {
      "text/plain": [
       "0.0"
      ]
     },
     "execution_count": 64,
     "metadata": {},
     "output_type": "execute_result"
    }
   ],
   "source": [
    "# El 50% de los departamentos no tiene cuentas de ahorro para mujeres\n",
    "# Mediana de NRO CTA AHORRO MUJERES\n",
    "df[\"NRO CTA AHORRO MUJERES\"].median()"
   ]
  },
  {
   "cell_type": "code",
   "execution_count": null,
   "id": "f1181c63",
   "metadata": {},
   "outputs": [
    {
     "data": {
      "text/plain": [
       "5437975.0"
      ]
     },
     "execution_count": 65,
     "metadata": {},
     "output_type": "execute_result"
    }
   ],
   "source": [
    "# Esto nos indica que hay departamentos en Colombia con un numero muy alto de cuentas de ahorro para mujeres\n",
    "# Valor Máximo de NRO CTA AHORRO MUJERES\n",
    "df[\"NRO CTA AHORRO MUJERES\"].max()"
   ]
  },
  {
   "cell_type": "code",
   "execution_count": null,
   "id": "e7f0fe94",
   "metadata": {},
   "outputs": [
    {
     "data": {
      "text/plain": [
       "0    0.0\n",
       "Name: NRO CTA AHORRO MUJERES, dtype: float64"
      ]
     },
     "execution_count": 66,
     "metadata": {},
     "output_type": "execute_result"
    }
   ],
   "source": [
    "# Esto nos indica que el valor más frecuente en la columna es 0, esto nos dice que muchos departamentos no tienen cuentas de ahorro para mujeres registradas\n",
    "# Moda de NRO CTA AHORRO MUJERES \n",
    "df[\"NRO CTA AHORRO MUJERES\"].mode()"
   ]
  },
  {
   "cell_type": "code",
   "execution_count": null,
   "id": "88f44c58",
   "metadata": {},
   "outputs": [
    {
     "data": {
      "text/plain": [
       "0.0"
      ]
     },
     "execution_count": 67,
     "metadata": {},
     "output_type": "execute_result"
    }
   ],
   "source": [
    "# El 25% de los departamentos no tiene cuentas de ahorro para mujeres\n",
    "# Percentil 25% de NRO CTA AHORRO MUJERES \n",
    "df[\"NRO CTA AHORRO MUJERES\"].quantile(0.25)"
   ]
  },
  {
   "cell_type": "code",
   "execution_count": null,
   "id": "c7b24355",
   "metadata": {},
   "outputs": [
    {
     "data": {
      "text/plain": [
       "567288"
      ]
     },
     "execution_count": 68,
     "metadata": {},
     "output_type": "execute_result"
    }
   ],
   "source": [
    "# número de cuentas de ahorro de hombres analizadas del cual se hace un conteo de la columna\n",
    "# Conteo de NRO CTA AHORRO HOMBRES\n",
    "df[\"NRO CTA AHORRO HOMBRES\"].count()"
   ]
  },
  {
   "cell_type": "code",
   "execution_count": null,
   "id": "84ec53f6",
   "metadata": {},
   "outputs": [
    {
     "data": {
      "text/plain": [
       "2139.006724097813"
      ]
     },
     "execution_count": 69,
     "metadata": {},
     "output_type": "execute_result"
    }
   ],
   "source": [
    "# Esto nos indica que el promedio en los hombres es mayor al de las mujeres en las cuentas de ahorro\n",
    "# Promedio de NRO CTA AHORRO HOMBRES \n",
    "df[\"NRO CTA AHORRO HOMBRES\"].mean()"
   ]
  },
  {
   "cell_type": "code",
   "execution_count": null,
   "id": "6dce0dcc",
   "metadata": {},
   "outputs": [
    {
     "data": {
      "text/plain": [
       "52710.1977598154"
      ]
     },
     "execution_count": 70,
     "metadata": {},
     "output_type": "execute_result"
    }
   ],
   "source": [
    "# La desviación estándar para hombres es mayor que el de las mujeres, indicando una mayor dispersión en el número de cuentas de ahorro entre los hombres\t\n",
    "# Desviación Estándar de NRO CTA AHORRO HOMBRES\n",
    "df[\"NRO CTA AHORRO HOMBRES\"].std()"
   ]
  },
  {
   "cell_type": "code",
   "execution_count": null,
   "id": "fb154895",
   "metadata": {},
   "outputs": [
    {
     "data": {
      "text/plain": [
       "0.0"
      ]
     },
     "execution_count": 71,
     "metadata": {},
     "output_type": "execute_result"
    }
   ],
   "source": [
    "# Esto nos indica que hay departamentos en Colombia donde no se ha registrado cuentas de ahorro para hombres \n",
    "# Valor Mínimo de NRO CTA AHORRO HOMBRES \n",
    "df[\"NRO CTA AHORRO HOMBRES\"].min()"
   ]
  },
  {
   "cell_type": "code",
   "execution_count": null,
   "id": "91a67903",
   "metadata": {},
   "outputs": [
    {
     "data": {
      "text/plain": [
       "0.0"
      ]
     },
     "execution_count": 72,
     "metadata": {},
     "output_type": "execute_result"
    }
   ],
   "source": [
    "# El 50% de los departamentos no tiene cuentas de ahorro para hombres\n",
    "# Mediana de NRO CTA AHORRO HOMBRES\n",
    "df[\"NRO CTA AHORRO HOMBRES\"].median()"
   ]
  },
  {
   "cell_type": "code",
   "execution_count": null,
   "id": "ddef7646",
   "metadata": {},
   "outputs": [
    {
     "data": {
      "text/plain": [
       "5601486.0"
      ]
     },
     "execution_count": 73,
     "metadata": {},
     "output_type": "execute_result"
    }
   ],
   "source": [
    "# En comparación con las mujeres los hombres tienen un valor maximo superior \n",
    "# Valor Máximo de NRO CTA AHORRO HOMBRES\n",
    "df[\"NRO CTA AHORRO HOMBRES\"].max()\n"
   ]
  },
  {
   "cell_type": "code",
   "execution_count": null,
   "id": "e085fe60",
   "metadata": {},
   "outputs": [
    {
     "data": {
      "text/plain": [
       "0    0.0\n",
       "Name: NRO CTA AHORRO HOMBRES, dtype: float64"
      ]
     },
     "execution_count": 74,
     "metadata": {},
     "output_type": "execute_result"
    }
   ],
   "source": [
    "# Este nos indica que muchos departamentos no tienen cuentas de ahorro para hombres \n",
    "# Moda de NRO CTA AHORRO HOMBRES \n",
    "df[\"NRO CTA AHORRO HOMBRES\"].mode()"
   ]
  },
  {
   "cell_type": "code",
   "execution_count": null,
   "id": "d3001d5e",
   "metadata": {},
   "outputs": [
    {
     "data": {
      "text/plain": [
       "0.0"
      ]
     },
     "execution_count": 75,
     "metadata": {},
     "output_type": "execute_result"
    }
   ],
   "source": [
    "# El 25% de los departamentos no tienen cuentas de ahorro para hombres \n",
    "# Percentil 25% de NRO CTA AHORRO HOMBRES \n",
    "df[\"NRO CTA AHORRO HOMBRES\"].quantile(0.25)"
   ]
  },
  {
   "cell_type": "code",
   "execution_count": null,
   "id": "1c709d65",
   "metadata": {},
   "outputs": [
    {
     "data": {
      "text/plain": [
       "567288"
      ]
     },
     "execution_count": 76,
     "metadata": {},
     "output_type": "execute_result"
    }
   ],
   "source": [
    "# Número de cuentas de ahorro de hombres  analizadas del cual se hace un conteo de la columna\n",
    "# Conteo de NRO CREDITO CONSUMO MUJERES\n",
    "df[\"NRO CREDITO CONSUMO MUJERES\"].count()"
   ]
  },
  {
   "cell_type": "code",
   "execution_count": null,
   "id": "bd333a94",
   "metadata": {},
   "outputs": [
    {
     "data": {
      "text/plain": [
       "994.0962914780499"
      ]
     },
     "execution_count": 77,
     "metadata": {},
     "output_type": "execute_result"
    }
   ],
   "source": [
    "# Nos indica que hay una participación significativa de mujeres en el acceso a creditos de consumo\n",
    "# Promedio de NRO CREDITO CONSUMO MUJERES \n",
    "df[\"NRO CREDITO CONSUMO MUJERES\"].mean()"
   ]
  },
  {
   "cell_type": "code",
   "execution_count": null,
   "id": "fe27c3a8",
   "metadata": {},
   "outputs": [
    {
     "data": {
      "text/plain": [
       "52339.104346209264"
      ]
     },
     "execution_count": 78,
     "metadata": {},
     "output_type": "execute_result"
    }
   ],
   "source": [
    "# La alta desviación estándar nos indica grandes diferencias en el acceso y uso de créditos de consumo entre las mujeres en diferentes departamentos.\n",
    "# Desviación Estándar de NRO CREDITO CONSUMO MUJERES\n",
    "df[\"NRO CREDITO CONSUMO MUJERES\"].std()"
   ]
  },
  {
   "cell_type": "code",
   "execution_count": null,
   "id": "17655e85",
   "metadata": {},
   "outputs": [
    {
     "data": {
      "text/plain": [
       "0.0"
      ]
     },
     "execution_count": 79,
     "metadata": {},
     "output_type": "execute_result"
    }
   ],
   "source": [
    "# Esto nos indica que hay departamentos en Colombia donde no se ha registrado creditos de consumo para mujeres\n",
    "# Valor Mínimo de NRO CREDITO CONSUMO MUJERES \n",
    "df[\"NRO CREDITO CONSUMO MUJERES\"].min()"
   ]
  },
  {
   "cell_type": "code",
   "execution_count": null,
   "id": "35c2379a",
   "metadata": {},
   "outputs": [
    {
     "data": {
      "text/plain": [
       "0.0"
      ]
     },
     "execution_count": 80,
     "metadata": {},
     "output_type": "execute_result"
    }
   ],
   "source": [
    "# Esto nos indica que el 50% de los departamentos no tiene creditos de consumo de mujeres\n",
    "# Mediana de NRO CREDITO CONSUMO MUJERES\n",
    "df[\"NRO CREDITO CONSUMO MUJERES\"].median()"
   ]
  },
  {
   "cell_type": "code",
   "execution_count": null,
   "id": "bd445407",
   "metadata": {},
   "outputs": [
    {
     "data": {
      "text/plain": [
       "7493971.0"
      ]
     },
     "execution_count": 81,
     "metadata": {},
     "output_type": "execute_result"
    }
   ],
   "source": [
    "# Nos indica que hay departamentos que cuentan con un numero muy alto de creditos de consumo para mujeres \n",
    "# Valor Máximo de NRO CREDITO CONSUMO MUJERES\n",
    "df[\"NRO CREDITO CONSUMO MUJERES\"].max()"
   ]
  },
  {
   "cell_type": "code",
   "execution_count": null,
   "id": "37292d1f",
   "metadata": {},
   "outputs": [
    {
     "data": {
      "text/plain": [
       "0    0.0\n",
       "Name: NRO CREDITO CONSUMO MUJERES, dtype: float64"
      ]
     },
     "execution_count": 82,
     "metadata": {},
     "output_type": "execute_result"
    }
   ],
   "source": [
    "# Este nos indica que muchos departamentos no tienen numero de credito de consumo de mujeres\n",
    "# Moda de NRO CREDITO CONSUMO MUJERES \n",
    "df[\"NRO CREDITO CONSUMO MUJERES\"].mode()"
   ]
  },
  {
   "cell_type": "code",
   "execution_count": null,
   "id": "c6aa4607",
   "metadata": {},
   "outputs": [
    {
     "data": {
      "text/plain": [
       "0.0"
      ]
     },
     "execution_count": 83,
     "metadata": {},
     "output_type": "execute_result"
    }
   ],
   "source": [
    "# El primer cuartil indica que, el 25% de los departamentos tienen 0 creditos de consumo para mujeres\n",
    "# Percentil 25% de NRO CREDITO CONSUMO MUJERES \n",
    "df[\"NRO CREDITO CONSUMO MUJERES\"].quantile(0.25)"
   ]
  },
  {
   "cell_type": "code",
   "execution_count": null,
   "id": "0354114e",
   "metadata": {},
   "outputs": [
    {
     "data": {
      "text/plain": [
       "567288"
      ]
     },
     "execution_count": 84,
     "metadata": {},
     "output_type": "execute_result"
    }
   ],
   "source": [
    "# Número de creditos de consumo para hombres analizadas, del cual se hace un conteo de la columna\n",
    "# Conteo de NRO CREDITO CONSUMO HOMBRES\n",
    "df[\"NRO CREDITO CONSUMO HOMBRES\"].count()"
   ]
  },
  {
   "cell_type": "code",
   "execution_count": null,
   "id": "f3d75e01",
   "metadata": {},
   "outputs": [
    {
     "data": {
      "text/plain": [
       "998.1507699792697"
      ]
     },
     "execution_count": 85,
     "metadata": {},
     "output_type": "execute_result"
    }
   ],
   "source": [
    "# Los hombres tienen un promedio mayor de creditos de consumo en comparacion de las mujeres\n",
    "# Promedio de NRO CREDITO CONSUMO HOMBRES \n",
    "df[\"NRO CREDITO CONSUMO HOMBRES\"].mean()"
   ]
  },
  {
   "cell_type": "code",
   "execution_count": null,
   "id": "8c9350d0",
   "metadata": {},
   "outputs": [
    {
     "data": {
      "text/plain": [
       "53107.78077016288"
      ]
     },
     "execution_count": 86,
     "metadata": {},
     "output_type": "execute_result"
    }
   ],
   "source": [
    "# La desviación estándar para hombres es mayor que para mujeres, indicando una mayor dispersión en el número de créditos de consumo entre los hombres\n",
    "# Desviación Estándar de NRO CREDITO CONSUMO HOMBRES\n",
    "df[\"NRO CREDITO CONSUMO HOMBRES\"].std()"
   ]
  },
  {
   "cell_type": "code",
   "execution_count": null,
   "id": "a3d9899c",
   "metadata": {},
   "outputs": [
    {
     "data": {
      "text/plain": [
       "0.0"
      ]
     },
     "execution_count": 87,
     "metadata": {},
     "output_type": "execute_result"
    }
   ],
   "source": [
    "# Tantos las mujeres como los hombres no tienen registrados creditos de consumo \n",
    "# Valor Mínimo de NRO CREDITO CONSUMO HOMBRES \n",
    "df[\"NRO CREDITO CONSUMO HOMBRES\"].min()"
   ]
  },
  {
   "cell_type": "code",
   "execution_count": null,
   "id": "d50409c7",
   "metadata": {},
   "outputs": [
    {
     "data": {
      "text/plain": [
       "0.0"
      ]
     },
     "execution_count": 88,
     "metadata": {},
     "output_type": "execute_result"
    }
   ],
   "source": [
    "# El 50% de los departamentos no tienen creditos de consumo para hombres\n",
    "# Mediana de NRO CREDITO CONSUMO HOMBRES\n",
    "df[\"NRO CREDITO CONSUMO HOMBRES\"].median()"
   ]
  },
  {
   "cell_type": "code",
   "execution_count": null,
   "id": "141e5a51",
   "metadata": {},
   "outputs": [
    {
     "data": {
      "text/plain": [
       "8228890.0"
      ]
     },
     "execution_count": 89,
     "metadata": {},
     "output_type": "execute_result"
    }
   ],
   "source": [
    "# Esto nos indica que hay departamentos que cuentan con un numero muy alto de creditos de consumo para hombres\n",
    "# Valor Máximo de NRO CREDITO CONSUMO HOMBRES\n",
    "df[\"NRO CREDITO CONSUMO HOMBRES\"].max()"
   ]
  },
  {
   "cell_type": "code",
   "execution_count": null,
   "id": "d883adfb",
   "metadata": {},
   "outputs": [
    {
     "data": {
      "text/plain": [
       "0    0.0\n",
       "Name: NRO CREDITO CONSUMO HOMBRES, dtype: float64"
      ]
     },
     "execution_count": 90,
     "metadata": {},
     "output_type": "execute_result"
    }
   ],
   "source": [
    "# Esto nos indica que, la mayoria de hombres no tienen creditos de consumo\n",
    "# Moda de NRO CREDITO CONSUMO HOMBRES \n",
    "df[\"NRO CREDITO CONSUMO HOMBRES\"].mode()"
   ]
  },
  {
   "cell_type": "code",
   "execution_count": null,
   "id": "e6b4b5ac",
   "metadata": {},
   "outputs": [
    {
     "data": {
      "text/plain": [
       "0.0"
      ]
     },
     "execution_count": 91,
     "metadata": {},
     "output_type": "execute_result"
    }
   ],
   "source": [
    "# El 25% de los creditos de consumo para hombres es 0\n",
    "# Percentil 25% de NRO CREDITO CONSUMO HOMBRES \n",
    "df[\"NRO CREDITO CONSUMO HOMBRES\"].quantile(0.25)"
   ]
  },
  {
   "cell_type": "code",
   "execution_count": null,
   "id": "538937b2",
   "metadata": {},
   "outputs": [
    {
     "data": {
      "text/plain": [
       "567288"
      ]
     },
     "execution_count": 92,
     "metadata": {},
     "output_type": "execute_result"
    }
   ],
   "source": [
    "#  Número de creditos de vivienda para mujeres analizadas del cual se hace un conteo de la columna\n",
    "# Conteo de NRO CREDITO VIVIENDA MUJERES\n",
    "df[\"NRO CREDITO VIVIENDA MUJERES\"].count()"
   ]
  },
  {
   "cell_type": "code",
   "execution_count": null,
   "id": "0394792a",
   "metadata": {},
   "outputs": [
    {
     "data": {
      "text/plain": [
       "1.4333971457178718"
      ]
     },
     "execution_count": 93,
     "metadata": {},
     "output_type": "execute_result"
    }
   ],
   "source": [
    "# Un promedio de 1.43 indica que, en la muestra analizada, las mujeres tienen en promedio más de un crédito de vivienda\n",
    "# Promedio de NRO CREDITO VIVIENDA MUJERES \n",
    "df[\"NRO CREDITO VIVIENDA MUJERES\"].mean()"
   ]
  },
  {
   "cell_type": "code",
   "execution_count": null,
   "id": "6bd9d6b6",
   "metadata": {},
   "outputs": [
    {
     "data": {
      "text/plain": [
       "49.38465126140556"
      ]
     },
     "execution_count": 94,
     "metadata": {},
     "output_type": "execute_result"
    }
   ],
   "source": [
    "# Esto nos indica una variabilidad considerable en diferentes departamentos en los creditos de vivienda para mujeres\n",
    "# Desviación Estándar de NRO CREDITO VIVIENDA MUJERES\n",
    "df[\"NRO CREDITO VIVIENDA MUJERES\"].std()"
   ]
  },
  {
   "cell_type": "code",
   "execution_count": null,
   "id": "1b7e1e95",
   "metadata": {},
   "outputs": [
    {
     "data": {
      "text/plain": [
       "0.0"
      ]
     },
     "execution_count": 95,
     "metadata": {},
     "output_type": "execute_result"
    }
   ],
   "source": [
    "# Esto nos indica que hay departamentos donde no han registrado creditos de vivienda para mujeres\n",
    "# Valor Mínimo de NRO CREDITO VIVIENDA MUJERES \n",
    "df[\"NRO CREDITO VIVIENDA MUJERES\"].min()\n"
   ]
  },
  {
   "cell_type": "code",
   "execution_count": null,
   "id": "19e972f1",
   "metadata": {},
   "outputs": [
    {
     "data": {
      "text/plain": [
       "0.0"
      ]
     },
     "execution_count": 96,
     "metadata": {},
     "output_type": "execute_result"
    }
   ],
   "source": [
    "# Esto no indica que, el 50% de los departamentos no tiene creditos de vivienda para mujeres\n",
    "# Mediana de NRO CREDITO VIVIENDA MUJERES\n",
    "df[\"NRO CREDITO VIVIENDA MUJERES\"].median()"
   ]
  },
  {
   "cell_type": "code",
   "execution_count": null,
   "id": "370fc80f",
   "metadata": {},
   "outputs": [
    {
     "data": {
      "text/plain": [
       "10966.0"
      ]
     },
     "execution_count": 97,
     "metadata": {},
     "output_type": "execute_result"
    }
   ],
   "source": [
    "# Esto no dice que algunos departamentos se han registrado una cantidad significante de creditos de vivienda a mujeres\n",
    "# Valor Máximo de NRO CREDITO VIVIENDA MUJERES\n",
    "df[\"NRO CREDITO VIVIENDA MUJERES\"].max()"
   ]
  },
  {
   "cell_type": "code",
   "execution_count": null,
   "id": "189ee24e",
   "metadata": {},
   "outputs": [
    {
     "data": {
      "text/plain": [
       "0    0.0\n",
       "Name: NRO CREDITO VIVIENDA MUJERES, dtype: float64"
      ]
     },
     "execution_count": 98,
     "metadata": {},
     "output_type": "execute_result"
    }
   ],
   "source": [
    "# Indica que en muchos departamentos no se encuentran registrados creditos de vivienda en mujeres\n",
    "# Moda de NRO CREDITO VIVIENDA MUJERES \n",
    "df[\"NRO CREDITO VIVIENDA MUJERES\"].mode()"
   ]
  },
  {
   "cell_type": "code",
   "execution_count": null,
   "id": "c312f712",
   "metadata": {},
   "outputs": [
    {
     "data": {
      "text/plain": [
       "0.0"
      ]
     },
     "execution_count": 99,
     "metadata": {},
     "output_type": "execute_result"
    }
   ],
   "source": [
    "# El 25% de los departamentos no tiene creditos de vivienda para mujeres\n",
    "# Percentil 25% de NRO CREDITO VIVIENDA MUJERES \n",
    "df[\"NRO CREDITO VIVIENDA MUJERES\"].quantile(0.25)"
   ]
  },
  {
   "cell_type": "code",
   "execution_count": null,
   "id": "9947028c",
   "metadata": {},
   "outputs": [
    {
     "data": {
      "text/plain": [
       "567288"
      ]
     },
     "execution_count": 100,
     "metadata": {},
     "output_type": "execute_result"
    }
   ],
   "source": [
    "# Número de creditos de vivienda para hombres analizadas, del cual se hace un conteo de la columna\n",
    "# Conteo de NRO CREDITO VIVIENDA HOMBRES\n",
    "df[\"NRO CREDITO VIVIENDA HOMBRES\"].count()"
   ]
  },
  {
   "cell_type": "code",
   "execution_count": null,
   "id": "7544cf74",
   "metadata": {},
   "outputs": [
    {
     "data": {
      "text/plain": [
       "1.588716842238863"
      ]
     },
     "execution_count": 101,
     "metadata": {},
     "output_type": "execute_result"
    }
   ],
   "source": [
    "# El promedio del número de créditos de vivienda registrado a hombres es 1.59\n",
    "# Promedio de NRO CREDITO VIVIENDA HOMBRES \n",
    "df[\"NRO CREDITO VIVIENDA HOMBRES\"].mean()"
   ]
  },
  {
   "cell_type": "code",
   "execution_count": null,
   "id": "098f586a",
   "metadata": {},
   "outputs": [
    {
     "data": {
      "text/plain": [
       "53.16821782770966"
      ]
     },
     "execution_count": 102,
     "metadata": {},
     "output_type": "execute_result"
    }
   ],
   "source": [
    "# La desviación estándar del número de créditos de vivienda otorgados a hombres es 53.17. Esto indica una variabilidad significativa en los creditos de vivienda para los hombres\n",
    "# Desviación Estándar de NRO CREDITO VIVIENDA HOMBRES\n",
    "df[\"NRO CREDITO VIVIENDA HOMBRES\"].std()"
   ]
  },
  {
   "cell_type": "code",
   "execution_count": null,
   "id": "5c8d72de",
   "metadata": {},
   "outputs": [
    {
     "data": {
      "text/plain": [
       "0.0"
      ]
     },
     "execution_count": 103,
     "metadata": {},
     "output_type": "execute_result"
    }
   ],
   "source": [
    "# Esto nos indica que en algunos departamentos no se han otorgados creditos de vivienda a hombres\n",
    "# Valor Mínimo de NRO CREDITO VIVIENDA HOMBRES \n",
    "df[\"NRO CREDITO VIVIENDA HOMBRES\"].min()"
   ]
  },
  {
   "cell_type": "code",
   "execution_count": null,
   "id": "1947b411",
   "metadata": {},
   "outputs": [
    {
     "data": {
      "text/plain": [
       "0.0"
      ]
     },
     "execution_count": 104,
     "metadata": {},
     "output_type": "execute_result"
    }
   ],
   "source": [
    "# El 50% de los departamentos no se han otorgado credito de vivienda para hombres\n",
    "# Mediana de NRO CREDITO VIVIENDA HOMBRES\n",
    "df[\"NRO CREDITO VIVIENDA HOMBRES\"].median()"
   ]
  },
  {
   "cell_type": "code",
   "execution_count": null,
   "id": "f84b0d23",
   "metadata": {},
   "outputs": [
    {
     "data": {
      "text/plain": [
       "10914.0"
      ]
     },
     "execution_count": 105,
     "metadata": {},
     "output_type": "execute_result"
    }
   ],
   "source": [
    "# Esto indica que en algunos departamentos se han otorgado una cantidad significativa de créditos de vivienda a hombres.\n",
    "# Valor Máximo de NRO CREDITO VIVIENDA HOMBRES\n",
    "df[\"NRO CREDITO VIVIENDA HOMBRES\"].max()"
   ]
  },
  {
   "cell_type": "code",
   "execution_count": null,
   "id": "f036d825",
   "metadata": {},
   "outputs": [
    {
     "data": {
      "text/plain": [
       "0    0.0\n",
       "Name: NRO CREDITO VIVIENDA HOMBRES, dtype: float64"
      ]
     },
     "execution_count": 106,
     "metadata": {},
     "output_type": "execute_result"
    }
   ],
   "source": [
    "# Esto nos dice que en muchos departamentos no se han otorgado créditos de vivienda para hombres.\n",
    "# Moda de NRO CREDITO VIVIENDA HOMBRES \n",
    "df[\"NRO CREDITO VIVIENDA HOMBRES\"].mode()"
   ]
  },
  {
   "cell_type": "code",
   "execution_count": null,
   "id": "9c775d41",
   "metadata": {},
   "outputs": [
    {
     "data": {
      "text/plain": [
       "0.0"
      ]
     },
     "execution_count": 107,
     "metadata": {},
     "output_type": "execute_result"
    }
   ],
   "source": [
    "# El 25% de los departamentos no se ha otorgado creditos de vivienda para hombres\n",
    "# Percentil 25% de NRO CREDITO VIVIENDA HOMBRES \n",
    "df[\"NRO CREDITO VIVIENDA HOMBRES\"].quantile(0.25)"
   ]
  },
  {
   "cell_type": "code",
   "execution_count": 108,
   "id": "5d24dc38",
   "metadata": {},
   "outputs": [
    {
     "data": {
      "text/plain": [
       "array(['ANTIOQUIA', nan, 'ATLANTICO', 'CALDAS', 'BOGOTA', 'BOLIVAR',\n",
       "       'BOYACA', 'CUNDINAMARCA', 'CAQUETA', 'CAUCA', 'CESAR', 'CORDOBA',\n",
       "       'MAGDALENA', 'CHOCO', 'HUILA', 'LA GUAJIRA', 'RISARALDA', 'META',\n",
       "       'NARIﾑO', 'NARIÑO', 'NORTE DE SANTANDER', 'QUINDIO', 'TOLIMA',\n",
       "       'SANTANDER', 'SUCRE', 'VALLE DEL CAUCA', 'ARAUCA', 'CASANARE',\n",
       "       'PUTUMAYO', 'AMAZONAS', 'GUAINIA', 'GUAVIARE', 'VAUPES', 'VICHADA',\n",
       "       'TOTAL NACIONAL', 'CORRESPONSALES TIPO NEGOCIO',\n",
       "       'AGREGADORES DE CORRESPONSALES', 'DEPOSITOS DINERO ELECTRONICO',\n",
       "       'DEPOSITOS DINERO ELECT TRAMITE SIMPLIFI', 'CUENTAS DE AHORRO',\n",
       "       'CUENTAS DE AHORRO TRAMITE SIMPLIFICADO',\n",
       "       'CUENTAS DE AHORRO ELECTRONICAS'], dtype=object)"
      ]
     },
     "execution_count": 108,
     "metadata": {},
     "output_type": "execute_result"
    }
   ],
   "source": [
    "#  valores únicos de la columna DEPARTAMENTO\n",
    "df.DEPARTAMENTO.unique()"
   ]
  },
  {
   "cell_type": "code",
   "execution_count": 109,
   "id": "29241fe2",
   "metadata": {},
   "outputs": [
    {
     "data": {
      "text/plain": [
       "array(['URRAO', 'CONCORDIA', 'ITAGUI', ..., 'TOTAL GUAINÍA',\n",
       "       'TOTAL VAUPÉS', 'SANTA ROSALÍA'], dtype=object)"
      ]
     },
     "execution_count": 109,
     "metadata": {},
     "output_type": "execute_result"
    }
   ],
   "source": [
    "#  valores únicos de la columna MUNICIPIO\n",
    "df.MUNICIPIO.unique()"
   ]
  },
  {
   "cell_type": "code",
   "execution_count": 110,
   "id": "fe51dd6b",
   "metadata": {},
   "outputs": [
    {
     "data": {
      "text/plain": [
       "array(['31/12/2017', nan, '31/03/2018', '30/06/2018', '30/09/2018',\n",
       "       '31/12/2018', '31/03/2019', '30/06/2019', '30/09/2019',\n",
       "       '31/12/2019', '31/03/2020', '30/06/2020', '30/09/2020',\n",
       "       '31/12/2020', '31/03/2021'], dtype=object)"
      ]
     },
     "execution_count": 110,
     "metadata": {},
     "output_type": "execute_result"
    }
   ],
   "source": [
    "#  valores únicos de la columna FECHA DE CORTE\n",
    "df[\"FECHA DE CORTE\"].unique()"
   ]
  },
  {
   "cell_type": "code",
   "execution_count": 111,
   "id": "a1f69030",
   "metadata": {},
   "outputs": [
    {
     "data": {
      "text/plain": [
       "array(['TRANS Y TRAMITES EN CORRESPONSALES', 'CREDITO DE VIVIENDA',\n",
       "       'MICROCREDITO', 'CORRESPONSALES', 'CUENTAS DE AHORRO', nan,\n",
       "       'CREDITO DE CONSUMO', 'MICROCREDITO POR RANGO',\n",
       "       'CUENTAS DE AHORRO ELECTRONICAS', 'CREDITO DE CONSUMO BAJO MONTO'],\n",
       "      dtype=object)"
      ]
     },
     "execution_count": 111,
     "metadata": {},
     "output_type": "execute_result"
    }
   ],
   "source": [
    "#  valores únicos de la columna TIPO\n",
    "df.TIPO.unique()"
   ]
  },
  {
   "cell_type": "code",
   "execution_count": 112,
   "id": "2447213e",
   "metadata": {},
   "outputs": [
    {
     "data": {
      "text/plain": [
       "array(['Banco Davivienda', 'Citibank', 'Banco De Bogota', 'Coopcentral',\n",
       "       'Bancamía S.A.', 'Banagrario', nan, 'Banco Popular',\n",
       "       'Bbva Colombia', 'Bancolombia', 'Mibanco S.A.',\n",
       "       'Banco Caja Social', 'Banco De Occidente', 'Av Villas',\n",
       "       'Banco W S.A.', 'Bancoomeva', 'Banco Falabella S.A.',\n",
       "       'Banco Pichincha S.A.', 'Itau', 'Multibank', 'Banco Gnb Sudameris',\n",
       "       'Finandina', 'Giros & Finanzas C.F.', 'C.A. Credifinanciera Cf',\n",
       "       'Tuya', 'Credifamilia', 'Coltefinanciera', 'Banco Serfinanza S.A.',\n",
       "       'Serfinansa', 'Banco Credifinanciera S.A.', 'Corficolombiana S.A.',\n",
       "       'Rci Colombia S.A.',\n",
       "       'Financiera Pagos Internacionales S.A. Compa\\ue168a De Financiamiento',\n",
       "       'Financiera Juriscoop C.F.', 'Arco Grupo Bancoldex',\n",
       "       'Leasing Corficolombiana', 'Financiera Dann Regional',\n",
       "       'Cooperativa Financiera De Antioquia',\n",
       "       'Jfk Cooperativa Financiera', 'Confiar Cooperativa Financiera',\n",
       "       'Cotrafa Financiera', 'Coofinep Cooperativa Financiera',\n",
       "       'Movii S.A.', 'Pgde', 'Coink S.A.', 'Tecnipagos S.A.',\n",
       "       'Banco Mundo Mujer S.A.', 'Banco Santander', 'Bnp Paribas',\n",
       "       'La Hipotecaria',\n",
       "       'Gm Financial Colombia S.A. Compañía De Financiamiento'],\n",
       "      dtype=object)"
      ]
     },
     "execution_count": 112,
     "metadata": {},
     "output_type": "execute_result"
    }
   ],
   "source": [
    "#  valores únicos de la columna NOMBRE DE LA  ENTIDAD\n",
    "df[\"NOMBRE DE LA  ENTIDAD\"].unique()\n"
   ]
  }
 ],
 "metadata": {
  "kernelspec": {
   "display_name": "Python 3",
   "language": "python",
   "name": "python3"
  },
  "language_info": {
   "codemirror_mode": {
    "name": "ipython",
    "version": 3
   },
   "file_extension": ".py",
   "mimetype": "text/x-python",
   "name": "python",
   "nbconvert_exporter": "python",
   "pygments_lexer": "ipython3",
   "version": "3.12.3"
  }
 },
 "nbformat": 4,
 "nbformat_minor": 5
}
